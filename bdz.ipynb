{
  "nbformat": 4,
  "nbformat_minor": 0,
  "metadata": {
    "colab": {
      "provenance": [],
      "mount_file_id": "1rWs9p3tsXl17lAE-FRPJKzaVWUajxqh-",
      "authorship_tag": "ABX9TyPFbVWBOK52o0tolA1ezm8U",
      "include_colab_link": true
    },
    "kernelspec": {
      "name": "python3",
      "display_name": "Python 3"
    },
    "language_info": {
      "name": "python"
    }
  },
  "cells": [
    {
      "cell_type": "markdown",
      "metadata": {
        "id": "view-in-github",
        "colab_type": "text"
      },
      "source": [
        "<a href=\"https://colab.research.google.com/github/Sereshakash/Bin-Search-Tree/blob/master/bdz.ipynb\" target=\"_parent\"><img src=\"https://colab.research.google.com/assets/colab-badge.svg\" alt=\"Open In Colab\"/></a>"
      ]
    },
    {
      "cell_type": "code",
      "execution_count": null,
      "metadata": {
        "id": "oYLkdgyS3u24"
      },
      "outputs": [],
      "source": [
        "import numpy as np\n",
        "import pandas as pd\n",
        "import scipy.stats as st\n",
        "import matplotlib.pyplot as plt\n",
        "import math\n",
        "import seaborn as sns\n",
        "\n",
        "from statsmodels.stats.weightstats import ztest"
      ]
    },
    {
      "cell_type": "code",
      "source": [
        "#df = pd.read_excel('/content/data_matstat_K5.xls', sheet_name = 3)\n",
        "#df"
      ],
      "metadata": {
        "id": "DCFgN0yWikyf"
      },
      "execution_count": null,
      "outputs": []
    },
    {
      "cell_type": "code",
      "source": [
        "from google.colab import files\n",
        "upload = files.upload()"
      ],
      "metadata": {
        "id": "4vifym8vZT40",
        "colab": {
          "base_uri": "https://localhost:8080/",
          "height": 73
        },
        "outputId": "a3c43885-3216-4196-cd92-9122aad39bd5"
      },
      "execution_count": null,
      "outputs": [
        {
          "output_type": "display_data",
          "data": {
            "text/plain": [
              "<IPython.core.display.HTML object>"
            ],
            "text/html": [
              "\n",
              "     <input type=\"file\" id=\"files-23ef2f42-16de-429d-a6cd-8fa93b109177\" name=\"files[]\" multiple disabled\n",
              "        style=\"border:none\" />\n",
              "     <output id=\"result-23ef2f42-16de-429d-a6cd-8fa93b109177\">\n",
              "      Upload widget is only available when the cell has been executed in the\n",
              "      current browser session. Please rerun this cell to enable.\n",
              "      </output>\n",
              "      <script>// Copyright 2017 Google LLC\n",
              "//\n",
              "// Licensed under the Apache License, Version 2.0 (the \"License\");\n",
              "// you may not use this file except in compliance with the License.\n",
              "// You may obtain a copy of the License at\n",
              "//\n",
              "//      http://www.apache.org/licenses/LICENSE-2.0\n",
              "//\n",
              "// Unless required by applicable law or agreed to in writing, software\n",
              "// distributed under the License is distributed on an \"AS IS\" BASIS,\n",
              "// WITHOUT WARRANTIES OR CONDITIONS OF ANY KIND, either express or implied.\n",
              "// See the License for the specific language governing permissions and\n",
              "// limitations under the License.\n",
              "\n",
              "/**\n",
              " * @fileoverview Helpers for google.colab Python module.\n",
              " */\n",
              "(function(scope) {\n",
              "function span(text, styleAttributes = {}) {\n",
              "  const element = document.createElement('span');\n",
              "  element.textContent = text;\n",
              "  for (const key of Object.keys(styleAttributes)) {\n",
              "    element.style[key] = styleAttributes[key];\n",
              "  }\n",
              "  return element;\n",
              "}\n",
              "\n",
              "// Max number of bytes which will be uploaded at a time.\n",
              "const MAX_PAYLOAD_SIZE = 100 * 1024;\n",
              "\n",
              "function _uploadFiles(inputId, outputId) {\n",
              "  const steps = uploadFilesStep(inputId, outputId);\n",
              "  const outputElement = document.getElementById(outputId);\n",
              "  // Cache steps on the outputElement to make it available for the next call\n",
              "  // to uploadFilesContinue from Python.\n",
              "  outputElement.steps = steps;\n",
              "\n",
              "  return _uploadFilesContinue(outputId);\n",
              "}\n",
              "\n",
              "// This is roughly an async generator (not supported in the browser yet),\n",
              "// where there are multiple asynchronous steps and the Python side is going\n",
              "// to poll for completion of each step.\n",
              "// This uses a Promise to block the python side on completion of each step,\n",
              "// then passes the result of the previous step as the input to the next step.\n",
              "function _uploadFilesContinue(outputId) {\n",
              "  const outputElement = document.getElementById(outputId);\n",
              "  const steps = outputElement.steps;\n",
              "\n",
              "  const next = steps.next(outputElement.lastPromiseValue);\n",
              "  return Promise.resolve(next.value.promise).then((value) => {\n",
              "    // Cache the last promise value to make it available to the next\n",
              "    // step of the generator.\n",
              "    outputElement.lastPromiseValue = value;\n",
              "    return next.value.response;\n",
              "  });\n",
              "}\n",
              "\n",
              "/**\n",
              " * Generator function which is called between each async step of the upload\n",
              " * process.\n",
              " * @param {string} inputId Element ID of the input file picker element.\n",
              " * @param {string} outputId Element ID of the output display.\n",
              " * @return {!Iterable<!Object>} Iterable of next steps.\n",
              " */\n",
              "function* uploadFilesStep(inputId, outputId) {\n",
              "  const inputElement = document.getElementById(inputId);\n",
              "  inputElement.disabled = false;\n",
              "\n",
              "  const outputElement = document.getElementById(outputId);\n",
              "  outputElement.innerHTML = '';\n",
              "\n",
              "  const pickedPromise = new Promise((resolve) => {\n",
              "    inputElement.addEventListener('change', (e) => {\n",
              "      resolve(e.target.files);\n",
              "    });\n",
              "  });\n",
              "\n",
              "  const cancel = document.createElement('button');\n",
              "  inputElement.parentElement.appendChild(cancel);\n",
              "  cancel.textContent = 'Cancel upload';\n",
              "  const cancelPromise = new Promise((resolve) => {\n",
              "    cancel.onclick = () => {\n",
              "      resolve(null);\n",
              "    };\n",
              "  });\n",
              "\n",
              "  // Wait for the user to pick the files.\n",
              "  const files = yield {\n",
              "    promise: Promise.race([pickedPromise, cancelPromise]),\n",
              "    response: {\n",
              "      action: 'starting',\n",
              "    }\n",
              "  };\n",
              "\n",
              "  cancel.remove();\n",
              "\n",
              "  // Disable the input element since further picks are not allowed.\n",
              "  inputElement.disabled = true;\n",
              "\n",
              "  if (!files) {\n",
              "    return {\n",
              "      response: {\n",
              "        action: 'complete',\n",
              "      }\n",
              "    };\n",
              "  }\n",
              "\n",
              "  for (const file of files) {\n",
              "    const li = document.createElement('li');\n",
              "    li.append(span(file.name, {fontWeight: 'bold'}));\n",
              "    li.append(span(\n",
              "        `(${file.type || 'n/a'}) - ${file.size} bytes, ` +\n",
              "        `last modified: ${\n",
              "            file.lastModifiedDate ? file.lastModifiedDate.toLocaleDateString() :\n",
              "                                    'n/a'} - `));\n",
              "    const percent = span('0% done');\n",
              "    li.appendChild(percent);\n",
              "\n",
              "    outputElement.appendChild(li);\n",
              "\n",
              "    const fileDataPromise = new Promise((resolve) => {\n",
              "      const reader = new FileReader();\n",
              "      reader.onload = (e) => {\n",
              "        resolve(e.target.result);\n",
              "      };\n",
              "      reader.readAsArrayBuffer(file);\n",
              "    });\n",
              "    // Wait for the data to be ready.\n",
              "    let fileData = yield {\n",
              "      promise: fileDataPromise,\n",
              "      response: {\n",
              "        action: 'continue',\n",
              "      }\n",
              "    };\n",
              "\n",
              "    // Use a chunked sending to avoid message size limits. See b/62115660.\n",
              "    let position = 0;\n",
              "    do {\n",
              "      const length = Math.min(fileData.byteLength - position, MAX_PAYLOAD_SIZE);\n",
              "      const chunk = new Uint8Array(fileData, position, length);\n",
              "      position += length;\n",
              "\n",
              "      const base64 = btoa(String.fromCharCode.apply(null, chunk));\n",
              "      yield {\n",
              "        response: {\n",
              "          action: 'append',\n",
              "          file: file.name,\n",
              "          data: base64,\n",
              "        },\n",
              "      };\n",
              "\n",
              "      let percentDone = fileData.byteLength === 0 ?\n",
              "          100 :\n",
              "          Math.round((position / fileData.byteLength) * 100);\n",
              "      percent.textContent = `${percentDone}% done`;\n",
              "\n",
              "    } while (position < fileData.byteLength);\n",
              "  }\n",
              "\n",
              "  // All done.\n",
              "  yield {\n",
              "    response: {\n",
              "      action: 'complete',\n",
              "    }\n",
              "  };\n",
              "}\n",
              "\n",
              "scope.google = scope.google || {};\n",
              "scope.google.colab = scope.google.colab || {};\n",
              "scope.google.colab._files = {\n",
              "  _uploadFiles,\n",
              "  _uploadFilesContinue,\n",
              "};\n",
              "})(self);\n",
              "</script> "
            ]
          },
          "metadata": {}
        },
        {
          "output_type": "stream",
          "name": "stdout",
          "text": [
            "Saving data_matstat_K5.xls to data_matstat_K5.xls\n"
          ]
        }
      ]
    },
    {
      "cell_type": "code",
      "source": [
        "df = pd.read_excel(open(\"data_matstat_K5.xls\", \"rb\"), 3)"
      ],
      "metadata": {
        "id": "HifgusGoZ5PR"
      },
      "execution_count": null,
      "outputs": []
    },
    {
      "cell_type": "code",
      "source": [
        "df"
      ],
      "metadata": {
        "colab": {
          "base_uri": "https://localhost:8080/",
          "height": 423
        },
        "id": "16E8i2-DaM0K",
        "outputId": "fbff6bc4-d2b9-4661-d7a7-2b01130d2fbf"
      },
      "execution_count": null,
      "outputs": [
        {
          "output_type": "execute_result",
          "data": {
            "text/plain": [
              "     C1      C2      C3        C4         C5      C6     C7    C8    C9  \\\n",
              "0    64  Female  Former  21.48380      Often  1298.8   57.0   6.3   0.0   \n",
              "1    76  Female   Never  23.87631      Often  1032.5   50.1  15.8   0.0   \n",
              "2    38  Female  Former  20.01080  Not often  2372.3   83.6  19.1  14.1   \n",
              "3    40  Female  Former  25.14062         No  2449.5   97.5  26.5   0.5   \n",
              "4    72  Female   Never  20.98504      Often  1952.1   82.6  16.2   0.0   \n",
              "..   ..     ...     ...       ...        ...     ...    ...   ...   ...   \n",
              "310  46  Female  Former  25.89669         No  2263.6   98.2  19.4   2.6   \n",
              "311  45  Female   Never  23.82703      Often  1841.1   84.2  14.1   2.2   \n",
              "312  49  Female   Never  24.26126      Often  1125.6   44.8  11.9   4.0   \n",
              "313  31  Female  Former  23.45255      Often  2729.6  144.4  13.2   2.2   \n",
              "314  45  Female   Never  26.50808      Often  1627.0   77.4   9.9   0.2   \n",
              "\n",
              "       C10   C11   C12  C13  C14  \n",
              "0    170.3  1945   890  200  915  \n",
              "1     75.8  2653   451  124  727  \n",
              "2    257.9  6321   660  328  721  \n",
              "3    332.6  1061   864  153  615  \n",
              "4    170.8  2863  1209   92  799  \n",
              "..     ...   ...   ...  ...  ...  \n",
              "310  306.5  2572  1261  164  216  \n",
              "311  257.7  1665   465   80  328  \n",
              "312  150.5  6943   520  300  502  \n",
              "313  381.8   741   644  121  684  \n",
              "314  195.6  1242   554  233  826  \n",
              "\n",
              "[315 rows x 14 columns]"
            ],
            "text/html": [
              "\n",
              "  <div id=\"df-94e0cf16-fca5-47f8-835e-c56d3222b26b\" class=\"colab-df-container\">\n",
              "    <div>\n",
              "<style scoped>\n",
              "    .dataframe tbody tr th:only-of-type {\n",
              "        vertical-align: middle;\n",
              "    }\n",
              "\n",
              "    .dataframe tbody tr th {\n",
              "        vertical-align: top;\n",
              "    }\n",
              "\n",
              "    .dataframe thead th {\n",
              "        text-align: right;\n",
              "    }\n",
              "</style>\n",
              "<table border=\"1\" class=\"dataframe\">\n",
              "  <thead>\n",
              "    <tr style=\"text-align: right;\">\n",
              "      <th></th>\n",
              "      <th>C1</th>\n",
              "      <th>C2</th>\n",
              "      <th>C3</th>\n",
              "      <th>C4</th>\n",
              "      <th>C5</th>\n",
              "      <th>C6</th>\n",
              "      <th>C7</th>\n",
              "      <th>C8</th>\n",
              "      <th>C9</th>\n",
              "      <th>C10</th>\n",
              "      <th>C11</th>\n",
              "      <th>C12</th>\n",
              "      <th>C13</th>\n",
              "      <th>C14</th>\n",
              "    </tr>\n",
              "  </thead>\n",
              "  <tbody>\n",
              "    <tr>\n",
              "      <th>0</th>\n",
              "      <td>64</td>\n",
              "      <td>Female</td>\n",
              "      <td>Former</td>\n",
              "      <td>21.48380</td>\n",
              "      <td>Often</td>\n",
              "      <td>1298.8</td>\n",
              "      <td>57.0</td>\n",
              "      <td>6.3</td>\n",
              "      <td>0.0</td>\n",
              "      <td>170.3</td>\n",
              "      <td>1945</td>\n",
              "      <td>890</td>\n",
              "      <td>200</td>\n",
              "      <td>915</td>\n",
              "    </tr>\n",
              "    <tr>\n",
              "      <th>1</th>\n",
              "      <td>76</td>\n",
              "      <td>Female</td>\n",
              "      <td>Never</td>\n",
              "      <td>23.87631</td>\n",
              "      <td>Often</td>\n",
              "      <td>1032.5</td>\n",
              "      <td>50.1</td>\n",
              "      <td>15.8</td>\n",
              "      <td>0.0</td>\n",
              "      <td>75.8</td>\n",
              "      <td>2653</td>\n",
              "      <td>451</td>\n",
              "      <td>124</td>\n",
              "      <td>727</td>\n",
              "    </tr>\n",
              "    <tr>\n",
              "      <th>2</th>\n",
              "      <td>38</td>\n",
              "      <td>Female</td>\n",
              "      <td>Former</td>\n",
              "      <td>20.01080</td>\n",
              "      <td>Not often</td>\n",
              "      <td>2372.3</td>\n",
              "      <td>83.6</td>\n",
              "      <td>19.1</td>\n",
              "      <td>14.1</td>\n",
              "      <td>257.9</td>\n",
              "      <td>6321</td>\n",
              "      <td>660</td>\n",
              "      <td>328</td>\n",
              "      <td>721</td>\n",
              "    </tr>\n",
              "    <tr>\n",
              "      <th>3</th>\n",
              "      <td>40</td>\n",
              "      <td>Female</td>\n",
              "      <td>Former</td>\n",
              "      <td>25.14062</td>\n",
              "      <td>No</td>\n",
              "      <td>2449.5</td>\n",
              "      <td>97.5</td>\n",
              "      <td>26.5</td>\n",
              "      <td>0.5</td>\n",
              "      <td>332.6</td>\n",
              "      <td>1061</td>\n",
              "      <td>864</td>\n",
              "      <td>153</td>\n",
              "      <td>615</td>\n",
              "    </tr>\n",
              "    <tr>\n",
              "      <th>4</th>\n",
              "      <td>72</td>\n",
              "      <td>Female</td>\n",
              "      <td>Never</td>\n",
              "      <td>20.98504</td>\n",
              "      <td>Often</td>\n",
              "      <td>1952.1</td>\n",
              "      <td>82.6</td>\n",
              "      <td>16.2</td>\n",
              "      <td>0.0</td>\n",
              "      <td>170.8</td>\n",
              "      <td>2863</td>\n",
              "      <td>1209</td>\n",
              "      <td>92</td>\n",
              "      <td>799</td>\n",
              "    </tr>\n",
              "    <tr>\n",
              "      <th>...</th>\n",
              "      <td>...</td>\n",
              "      <td>...</td>\n",
              "      <td>...</td>\n",
              "      <td>...</td>\n",
              "      <td>...</td>\n",
              "      <td>...</td>\n",
              "      <td>...</td>\n",
              "      <td>...</td>\n",
              "      <td>...</td>\n",
              "      <td>...</td>\n",
              "      <td>...</td>\n",
              "      <td>...</td>\n",
              "      <td>...</td>\n",
              "      <td>...</td>\n",
              "    </tr>\n",
              "    <tr>\n",
              "      <th>310</th>\n",
              "      <td>46</td>\n",
              "      <td>Female</td>\n",
              "      <td>Former</td>\n",
              "      <td>25.89669</td>\n",
              "      <td>No</td>\n",
              "      <td>2263.6</td>\n",
              "      <td>98.2</td>\n",
              "      <td>19.4</td>\n",
              "      <td>2.6</td>\n",
              "      <td>306.5</td>\n",
              "      <td>2572</td>\n",
              "      <td>1261</td>\n",
              "      <td>164</td>\n",
              "      <td>216</td>\n",
              "    </tr>\n",
              "    <tr>\n",
              "      <th>311</th>\n",
              "      <td>45</td>\n",
              "      <td>Female</td>\n",
              "      <td>Never</td>\n",
              "      <td>23.82703</td>\n",
              "      <td>Often</td>\n",
              "      <td>1841.1</td>\n",
              "      <td>84.2</td>\n",
              "      <td>14.1</td>\n",
              "      <td>2.2</td>\n",
              "      <td>257.7</td>\n",
              "      <td>1665</td>\n",
              "      <td>465</td>\n",
              "      <td>80</td>\n",
              "      <td>328</td>\n",
              "    </tr>\n",
              "    <tr>\n",
              "      <th>312</th>\n",
              "      <td>49</td>\n",
              "      <td>Female</td>\n",
              "      <td>Never</td>\n",
              "      <td>24.26126</td>\n",
              "      <td>Often</td>\n",
              "      <td>1125.6</td>\n",
              "      <td>44.8</td>\n",
              "      <td>11.9</td>\n",
              "      <td>4.0</td>\n",
              "      <td>150.5</td>\n",
              "      <td>6943</td>\n",
              "      <td>520</td>\n",
              "      <td>300</td>\n",
              "      <td>502</td>\n",
              "    </tr>\n",
              "    <tr>\n",
              "      <th>313</th>\n",
              "      <td>31</td>\n",
              "      <td>Female</td>\n",
              "      <td>Former</td>\n",
              "      <td>23.45255</td>\n",
              "      <td>Often</td>\n",
              "      <td>2729.6</td>\n",
              "      <td>144.4</td>\n",
              "      <td>13.2</td>\n",
              "      <td>2.2</td>\n",
              "      <td>381.8</td>\n",
              "      <td>741</td>\n",
              "      <td>644</td>\n",
              "      <td>121</td>\n",
              "      <td>684</td>\n",
              "    </tr>\n",
              "    <tr>\n",
              "      <th>314</th>\n",
              "      <td>45</td>\n",
              "      <td>Female</td>\n",
              "      <td>Never</td>\n",
              "      <td>26.50808</td>\n",
              "      <td>Often</td>\n",
              "      <td>1627.0</td>\n",
              "      <td>77.4</td>\n",
              "      <td>9.9</td>\n",
              "      <td>0.2</td>\n",
              "      <td>195.6</td>\n",
              "      <td>1242</td>\n",
              "      <td>554</td>\n",
              "      <td>233</td>\n",
              "      <td>826</td>\n",
              "    </tr>\n",
              "  </tbody>\n",
              "</table>\n",
              "<p>315 rows × 14 columns</p>\n",
              "</div>\n",
              "    <div class=\"colab-df-buttons\">\n",
              "\n",
              "  <div class=\"colab-df-container\">\n",
              "    <button class=\"colab-df-convert\" onclick=\"convertToInteractive('df-94e0cf16-fca5-47f8-835e-c56d3222b26b')\"\n",
              "            title=\"Convert this dataframe to an interactive table.\"\n",
              "            style=\"display:none;\">\n",
              "\n",
              "  <svg xmlns=\"http://www.w3.org/2000/svg\" height=\"24px\" viewBox=\"0 -960 960 960\">\n",
              "    <path d=\"M120-120v-720h720v720H120Zm60-500h600v-160H180v160Zm220 220h160v-160H400v160Zm0 220h160v-160H400v160ZM180-400h160v-160H180v160Zm440 0h160v-160H620v160ZM180-180h160v-160H180v160Zm440 0h160v-160H620v160Z\"/>\n",
              "  </svg>\n",
              "    </button>\n",
              "\n",
              "  <style>\n",
              "    .colab-df-container {\n",
              "      display:flex;\n",
              "      gap: 12px;\n",
              "    }\n",
              "\n",
              "    .colab-df-convert {\n",
              "      background-color: #E8F0FE;\n",
              "      border: none;\n",
              "      border-radius: 50%;\n",
              "      cursor: pointer;\n",
              "      display: none;\n",
              "      fill: #1967D2;\n",
              "      height: 32px;\n",
              "      padding: 0 0 0 0;\n",
              "      width: 32px;\n",
              "    }\n",
              "\n",
              "    .colab-df-convert:hover {\n",
              "      background-color: #E2EBFA;\n",
              "      box-shadow: 0px 1px 2px rgba(60, 64, 67, 0.3), 0px 1px 3px 1px rgba(60, 64, 67, 0.15);\n",
              "      fill: #174EA6;\n",
              "    }\n",
              "\n",
              "    .colab-df-buttons div {\n",
              "      margin-bottom: 4px;\n",
              "    }\n",
              "\n",
              "    [theme=dark] .colab-df-convert {\n",
              "      background-color: #3B4455;\n",
              "      fill: #D2E3FC;\n",
              "    }\n",
              "\n",
              "    [theme=dark] .colab-df-convert:hover {\n",
              "      background-color: #434B5C;\n",
              "      box-shadow: 0px 1px 3px 1px rgba(0, 0, 0, 0.15);\n",
              "      filter: drop-shadow(0px 1px 2px rgba(0, 0, 0, 0.3));\n",
              "      fill: #FFFFFF;\n",
              "    }\n",
              "  </style>\n",
              "\n",
              "    <script>\n",
              "      const buttonEl =\n",
              "        document.querySelector('#df-94e0cf16-fca5-47f8-835e-c56d3222b26b button.colab-df-convert');\n",
              "      buttonEl.style.display =\n",
              "        google.colab.kernel.accessAllowed ? 'block' : 'none';\n",
              "\n",
              "      async function convertToInteractive(key) {\n",
              "        const element = document.querySelector('#df-94e0cf16-fca5-47f8-835e-c56d3222b26b');\n",
              "        const dataTable =\n",
              "          await google.colab.kernel.invokeFunction('convertToInteractive',\n",
              "                                                    [key], {});\n",
              "        if (!dataTable) return;\n",
              "\n",
              "        const docLinkHtml = 'Like what you see? Visit the ' +\n",
              "          '<a target=\"_blank\" href=https://colab.research.google.com/notebooks/data_table.ipynb>data table notebook</a>'\n",
              "          + ' to learn more about interactive tables.';\n",
              "        element.innerHTML = '';\n",
              "        dataTable['output_type'] = 'display_data';\n",
              "        await google.colab.output.renderOutput(dataTable, element);\n",
              "        const docLink = document.createElement('div');\n",
              "        docLink.innerHTML = docLinkHtml;\n",
              "        element.appendChild(docLink);\n",
              "      }\n",
              "    </script>\n",
              "  </div>\n",
              "\n",
              "\n",
              "<div id=\"df-3b52cd7f-7fda-43ab-bb56-5b6377517c05\">\n",
              "  <button class=\"colab-df-quickchart\" onclick=\"quickchart('df-3b52cd7f-7fda-43ab-bb56-5b6377517c05')\"\n",
              "            title=\"Suggest charts\"\n",
              "            style=\"display:none;\">\n",
              "\n",
              "<svg xmlns=\"http://www.w3.org/2000/svg\" height=\"24px\"viewBox=\"0 0 24 24\"\n",
              "     width=\"24px\">\n",
              "    <g>\n",
              "        <path d=\"M19 3H5c-1.1 0-2 .9-2 2v14c0 1.1.9 2 2 2h14c1.1 0 2-.9 2-2V5c0-1.1-.9-2-2-2zM9 17H7v-7h2v7zm4 0h-2V7h2v10zm4 0h-2v-4h2v4z\"/>\n",
              "    </g>\n",
              "</svg>\n",
              "  </button>\n",
              "\n",
              "<style>\n",
              "  .colab-df-quickchart {\n",
              "      --bg-color: #E8F0FE;\n",
              "      --fill-color: #1967D2;\n",
              "      --hover-bg-color: #E2EBFA;\n",
              "      --hover-fill-color: #174EA6;\n",
              "      --disabled-fill-color: #AAA;\n",
              "      --disabled-bg-color: #DDD;\n",
              "  }\n",
              "\n",
              "  [theme=dark] .colab-df-quickchart {\n",
              "      --bg-color: #3B4455;\n",
              "      --fill-color: #D2E3FC;\n",
              "      --hover-bg-color: #434B5C;\n",
              "      --hover-fill-color: #FFFFFF;\n",
              "      --disabled-bg-color: #3B4455;\n",
              "      --disabled-fill-color: #666;\n",
              "  }\n",
              "\n",
              "  .colab-df-quickchart {\n",
              "    background-color: var(--bg-color);\n",
              "    border: none;\n",
              "    border-radius: 50%;\n",
              "    cursor: pointer;\n",
              "    display: none;\n",
              "    fill: var(--fill-color);\n",
              "    height: 32px;\n",
              "    padding: 0;\n",
              "    width: 32px;\n",
              "  }\n",
              "\n",
              "  .colab-df-quickchart:hover {\n",
              "    background-color: var(--hover-bg-color);\n",
              "    box-shadow: 0 1px 2px rgba(60, 64, 67, 0.3), 0 1px 3px 1px rgba(60, 64, 67, 0.15);\n",
              "    fill: var(--button-hover-fill-color);\n",
              "  }\n",
              "\n",
              "  .colab-df-quickchart-complete:disabled,\n",
              "  .colab-df-quickchart-complete:disabled:hover {\n",
              "    background-color: var(--disabled-bg-color);\n",
              "    fill: var(--disabled-fill-color);\n",
              "    box-shadow: none;\n",
              "  }\n",
              "\n",
              "  .colab-df-spinner {\n",
              "    border: 2px solid var(--fill-color);\n",
              "    border-color: transparent;\n",
              "    border-bottom-color: var(--fill-color);\n",
              "    animation:\n",
              "      spin 1s steps(1) infinite;\n",
              "  }\n",
              "\n",
              "  @keyframes spin {\n",
              "    0% {\n",
              "      border-color: transparent;\n",
              "      border-bottom-color: var(--fill-color);\n",
              "      border-left-color: var(--fill-color);\n",
              "    }\n",
              "    20% {\n",
              "      border-color: transparent;\n",
              "      border-left-color: var(--fill-color);\n",
              "      border-top-color: var(--fill-color);\n",
              "    }\n",
              "    30% {\n",
              "      border-color: transparent;\n",
              "      border-left-color: var(--fill-color);\n",
              "      border-top-color: var(--fill-color);\n",
              "      border-right-color: var(--fill-color);\n",
              "    }\n",
              "    40% {\n",
              "      border-color: transparent;\n",
              "      border-right-color: var(--fill-color);\n",
              "      border-top-color: var(--fill-color);\n",
              "    }\n",
              "    60% {\n",
              "      border-color: transparent;\n",
              "      border-right-color: var(--fill-color);\n",
              "    }\n",
              "    80% {\n",
              "      border-color: transparent;\n",
              "      border-right-color: var(--fill-color);\n",
              "      border-bottom-color: var(--fill-color);\n",
              "    }\n",
              "    90% {\n",
              "      border-color: transparent;\n",
              "      border-bottom-color: var(--fill-color);\n",
              "    }\n",
              "  }\n",
              "</style>\n",
              "\n",
              "  <script>\n",
              "    async function quickchart(key) {\n",
              "      const quickchartButtonEl =\n",
              "        document.querySelector('#' + key + ' button');\n",
              "      quickchartButtonEl.disabled = true;  // To prevent multiple clicks.\n",
              "      quickchartButtonEl.classList.add('colab-df-spinner');\n",
              "      try {\n",
              "        const charts = await google.colab.kernel.invokeFunction(\n",
              "            'suggestCharts', [key], {});\n",
              "      } catch (error) {\n",
              "        console.error('Error during call to suggestCharts:', error);\n",
              "      }\n",
              "      quickchartButtonEl.classList.remove('colab-df-spinner');\n",
              "      quickchartButtonEl.classList.add('colab-df-quickchart-complete');\n",
              "    }\n",
              "    (() => {\n",
              "      let quickchartButtonEl =\n",
              "        document.querySelector('#df-3b52cd7f-7fda-43ab-bb56-5b6377517c05 button');\n",
              "      quickchartButtonEl.style.display =\n",
              "        google.colab.kernel.accessAllowed ? 'block' : 'none';\n",
              "    })();\n",
              "  </script>\n",
              "</div>\n",
              "    </div>\n",
              "  </div>\n"
            ]
          },
          "metadata": {},
          "execution_count": 6
        }
      ]
    },
    {
      "cell_type": "code",
      "source": [
        "m1 = df.C6\n",
        "m1"
      ],
      "metadata": {
        "colab": {
          "base_uri": "https://localhost:8080/"
        },
        "id": "KK7u2BAHaWzn",
        "outputId": "93ccdd97-7674-4071-9178-eefb789801fa"
      },
      "execution_count": null,
      "outputs": [
        {
          "output_type": "execute_result",
          "data": {
            "text/plain": [
              "0      1298.8\n",
              "1      1032.5\n",
              "2      2372.3\n",
              "3      2449.5\n",
              "4      1952.1\n",
              "        ...  \n",
              "310    2263.6\n",
              "311    1841.1\n",
              "312    1125.6\n",
              "313    2729.6\n",
              "314    1627.0\n",
              "Name: C6, Length: 315, dtype: float64"
            ]
          },
          "metadata": {},
          "execution_count": 7
        }
      ]
    },
    {
      "cell_type": "code",
      "source": [
        "df.describe()"
      ],
      "metadata": {
        "colab": {
          "base_uri": "https://localhost:8080/",
          "height": 300
        },
        "id": "le-hYmCYWR0E",
        "outputId": "70d6a46a-21c3-4e40-db99-035b5eb1f332"
      },
      "execution_count": null,
      "outputs": [
        {
          "output_type": "execute_result",
          "data": {
            "text/plain": [
              "               C1          C4           C6          C7          C8  \\\n",
              "count  315.000000  315.000000   315.000000  315.000000  315.000000   \n",
              "mean    50.146032   26.157374  1796.654603   77.033333   12.788571   \n",
              "std     14.575226    6.013550   680.347435   33.829443    5.330192   \n",
              "min     19.000000   16.331140   445.200000   14.400000    3.100000   \n",
              "25%     39.000000   21.799715  1338.000000   53.950000    9.150000   \n",
              "50%     48.000000   24.735250  1666.800000   72.900000   12.100000   \n",
              "75%     62.500000   28.853415  2100.450000   95.250000   15.600000   \n",
              "max     83.000000   50.403330  6662.200000  235.900000   36.800000   \n",
              "\n",
              "               C9         C10          C11          C12          C13  \\\n",
              "count  315.000000  315.000000   315.000000   315.000000   315.000000   \n",
              "mean     3.279365  242.460635  2185.603175   832.714286   189.892063   \n",
              "std     12.322880  131.991614  1473.886547   589.289030   183.000803   \n",
              "min      0.000000   37.700000   214.000000    30.000000     0.000000   \n",
              "25%      0.000000  155.000000  1116.000000   480.000000    90.000000   \n",
              "50%      0.300000  206.300000  1802.000000   707.000000   140.000000   \n",
              "75%      3.200000  308.850000  2836.000000  1037.000000   230.000000   \n",
              "max    203.000000  900.700000  9642.000000  6901.000000  1415.000000   \n",
              "\n",
              "               C14  \n",
              "count   315.000000  \n",
              "mean    602.790476  \n",
              "std     208.895474  \n",
              "min     179.000000  \n",
              "25%     466.000000  \n",
              "50%     566.000000  \n",
              "75%     716.000000  \n",
              "max    1727.000000  "
            ],
            "text/html": [
              "\n",
              "  <div id=\"df-840bd941-0e3a-4844-85bf-60f16c941d3a\" class=\"colab-df-container\">\n",
              "    <div>\n",
              "<style scoped>\n",
              "    .dataframe tbody tr th:only-of-type {\n",
              "        vertical-align: middle;\n",
              "    }\n",
              "\n",
              "    .dataframe tbody tr th {\n",
              "        vertical-align: top;\n",
              "    }\n",
              "\n",
              "    .dataframe thead th {\n",
              "        text-align: right;\n",
              "    }\n",
              "</style>\n",
              "<table border=\"1\" class=\"dataframe\">\n",
              "  <thead>\n",
              "    <tr style=\"text-align: right;\">\n",
              "      <th></th>\n",
              "      <th>C1</th>\n",
              "      <th>C4</th>\n",
              "      <th>C6</th>\n",
              "      <th>C7</th>\n",
              "      <th>C8</th>\n",
              "      <th>C9</th>\n",
              "      <th>C10</th>\n",
              "      <th>C11</th>\n",
              "      <th>C12</th>\n",
              "      <th>C13</th>\n",
              "      <th>C14</th>\n",
              "    </tr>\n",
              "  </thead>\n",
              "  <tbody>\n",
              "    <tr>\n",
              "      <th>count</th>\n",
              "      <td>315.000000</td>\n",
              "      <td>315.000000</td>\n",
              "      <td>315.000000</td>\n",
              "      <td>315.000000</td>\n",
              "      <td>315.000000</td>\n",
              "      <td>315.000000</td>\n",
              "      <td>315.000000</td>\n",
              "      <td>315.000000</td>\n",
              "      <td>315.000000</td>\n",
              "      <td>315.000000</td>\n",
              "      <td>315.000000</td>\n",
              "    </tr>\n",
              "    <tr>\n",
              "      <th>mean</th>\n",
              "      <td>50.146032</td>\n",
              "      <td>26.157374</td>\n",
              "      <td>1796.654603</td>\n",
              "      <td>77.033333</td>\n",
              "      <td>12.788571</td>\n",
              "      <td>3.279365</td>\n",
              "      <td>242.460635</td>\n",
              "      <td>2185.603175</td>\n",
              "      <td>832.714286</td>\n",
              "      <td>189.892063</td>\n",
              "      <td>602.790476</td>\n",
              "    </tr>\n",
              "    <tr>\n",
              "      <th>std</th>\n",
              "      <td>14.575226</td>\n",
              "      <td>6.013550</td>\n",
              "      <td>680.347435</td>\n",
              "      <td>33.829443</td>\n",
              "      <td>5.330192</td>\n",
              "      <td>12.322880</td>\n",
              "      <td>131.991614</td>\n",
              "      <td>1473.886547</td>\n",
              "      <td>589.289030</td>\n",
              "      <td>183.000803</td>\n",
              "      <td>208.895474</td>\n",
              "    </tr>\n",
              "    <tr>\n",
              "      <th>min</th>\n",
              "      <td>19.000000</td>\n",
              "      <td>16.331140</td>\n",
              "      <td>445.200000</td>\n",
              "      <td>14.400000</td>\n",
              "      <td>3.100000</td>\n",
              "      <td>0.000000</td>\n",
              "      <td>37.700000</td>\n",
              "      <td>214.000000</td>\n",
              "      <td>30.000000</td>\n",
              "      <td>0.000000</td>\n",
              "      <td>179.000000</td>\n",
              "    </tr>\n",
              "    <tr>\n",
              "      <th>25%</th>\n",
              "      <td>39.000000</td>\n",
              "      <td>21.799715</td>\n",
              "      <td>1338.000000</td>\n",
              "      <td>53.950000</td>\n",
              "      <td>9.150000</td>\n",
              "      <td>0.000000</td>\n",
              "      <td>155.000000</td>\n",
              "      <td>1116.000000</td>\n",
              "      <td>480.000000</td>\n",
              "      <td>90.000000</td>\n",
              "      <td>466.000000</td>\n",
              "    </tr>\n",
              "    <tr>\n",
              "      <th>50%</th>\n",
              "      <td>48.000000</td>\n",
              "      <td>24.735250</td>\n",
              "      <td>1666.800000</td>\n",
              "      <td>72.900000</td>\n",
              "      <td>12.100000</td>\n",
              "      <td>0.300000</td>\n",
              "      <td>206.300000</td>\n",
              "      <td>1802.000000</td>\n",
              "      <td>707.000000</td>\n",
              "      <td>140.000000</td>\n",
              "      <td>566.000000</td>\n",
              "    </tr>\n",
              "    <tr>\n",
              "      <th>75%</th>\n",
              "      <td>62.500000</td>\n",
              "      <td>28.853415</td>\n",
              "      <td>2100.450000</td>\n",
              "      <td>95.250000</td>\n",
              "      <td>15.600000</td>\n",
              "      <td>3.200000</td>\n",
              "      <td>308.850000</td>\n",
              "      <td>2836.000000</td>\n",
              "      <td>1037.000000</td>\n",
              "      <td>230.000000</td>\n",
              "      <td>716.000000</td>\n",
              "    </tr>\n",
              "    <tr>\n",
              "      <th>max</th>\n",
              "      <td>83.000000</td>\n",
              "      <td>50.403330</td>\n",
              "      <td>6662.200000</td>\n",
              "      <td>235.900000</td>\n",
              "      <td>36.800000</td>\n",
              "      <td>203.000000</td>\n",
              "      <td>900.700000</td>\n",
              "      <td>9642.000000</td>\n",
              "      <td>6901.000000</td>\n",
              "      <td>1415.000000</td>\n",
              "      <td>1727.000000</td>\n",
              "    </tr>\n",
              "  </tbody>\n",
              "</table>\n",
              "</div>\n",
              "    <div class=\"colab-df-buttons\">\n",
              "\n",
              "  <div class=\"colab-df-container\">\n",
              "    <button class=\"colab-df-convert\" onclick=\"convertToInteractive('df-840bd941-0e3a-4844-85bf-60f16c941d3a')\"\n",
              "            title=\"Convert this dataframe to an interactive table.\"\n",
              "            style=\"display:none;\">\n",
              "\n",
              "  <svg xmlns=\"http://www.w3.org/2000/svg\" height=\"24px\" viewBox=\"0 -960 960 960\">\n",
              "    <path d=\"M120-120v-720h720v720H120Zm60-500h600v-160H180v160Zm220 220h160v-160H400v160Zm0 220h160v-160H400v160ZM180-400h160v-160H180v160Zm440 0h160v-160H620v160ZM180-180h160v-160H180v160Zm440 0h160v-160H620v160Z\"/>\n",
              "  </svg>\n",
              "    </button>\n",
              "\n",
              "  <style>\n",
              "    .colab-df-container {\n",
              "      display:flex;\n",
              "      gap: 12px;\n",
              "    }\n",
              "\n",
              "    .colab-df-convert {\n",
              "      background-color: #E8F0FE;\n",
              "      border: none;\n",
              "      border-radius: 50%;\n",
              "      cursor: pointer;\n",
              "      display: none;\n",
              "      fill: #1967D2;\n",
              "      height: 32px;\n",
              "      padding: 0 0 0 0;\n",
              "      width: 32px;\n",
              "    }\n",
              "\n",
              "    .colab-df-convert:hover {\n",
              "      background-color: #E2EBFA;\n",
              "      box-shadow: 0px 1px 2px rgba(60, 64, 67, 0.3), 0px 1px 3px 1px rgba(60, 64, 67, 0.15);\n",
              "      fill: #174EA6;\n",
              "    }\n",
              "\n",
              "    .colab-df-buttons div {\n",
              "      margin-bottom: 4px;\n",
              "    }\n",
              "\n",
              "    [theme=dark] .colab-df-convert {\n",
              "      background-color: #3B4455;\n",
              "      fill: #D2E3FC;\n",
              "    }\n",
              "\n",
              "    [theme=dark] .colab-df-convert:hover {\n",
              "      background-color: #434B5C;\n",
              "      box-shadow: 0px 1px 3px 1px rgba(0, 0, 0, 0.15);\n",
              "      filter: drop-shadow(0px 1px 2px rgba(0, 0, 0, 0.3));\n",
              "      fill: #FFFFFF;\n",
              "    }\n",
              "  </style>\n",
              "\n",
              "    <script>\n",
              "      const buttonEl =\n",
              "        document.querySelector('#df-840bd941-0e3a-4844-85bf-60f16c941d3a button.colab-df-convert');\n",
              "      buttonEl.style.display =\n",
              "        google.colab.kernel.accessAllowed ? 'block' : 'none';\n",
              "\n",
              "      async function convertToInteractive(key) {\n",
              "        const element = document.querySelector('#df-840bd941-0e3a-4844-85bf-60f16c941d3a');\n",
              "        const dataTable =\n",
              "          await google.colab.kernel.invokeFunction('convertToInteractive',\n",
              "                                                    [key], {});\n",
              "        if (!dataTable) return;\n",
              "\n",
              "        const docLinkHtml = 'Like what you see? Visit the ' +\n",
              "          '<a target=\"_blank\" href=https://colab.research.google.com/notebooks/data_table.ipynb>data table notebook</a>'\n",
              "          + ' to learn more about interactive tables.';\n",
              "        element.innerHTML = '';\n",
              "        dataTable['output_type'] = 'display_data';\n",
              "        await google.colab.output.renderOutput(dataTable, element);\n",
              "        const docLink = document.createElement('div');\n",
              "        docLink.innerHTML = docLinkHtml;\n",
              "        element.appendChild(docLink);\n",
              "      }\n",
              "    </script>\n",
              "  </div>\n",
              "\n",
              "\n",
              "<div id=\"df-a2d1609b-0729-4a99-b2ae-200ab99b3039\">\n",
              "  <button class=\"colab-df-quickchart\" onclick=\"quickchart('df-a2d1609b-0729-4a99-b2ae-200ab99b3039')\"\n",
              "            title=\"Suggest charts\"\n",
              "            style=\"display:none;\">\n",
              "\n",
              "<svg xmlns=\"http://www.w3.org/2000/svg\" height=\"24px\"viewBox=\"0 0 24 24\"\n",
              "     width=\"24px\">\n",
              "    <g>\n",
              "        <path d=\"M19 3H5c-1.1 0-2 .9-2 2v14c0 1.1.9 2 2 2h14c1.1 0 2-.9 2-2V5c0-1.1-.9-2-2-2zM9 17H7v-7h2v7zm4 0h-2V7h2v10zm4 0h-2v-4h2v4z\"/>\n",
              "    </g>\n",
              "</svg>\n",
              "  </button>\n",
              "\n",
              "<style>\n",
              "  .colab-df-quickchart {\n",
              "      --bg-color: #E8F0FE;\n",
              "      --fill-color: #1967D2;\n",
              "      --hover-bg-color: #E2EBFA;\n",
              "      --hover-fill-color: #174EA6;\n",
              "      --disabled-fill-color: #AAA;\n",
              "      --disabled-bg-color: #DDD;\n",
              "  }\n",
              "\n",
              "  [theme=dark] .colab-df-quickchart {\n",
              "      --bg-color: #3B4455;\n",
              "      --fill-color: #D2E3FC;\n",
              "      --hover-bg-color: #434B5C;\n",
              "      --hover-fill-color: #FFFFFF;\n",
              "      --disabled-bg-color: #3B4455;\n",
              "      --disabled-fill-color: #666;\n",
              "  }\n",
              "\n",
              "  .colab-df-quickchart {\n",
              "    background-color: var(--bg-color);\n",
              "    border: none;\n",
              "    border-radius: 50%;\n",
              "    cursor: pointer;\n",
              "    display: none;\n",
              "    fill: var(--fill-color);\n",
              "    height: 32px;\n",
              "    padding: 0;\n",
              "    width: 32px;\n",
              "  }\n",
              "\n",
              "  .colab-df-quickchart:hover {\n",
              "    background-color: var(--hover-bg-color);\n",
              "    box-shadow: 0 1px 2px rgba(60, 64, 67, 0.3), 0 1px 3px 1px rgba(60, 64, 67, 0.15);\n",
              "    fill: var(--button-hover-fill-color);\n",
              "  }\n",
              "\n",
              "  .colab-df-quickchart-complete:disabled,\n",
              "  .colab-df-quickchart-complete:disabled:hover {\n",
              "    background-color: var(--disabled-bg-color);\n",
              "    fill: var(--disabled-fill-color);\n",
              "    box-shadow: none;\n",
              "  }\n",
              "\n",
              "  .colab-df-spinner {\n",
              "    border: 2px solid var(--fill-color);\n",
              "    border-color: transparent;\n",
              "    border-bottom-color: var(--fill-color);\n",
              "    animation:\n",
              "      spin 1s steps(1) infinite;\n",
              "  }\n",
              "\n",
              "  @keyframes spin {\n",
              "    0% {\n",
              "      border-color: transparent;\n",
              "      border-bottom-color: var(--fill-color);\n",
              "      border-left-color: var(--fill-color);\n",
              "    }\n",
              "    20% {\n",
              "      border-color: transparent;\n",
              "      border-left-color: var(--fill-color);\n",
              "      border-top-color: var(--fill-color);\n",
              "    }\n",
              "    30% {\n",
              "      border-color: transparent;\n",
              "      border-left-color: var(--fill-color);\n",
              "      border-top-color: var(--fill-color);\n",
              "      border-right-color: var(--fill-color);\n",
              "    }\n",
              "    40% {\n",
              "      border-color: transparent;\n",
              "      border-right-color: var(--fill-color);\n",
              "      border-top-color: var(--fill-color);\n",
              "    }\n",
              "    60% {\n",
              "      border-color: transparent;\n",
              "      border-right-color: var(--fill-color);\n",
              "    }\n",
              "    80% {\n",
              "      border-color: transparent;\n",
              "      border-right-color: var(--fill-color);\n",
              "      border-bottom-color: var(--fill-color);\n",
              "    }\n",
              "    90% {\n",
              "      border-color: transparent;\n",
              "      border-bottom-color: var(--fill-color);\n",
              "    }\n",
              "  }\n",
              "</style>\n",
              "\n",
              "  <script>\n",
              "    async function quickchart(key) {\n",
              "      const quickchartButtonEl =\n",
              "        document.querySelector('#' + key + ' button');\n",
              "      quickchartButtonEl.disabled = true;  // To prevent multiple clicks.\n",
              "      quickchartButtonEl.classList.add('colab-df-spinner');\n",
              "      try {\n",
              "        const charts = await google.colab.kernel.invokeFunction(\n",
              "            'suggestCharts', [key], {});\n",
              "      } catch (error) {\n",
              "        console.error('Error during call to suggestCharts:', error);\n",
              "      }\n",
              "      quickchartButtonEl.classList.remove('colab-df-spinner');\n",
              "      quickchartButtonEl.classList.add('colab-df-quickchart-complete');\n",
              "    }\n",
              "    (() => {\n",
              "      let quickchartButtonEl =\n",
              "        document.querySelector('#df-a2d1609b-0729-4a99-b2ae-200ab99b3039 button');\n",
              "      quickchartButtonEl.style.display =\n",
              "        google.colab.kernel.accessAllowed ? 'block' : 'none';\n",
              "    })();\n",
              "  </script>\n",
              "</div>\n",
              "    </div>\n",
              "  </div>\n"
            ]
          },
          "metadata": {},
          "execution_count": 8
        }
      ]
    },
    {
      "cell_type": "markdown",
      "source": [
        "1.1. Выборочные характеристики"
      ],
      "metadata": {
        "id": "ISPgBoullLUs"
      }
    },
    {
      "cell_type": "code",
      "source": [
        "df1 = df[['C8', 'C10', 'C13']]\n",
        "df1"
      ],
      "metadata": {
        "colab": {
          "base_uri": "https://localhost:8080/",
          "height": 423
        },
        "id": "31I2cJT-dIfj",
        "outputId": "71f2c32f-2c03-43e1-f52c-f325af39bb5c"
      },
      "execution_count": null,
      "outputs": [
        {
          "output_type": "execute_result",
          "data": {
            "text/plain": [
              "       C8    C10  C13\n",
              "0     6.3  170.3  200\n",
              "1    15.8   75.8  124\n",
              "2    19.1  257.9  328\n",
              "3    26.5  332.6  153\n",
              "4    16.2  170.8   92\n",
              "..    ...    ...  ...\n",
              "310  19.4  306.5  164\n",
              "311  14.1  257.7   80\n",
              "312  11.9  150.5  300\n",
              "313  13.2  381.8  121\n",
              "314   9.9  195.6  233\n",
              "\n",
              "[315 rows x 3 columns]"
            ],
            "text/html": [
              "\n",
              "  <div id=\"df-5e1e0146-7bb5-4ed0-bd08-6f506e9961eb\" class=\"colab-df-container\">\n",
              "    <div>\n",
              "<style scoped>\n",
              "    .dataframe tbody tr th:only-of-type {\n",
              "        vertical-align: middle;\n",
              "    }\n",
              "\n",
              "    .dataframe tbody tr th {\n",
              "        vertical-align: top;\n",
              "    }\n",
              "\n",
              "    .dataframe thead th {\n",
              "        text-align: right;\n",
              "    }\n",
              "</style>\n",
              "<table border=\"1\" class=\"dataframe\">\n",
              "  <thead>\n",
              "    <tr style=\"text-align: right;\">\n",
              "      <th></th>\n",
              "      <th>C8</th>\n",
              "      <th>C10</th>\n",
              "      <th>C13</th>\n",
              "    </tr>\n",
              "  </thead>\n",
              "  <tbody>\n",
              "    <tr>\n",
              "      <th>0</th>\n",
              "      <td>6.3</td>\n",
              "      <td>170.3</td>\n",
              "      <td>200</td>\n",
              "    </tr>\n",
              "    <tr>\n",
              "      <th>1</th>\n",
              "      <td>15.8</td>\n",
              "      <td>75.8</td>\n",
              "      <td>124</td>\n",
              "    </tr>\n",
              "    <tr>\n",
              "      <th>2</th>\n",
              "      <td>19.1</td>\n",
              "      <td>257.9</td>\n",
              "      <td>328</td>\n",
              "    </tr>\n",
              "    <tr>\n",
              "      <th>3</th>\n",
              "      <td>26.5</td>\n",
              "      <td>332.6</td>\n",
              "      <td>153</td>\n",
              "    </tr>\n",
              "    <tr>\n",
              "      <th>4</th>\n",
              "      <td>16.2</td>\n",
              "      <td>170.8</td>\n",
              "      <td>92</td>\n",
              "    </tr>\n",
              "    <tr>\n",
              "      <th>...</th>\n",
              "      <td>...</td>\n",
              "      <td>...</td>\n",
              "      <td>...</td>\n",
              "    </tr>\n",
              "    <tr>\n",
              "      <th>310</th>\n",
              "      <td>19.4</td>\n",
              "      <td>306.5</td>\n",
              "      <td>164</td>\n",
              "    </tr>\n",
              "    <tr>\n",
              "      <th>311</th>\n",
              "      <td>14.1</td>\n",
              "      <td>257.7</td>\n",
              "      <td>80</td>\n",
              "    </tr>\n",
              "    <tr>\n",
              "      <th>312</th>\n",
              "      <td>11.9</td>\n",
              "      <td>150.5</td>\n",
              "      <td>300</td>\n",
              "    </tr>\n",
              "    <tr>\n",
              "      <th>313</th>\n",
              "      <td>13.2</td>\n",
              "      <td>381.8</td>\n",
              "      <td>121</td>\n",
              "    </tr>\n",
              "    <tr>\n",
              "      <th>314</th>\n",
              "      <td>9.9</td>\n",
              "      <td>195.6</td>\n",
              "      <td>233</td>\n",
              "    </tr>\n",
              "  </tbody>\n",
              "</table>\n",
              "<p>315 rows × 3 columns</p>\n",
              "</div>\n",
              "    <div class=\"colab-df-buttons\">\n",
              "\n",
              "  <div class=\"colab-df-container\">\n",
              "    <button class=\"colab-df-convert\" onclick=\"convertToInteractive('df-5e1e0146-7bb5-4ed0-bd08-6f506e9961eb')\"\n",
              "            title=\"Convert this dataframe to an interactive table.\"\n",
              "            style=\"display:none;\">\n",
              "\n",
              "  <svg xmlns=\"http://www.w3.org/2000/svg\" height=\"24px\" viewBox=\"0 -960 960 960\">\n",
              "    <path d=\"M120-120v-720h720v720H120Zm60-500h600v-160H180v160Zm220 220h160v-160H400v160Zm0 220h160v-160H400v160ZM180-400h160v-160H180v160Zm440 0h160v-160H620v160ZM180-180h160v-160H180v160Zm440 0h160v-160H620v160Z\"/>\n",
              "  </svg>\n",
              "    </button>\n",
              "\n",
              "  <style>\n",
              "    .colab-df-container {\n",
              "      display:flex;\n",
              "      gap: 12px;\n",
              "    }\n",
              "\n",
              "    .colab-df-convert {\n",
              "      background-color: #E8F0FE;\n",
              "      border: none;\n",
              "      border-radius: 50%;\n",
              "      cursor: pointer;\n",
              "      display: none;\n",
              "      fill: #1967D2;\n",
              "      height: 32px;\n",
              "      padding: 0 0 0 0;\n",
              "      width: 32px;\n",
              "    }\n",
              "\n",
              "    .colab-df-convert:hover {\n",
              "      background-color: #E2EBFA;\n",
              "      box-shadow: 0px 1px 2px rgba(60, 64, 67, 0.3), 0px 1px 3px 1px rgba(60, 64, 67, 0.15);\n",
              "      fill: #174EA6;\n",
              "    }\n",
              "\n",
              "    .colab-df-buttons div {\n",
              "      margin-bottom: 4px;\n",
              "    }\n",
              "\n",
              "    [theme=dark] .colab-df-convert {\n",
              "      background-color: #3B4455;\n",
              "      fill: #D2E3FC;\n",
              "    }\n",
              "\n",
              "    [theme=dark] .colab-df-convert:hover {\n",
              "      background-color: #434B5C;\n",
              "      box-shadow: 0px 1px 3px 1px rgba(0, 0, 0, 0.15);\n",
              "      filter: drop-shadow(0px 1px 2px rgba(0, 0, 0, 0.3));\n",
              "      fill: #FFFFFF;\n",
              "    }\n",
              "  </style>\n",
              "\n",
              "    <script>\n",
              "      const buttonEl =\n",
              "        document.querySelector('#df-5e1e0146-7bb5-4ed0-bd08-6f506e9961eb button.colab-df-convert');\n",
              "      buttonEl.style.display =\n",
              "        google.colab.kernel.accessAllowed ? 'block' : 'none';\n",
              "\n",
              "      async function convertToInteractive(key) {\n",
              "        const element = document.querySelector('#df-5e1e0146-7bb5-4ed0-bd08-6f506e9961eb');\n",
              "        const dataTable =\n",
              "          await google.colab.kernel.invokeFunction('convertToInteractive',\n",
              "                                                    [key], {});\n",
              "        if (!dataTable) return;\n",
              "\n",
              "        const docLinkHtml = 'Like what you see? Visit the ' +\n",
              "          '<a target=\"_blank\" href=https://colab.research.google.com/notebooks/data_table.ipynb>data table notebook</a>'\n",
              "          + ' to learn more about interactive tables.';\n",
              "        element.innerHTML = '';\n",
              "        dataTable['output_type'] = 'display_data';\n",
              "        await google.colab.output.renderOutput(dataTable, element);\n",
              "        const docLink = document.createElement('div');\n",
              "        docLink.innerHTML = docLinkHtml;\n",
              "        element.appendChild(docLink);\n",
              "      }\n",
              "    </script>\n",
              "  </div>\n",
              "\n",
              "\n",
              "<div id=\"df-e97dd8c9-4d00-4a0f-a26c-4387e60123fe\">\n",
              "  <button class=\"colab-df-quickchart\" onclick=\"quickchart('df-e97dd8c9-4d00-4a0f-a26c-4387e60123fe')\"\n",
              "            title=\"Suggest charts\"\n",
              "            style=\"display:none;\">\n",
              "\n",
              "<svg xmlns=\"http://www.w3.org/2000/svg\" height=\"24px\"viewBox=\"0 0 24 24\"\n",
              "     width=\"24px\">\n",
              "    <g>\n",
              "        <path d=\"M19 3H5c-1.1 0-2 .9-2 2v14c0 1.1.9 2 2 2h14c1.1 0 2-.9 2-2V5c0-1.1-.9-2-2-2zM9 17H7v-7h2v7zm4 0h-2V7h2v10zm4 0h-2v-4h2v4z\"/>\n",
              "    </g>\n",
              "</svg>\n",
              "  </button>\n",
              "\n",
              "<style>\n",
              "  .colab-df-quickchart {\n",
              "      --bg-color: #E8F0FE;\n",
              "      --fill-color: #1967D2;\n",
              "      --hover-bg-color: #E2EBFA;\n",
              "      --hover-fill-color: #174EA6;\n",
              "      --disabled-fill-color: #AAA;\n",
              "      --disabled-bg-color: #DDD;\n",
              "  }\n",
              "\n",
              "  [theme=dark] .colab-df-quickchart {\n",
              "      --bg-color: #3B4455;\n",
              "      --fill-color: #D2E3FC;\n",
              "      --hover-bg-color: #434B5C;\n",
              "      --hover-fill-color: #FFFFFF;\n",
              "      --disabled-bg-color: #3B4455;\n",
              "      --disabled-fill-color: #666;\n",
              "  }\n",
              "\n",
              "  .colab-df-quickchart {\n",
              "    background-color: var(--bg-color);\n",
              "    border: none;\n",
              "    border-radius: 50%;\n",
              "    cursor: pointer;\n",
              "    display: none;\n",
              "    fill: var(--fill-color);\n",
              "    height: 32px;\n",
              "    padding: 0;\n",
              "    width: 32px;\n",
              "  }\n",
              "\n",
              "  .colab-df-quickchart:hover {\n",
              "    background-color: var(--hover-bg-color);\n",
              "    box-shadow: 0 1px 2px rgba(60, 64, 67, 0.3), 0 1px 3px 1px rgba(60, 64, 67, 0.15);\n",
              "    fill: var(--button-hover-fill-color);\n",
              "  }\n",
              "\n",
              "  .colab-df-quickchart-complete:disabled,\n",
              "  .colab-df-quickchart-complete:disabled:hover {\n",
              "    background-color: var(--disabled-bg-color);\n",
              "    fill: var(--disabled-fill-color);\n",
              "    box-shadow: none;\n",
              "  }\n",
              "\n",
              "  .colab-df-spinner {\n",
              "    border: 2px solid var(--fill-color);\n",
              "    border-color: transparent;\n",
              "    border-bottom-color: var(--fill-color);\n",
              "    animation:\n",
              "      spin 1s steps(1) infinite;\n",
              "  }\n",
              "\n",
              "  @keyframes spin {\n",
              "    0% {\n",
              "      border-color: transparent;\n",
              "      border-bottom-color: var(--fill-color);\n",
              "      border-left-color: var(--fill-color);\n",
              "    }\n",
              "    20% {\n",
              "      border-color: transparent;\n",
              "      border-left-color: var(--fill-color);\n",
              "      border-top-color: var(--fill-color);\n",
              "    }\n",
              "    30% {\n",
              "      border-color: transparent;\n",
              "      border-left-color: var(--fill-color);\n",
              "      border-top-color: var(--fill-color);\n",
              "      border-right-color: var(--fill-color);\n",
              "    }\n",
              "    40% {\n",
              "      border-color: transparent;\n",
              "      border-right-color: var(--fill-color);\n",
              "      border-top-color: var(--fill-color);\n",
              "    }\n",
              "    60% {\n",
              "      border-color: transparent;\n",
              "      border-right-color: var(--fill-color);\n",
              "    }\n",
              "    80% {\n",
              "      border-color: transparent;\n",
              "      border-right-color: var(--fill-color);\n",
              "      border-bottom-color: var(--fill-color);\n",
              "    }\n",
              "    90% {\n",
              "      border-color: transparent;\n",
              "      border-bottom-color: var(--fill-color);\n",
              "    }\n",
              "  }\n",
              "</style>\n",
              "\n",
              "  <script>\n",
              "    async function quickchart(key) {\n",
              "      const quickchartButtonEl =\n",
              "        document.querySelector('#' + key + ' button');\n",
              "      quickchartButtonEl.disabled = true;  // To prevent multiple clicks.\n",
              "      quickchartButtonEl.classList.add('colab-df-spinner');\n",
              "      try {\n",
              "        const charts = await google.colab.kernel.invokeFunction(\n",
              "            'suggestCharts', [key], {});\n",
              "      } catch (error) {\n",
              "        console.error('Error during call to suggestCharts:', error);\n",
              "      }\n",
              "      quickchartButtonEl.classList.remove('colab-df-spinner');\n",
              "      quickchartButtonEl.classList.add('colab-df-quickchart-complete');\n",
              "    }\n",
              "    (() => {\n",
              "      let quickchartButtonEl =\n",
              "        document.querySelector('#df-e97dd8c9-4d00-4a0f-a26c-4387e60123fe button');\n",
              "      quickchartButtonEl.style.display =\n",
              "        google.colab.kernel.accessAllowed ? 'block' : 'none';\n",
              "    })();\n",
              "  </script>\n",
              "</div>\n",
              "    </div>\n",
              "  </div>\n"
            ]
          },
          "metadata": {},
          "execution_count": 9
        }
      ]
    },
    {
      "cell_type": "code",
      "source": [
        "df1.mean()"
      ],
      "metadata": {
        "colab": {
          "base_uri": "https://localhost:8080/"
        },
        "id": "hfgfFGA3dfGD",
        "outputId": "4dda00cc-eeba-4939-cd0e-2ae1638d5d55"
      },
      "execution_count": null,
      "outputs": [
        {
          "output_type": "execute_result",
          "data": {
            "text/plain": [
              "C8      12.788571\n",
              "C10    242.460635\n",
              "C13    189.892063\n",
              "dtype: float64"
            ]
          },
          "metadata": {},
          "execution_count": 10
        }
      ]
    },
    {
      "cell_type": "code",
      "source": [
        "df1.var()"
      ],
      "metadata": {
        "colab": {
          "base_uri": "https://localhost:8080/"
        },
        "id": "6-M0y3cvd_ac",
        "outputId": "e944576a-dce7-41c3-ab17-9da77af9874c"
      },
      "execution_count": null,
      "outputs": [
        {
          "output_type": "execute_result",
          "data": {
            "text/plain": [
              "C8        28.410952\n",
              "C10    17421.786152\n",
              "C13    33489.294045\n",
              "dtype: float64"
            ]
          },
          "metadata": {},
          "execution_count": 11
        }
      ]
    },
    {
      "cell_type": "code",
      "source": [
        "df1.std()"
      ],
      "metadata": {
        "colab": {
          "base_uri": "https://localhost:8080/"
        },
        "id": "-IS97nlCgFWh",
        "outputId": "0e3489d5-7138-4dec-da7b-acfee8c41214"
      },
      "execution_count": null,
      "outputs": [
        {
          "output_type": "execute_result",
          "data": {
            "text/plain": [
              "C8       5.330192\n",
              "C10    131.991614\n",
              "C13    183.000803\n",
              "dtype: float64"
            ]
          },
          "metadata": {},
          "execution_count": 12
        }
      ]
    },
    {
      "cell_type": "code",
      "source": [
        "#Выборочный коэффициент асимметрии\n",
        "df1.skew()"
      ],
      "metadata": {
        "colab": {
          "base_uri": "https://localhost:8080/"
        },
        "id": "KuQ-EUGcg3HB",
        "outputId": "d71c1ea6-4c5a-49ba-d0ed-17ea63753a21"
      },
      "execution_count": null,
      "outputs": [
        {
          "output_type": "execute_result",
          "data": {
            "text/plain": [
              "C8     1.152933\n",
              "C10    1.480055\n",
              "C13    3.564155\n",
              "dtype: float64"
            ]
          },
          "metadata": {},
          "execution_count": 13
        }
      ]
    },
    {
      "cell_type": "code",
      "source": [
        "#Выборочный эксцесс\n",
        "df1.kurt()"
      ],
      "metadata": {
        "colab": {
          "base_uri": "https://localhost:8080/"
        },
        "id": "mj2JYA-ahDOT",
        "outputId": "b1c7787b-716a-4681-b5e4-12258f019980"
      },
      "execution_count": null,
      "outputs": [
        {
          "output_type": "execute_result",
          "data": {
            "text/plain": [
              "C8      2.483521\n",
              "C10     3.412585\n",
              "C13    17.209008\n",
              "dtype: float64"
            ]
          },
          "metadata": {},
          "execution_count": 14
        }
      ]
    },
    {
      "cell_type": "markdown",
      "source": [
        "1.2. Группировка и гистограммы частот"
      ],
      "metadata": {
        "id": "msk2ApDblGW0"
      }
    },
    {
      "cell_type": "code",
      "source": [
        "C_8 = df.C8"
      ],
      "metadata": {
        "id": "LjS78sR_lecd"
      },
      "execution_count": null,
      "outputs": []
    },
    {
      "cell_type": "code",
      "source": [
        "C_8"
      ],
      "metadata": {
        "colab": {
          "base_uri": "https://localhost:8080/"
        },
        "id": "PCXGFo6Yllmr",
        "outputId": "be05674b-d695-4114-c092-3eb0b926b392"
      },
      "execution_count": null,
      "outputs": [
        {
          "output_type": "execute_result",
          "data": {
            "text/plain": [
              "0       6.3\n",
              "1      15.8\n",
              "2      19.1\n",
              "3      26.5\n",
              "4      16.2\n",
              "       ... \n",
              "310    19.4\n",
              "311    14.1\n",
              "312    11.9\n",
              "313    13.2\n",
              "314     9.9\n",
              "Name: C8, Length: 315, dtype: float64"
            ]
          },
          "metadata": {},
          "execution_count": 16
        }
      ]
    },
    {
      "cell_type": "code",
      "source": [
        "n = len(C_8)\n",
        "n"
      ],
      "metadata": {
        "colab": {
          "base_uri": "https://localhost:8080/"
        },
        "id": "2QUhoul4h_ir",
        "outputId": "c3b3ce3f-1a6f-4569-ae30-1e25b4e7e88e"
      },
      "execution_count": null,
      "outputs": [
        {
          "output_type": "execute_result",
          "data": {
            "text/plain": [
              "315"
            ]
          },
          "metadata": {},
          "execution_count": 17
        }
      ]
    },
    {
      "cell_type": "code",
      "source": [
        "#Формула Стерджесса\n",
        "num = int(1 + math.log2(n))\n",
        "num"
      ],
      "metadata": {
        "colab": {
          "base_uri": "https://localhost:8080/"
        },
        "id": "cmzy9LW0lNOz",
        "outputId": "35b9bb06-8191-4164-9310-8859901cbb82"
      },
      "execution_count": null,
      "outputs": [
        {
          "output_type": "execute_result",
          "data": {
            "text/plain": [
              "9"
            ]
          },
          "metadata": {},
          "execution_count": 18
        }
      ]
    },
    {
      "cell_type": "code",
      "source": [
        "C_8.max()"
      ],
      "metadata": {
        "colab": {
          "base_uri": "https://localhost:8080/"
        },
        "id": "se6VVBgen5Nx",
        "outputId": "b63e0bd8-55e9-44c7-8207-ef338ce573e9"
      },
      "execution_count": null,
      "outputs": [
        {
          "output_type": "execute_result",
          "data": {
            "text/plain": [
              "36.8"
            ]
          },
          "metadata": {},
          "execution_count": 19
        }
      ]
    },
    {
      "cell_type": "code",
      "source": [
        "(C_8.max() - C_8.min()) / num"
      ],
      "metadata": {
        "colab": {
          "base_uri": "https://localhost:8080/"
        },
        "id": "9Y4ZlPI1nPKr",
        "outputId": "2db518c1-ecba-4b84-91ee-9ff97c402212"
      },
      "execution_count": null,
      "outputs": [
        {
          "output_type": "execute_result",
          "data": {
            "text/plain": [
              "1.872222222222222"
            ]
          },
          "metadata": {},
          "execution_count": 128
        }
      ]
    },
    {
      "cell_type": "code",
      "source": [
        "count_in_bin, interval, patches = plt.hist(C_8, bins=num)"
      ],
      "metadata": {
        "colab": {
          "base_uri": "https://localhost:8080/",
          "height": 430
        },
        "id": "C4NDkSfmoeJY",
        "outputId": "06d2bfed-2962-4948-db92-6ed5d94c94b5"
      },
      "execution_count": null,
      "outputs": [
        {
          "output_type": "display_data",
          "data": {
            "text/plain": [
              "<Figure size 640x480 with 1 Axes>"
            ],
            "image/png": "[encoded data removed]"
          },
          "metadata": {}
        }
      ]
    },
    {
      "cell_type": "code",
      "source": [
        "count1 = []\n",
        "count2 = []\n",
        "count3 = []\n",
        "count4 = []\n",
        "middle = []\n",
        "for i in range(num):\n",
        "  count1.append(count_in_bin[i])\n",
        "  middle.append((interval[i] + interval[i + 1]) / 2)\n",
        "  print(\"Номер интервала {}, кол-во {}, интервал {}:{}\".format(i + 1, int(count_in_bin[i]), interval[i], interval[i + 1]))"
      ],
      "metadata": {
        "colab": {
          "base_uri": "https://localhost:8080/"
        },
        "id": "spBWuLc6oyt1",
        "outputId": "15956f2f-f31d-4b10-90bd-21e23249908b"
      },
      "execution_count": null,
      "outputs": [
        {
          "output_type": "stream",
          "name": "stdout",
          "text": [
            "Номер интервала 1, кол-во 37, интервал 3.1:6.844444444444444\n",
            "Номер интервала 2, кол-во 81, интервал 6.844444444444444:10.588888888888889\n",
            "Номер интервала 3, кол-во 95, интервал 10.588888888888889:14.333333333333332\n",
            "Номер интервала 4, кол-во 60, интервал 14.333333333333332:18.077777777777776\n",
            "Номер интервала 5, кол-во 24, интервал 18.077777777777776:21.822222222222223\n",
            "Номер интервала 6, кол-во 10, интервал 21.822222222222223:25.566666666666666\n",
            "Номер интервала 7, кол-во 4, интервал 25.566666666666666:29.31111111111111\n",
            "Номер интервала 8, кол-во 1, интервал 29.31111111111111:33.05555555555555\n",
            "Номер интервала 9, кол-во 3, интервал 33.05555555555555:36.8\n"
          ]
        }
      ]
    },
    {
      "cell_type": "code",
      "source": [
        "sum_rel_frequency = 0\n",
        "sum_frequency = 0\n",
        "for i in range(num):\n",
        "  rel_frequency = count_in_bin[i] / n\n",
        "  sum_frequency += int(count_in_bin[i])\n",
        "  sum_rel_frequency += rel_frequency\n",
        "  count2.append(rel_frequency)\n",
        "  count3.append(sum_frequency)\n",
        "  count4.append(sum_rel_frequency)\n",
        "  print(\"Номер интервала {}, частота {}, отн частота {}, накопл {}, отн накопл {}\".format(i + 1, int(count_in_bin[i]), rel_frequency, sum_frequency, sum_rel_frequency))"
      ],
      "metadata": {
        "colab": {
          "base_uri": "https://localhost:8080/"
        },
        "id": "90exqKQit5-1",
        "outputId": "f1cb4f14-63fd-4ccd-f3a4-634cb7f91f31"
      },
      "execution_count": null,
      "outputs": [
        {
          "output_type": "stream",
          "name": "stdout",
          "text": [
            "Номер интервала 1, частота 37, отн частота 0.11746031746031746, накопл 37, отн накопл 0.11746031746031746\n",
            "Номер интервала 2, частота 81, отн частота 0.2571428571428571, накопл 118, отн накопл 0.3746031746031746\n",
            "Номер интервала 3, частота 95, отн частота 0.30158730158730157, накопл 213, отн накопл 0.6761904761904762\n",
            "Номер интервала 4, частота 60, отн частота 0.19047619047619047, накопл 273, отн накопл 0.8666666666666667\n",
            "Номер интервала 5, частота 24, отн частота 0.0761904761904762, накопл 297, отн накопл 0.9428571428571428\n",
            "Номер интервала 6, частота 10, отн частота 0.031746031746031744, накопл 307, отн накопл 0.9746031746031746\n",
            "Номер интервала 7, частота 4, отн частота 0.012698412698412698, накопл 311, отн накопл 0.9873015873015872\n",
            "Номер интервала 8, частота 1, отн частота 0.0031746031746031746, накопл 312, отн накопл 0.9904761904761904\n",
            "Номер интервала 9, частота 3, отн частота 0.009523809523809525, накопл 315, отн накопл 0.9999999999999999\n"
          ]
        }
      ]
    },
    {
      "cell_type": "code",
      "source": [
        "fig, axs = plt.subplots(nrows=2, ncols=2)\n",
        "\n",
        "axs[0, 0].hist(C_8, bins=num)\n",
        "axs[0, 0].plot(middle, count1)\n",
        "axs[0, 0].set_title('Гистограмма и полигон частот')\n",
        "\n",
        "axs[0, 1].hist(C_8, bins=num, weights = np.array([1] * n) / n)\n",
        "axs[0, 1].plot(middle, count2)\n",
        "axs[0, 1].set_title('относительных частот')\n",
        "\n",
        "axs[1, 0].hist(C_8, bins=num, cumulative=True)\n",
        "axs[1, 0].plot(middle, count3)\n",
        "axs[1, 0].set_title('накопленных частот')\n",
        "\n",
        "axs[1, 1].hist(C_8, bins=num,  cumulative=True, weights = np.array([1] * n) / n)\n",
        "axs[1, 1].plot(middle, count4)\n",
        "axs[1, 1].set_title('накопленных относительных частот')\n",
        "\n",
        "fig.tight_layout()\n",
        "plt.show()"
      ],
      "metadata": {
        "colab": {
          "base_uri": "https://localhost:8080/",
          "height": 486
        },
        "id": "TiNaJjUx18by",
        "outputId": "521917f2-ffff-4095-d9dc-4177580a38bf"
      },
      "execution_count": null,
      "outputs": [
        {
          "output_type": "display_data",
          "data": {
            "text/plain": [
              "<Figure size 640x480 with 4 Axes>"
            ],
            "image/png": "[encoded data removed]"
          },
          "metadata": {}
        }
      ]
    },
    {
      "cell_type": "code",
      "source": [
        "from statsmodels.distributions.empirical_distribution import ECDF\n",
        "\n",
        "ecdf = ECDF(C_8)\n",
        "plt.plot(ecdf.x, ecdf.y)\n",
        "plt.show()"
      ],
      "metadata": {
        "colab": {
          "base_uri": "https://localhost:8080/",
          "height": 430
        },
        "id": "ukSRKdY-5K65",
        "outputId": "1498f272-f003-4444-ff21-9661f9d14e2f"
      },
      "execution_count": null,
      "outputs": [
        {
          "output_type": "display_data",
          "data": {
            "text/plain": [
              "<Figure size 640x480 with 1 Axes>"
            ],
            "image/png": "[encoded data removed]"
          },
          "metadata": {}
        }
      ]
    },
    {
      "cell_type": "markdown",
      "source": [
        "Задание 2\n"
      ],
      "metadata": {
        "id": "TdPxtp68Snml"
      }
    },
    {
      "cell_type": "markdown",
      "metadata": {
        "id": "gjY6QJVtIZ6P"
      },
      "source": [
        "2.1. Доверительные интервалы для мат. ожидания"
      ]
    },
    {
      "cell_type": "code",
      "source": [
        "alpha = [0.001, 0.05, 0.1]\n",
        "for al in alpha:\n",
        "  diff = (C_8.std() / n ** 0.5) * st.t.ppf(1 - al / 2, n - 1)\n",
        "  print(str(al) + \": {} - {}\".format(C_8.mean() - diff, C_8.mean() + diff))"
      ],
      "metadata": {
        "colab": {
          "base_uri": "https://localhost:8080/"
        },
        "id": "dqPp0S4FCGRx",
        "outputId": "27c3c0f0-c8ea-482e-d1c4-c94d0d4e924d"
      },
      "execution_count": null,
      "outputs": [
        {
          "output_type": "stream",
          "name": "stdout",
          "text": [
            "0.001: 11.790966768895881 - 13.786176088246975\n",
            "0.05: 12.197672933255406 - 13.37946992388745\n",
            "0.1: 12.293123436292687 - 13.28401942085017\n"
          ]
        }
      ]
    },
    {
      "cell_type": "markdown",
      "metadata": {
        "id": "uW0qo4WGIZ6Q"
      },
      "source": [
        "2.2. Доверительные интервалы для дисперсии"
      ]
    },
    {
      "cell_type": "code",
      "source": [
        "S_sq = C_8.var()\n",
        "for al in alpha:\n",
        "  lower = (n - 1) * S_sq / (st.chi2.ppf(1 - al / 2, n - 1))\n",
        "  higher = (n - 1) * S_sq / (st.chi2.ppf(al / 2, n - 1))\n",
        "  print(str(al) + \": {} - {}\".format(lower,higher))"
      ],
      "metadata": {
        "colab": {
          "base_uri": "https://localhost:8080/"
        },
        "id": "Slvn-6KvYW--",
        "outputId": "2f178e20-9503-49d2-99c4-551f5ad41d0d"
      },
      "execution_count": null,
      "outputs": [
        {
          "output_type": "stream",
          "name": "stdout",
          "text": [
            "0.001: 22.133182656095343 - 37.47883190305683\n",
            "0.05: 24.44236888053388 - 33.43663914368317\n",
            "0.1: 25.036224593292605 - 32.56471282010102\n"
          ]
        }
      ]
    },
    {
      "cell_type": "markdown",
      "metadata": {
        "id": "awDSZjJsIZ6W"
      },
      "source": [
        "2.3. Доверительные интервалы для разности мат. ожиданий"
      ]
    },
    {
      "cell_type": "code",
      "source": [
        "C_11 = df.C11\n",
        "C_12 = df.C12"
      ],
      "metadata": {
        "id": "_rYjIfgvaCRT"
      },
      "execution_count": null,
      "outputs": []
    },
    {
      "cell_type": "code",
      "source": [
        "S1_sq = C_11.var()\n",
        "S2_sq = C_12.var()\n",
        "m1 = C_11.mean()\n",
        "m2 = C_12.mean()\n",
        "print(S1_sq, S2_sq, m1, m2)"
      ],
      "metadata": {
        "colab": {
          "base_uri": "https://localhost:8080/"
        },
        "id": "7oR1rjvJbH_z",
        "outputId": "c8139b54-22d8-4330-adaa-fc1c211aef80"
      },
      "execution_count": null,
      "outputs": [
        {
          "output_type": "stream",
          "name": "stdout",
          "text": [
            "2172341.552219189 347261.5614194723 2185.6031746031745 832.7142857142857\n"
          ]
        }
      ]
    },
    {
      "cell_type": "code",
      "source": [
        "#Тк n = n1 = n2\n",
        "k = ((S1_sq / (S1_sq + S2_sq)) ** 2 + (S1_sq / (S1_sq + S2_sq)) ** 2) / (n - 1)\n",
        "int(1 / k)"
      ],
      "metadata": {
        "id": "E5PsllD-bY0l",
        "colab": {
          "base_uri": "https://localhost:8080/"
        },
        "outputId": "aeb5c848-2372-4a6f-8606-a2161a67cba9"
      },
      "execution_count": null,
      "outputs": [
        {
          "output_type": "execute_result",
          "data": {
            "text/plain": [
              "211"
            ]
          },
          "metadata": {},
          "execution_count": 126
        }
      ]
    },
    {
      "cell_type": "code",
      "source": [
        "for al in alpha:\n",
        "  diff = ((S1_sq + S2_sq) / n) ** 0.5 * st.t(int(1 / k)).ppf(1 - al / 2)\n",
        "  print(str(al) + \": {} - {}\".format(m1 - m2 - diff, m1 - m2 + diff))"
      ],
      "metadata": {
        "colab": {
          "base_uri": "https://localhost:8080/"
        },
        "id": "qBp4ezGvbU9S",
        "outputId": "9add4bf0-af06-41b0-a441-0ec5ddaa5613"
      },
      "execution_count": null,
      "outputs": [
        {
          "output_type": "stream",
          "name": "stdout",
          "text": [
            "0.01: 1120.4160352841755 - 1585.361742493602\n",
            "0.05: 1176.5869671638345 - 1529.1908106139429\n",
            "0.1: 1205.131557834346 - 1500.6462199434313\n"
          ]
        }
      ]
    },
    {
      "cell_type": "markdown",
      "source": [
        "2.4. Доверительные интервалы для отношения дисперсий"
      ],
      "metadata": {
        "id": "kLIGjUFf7nGo"
      }
    },
    {
      "cell_type": "code",
      "source": [
        "for al in alpha:\n",
        "  lower = S1_sq / S2_sq * st.f(n-1, n-1).ppf(al/2)\n",
        "  higher = S1_sq / S2_sq * st.f(n-1, n-1).ppf(1 - al/2)\n",
        "  print(str(al) + \": {} - {}\".format(lower,higher))"
      ],
      "metadata": {
        "id": "VM6V3HBoeoGT",
        "colab": {
          "base_uri": "https://localhost:8080/"
        },
        "outputId": "d228e600-0b35-4b82-bf20-c10f6110fa85"
      },
      "execution_count": null,
      "outputs": [
        {
          "output_type": "stream",
          "name": "stdout",
          "text": [
            "0.001: 4.309089727068848 - 9.08149303246911\n",
            "0.05: 5.012156001879108 - 7.807611797794926\n",
            "0.1: 5.1942503627360965 - 7.533901063645782\n"
          ]
        }
      ]
    },
    {
      "cell_type": "code",
      "source": [
        "C_11.var() / C_12.var()"
      ],
      "metadata": {
        "colab": {
          "base_uri": "https://localhost:8080/"
        },
        "id": "vYlvD19Q9Mze",
        "outputId": "9c0e8f5c-4683-45b7-c466-d486ebacbcf3"
      },
      "execution_count": null,
      "outputs": [
        {
          "output_type": "execute_result",
          "data": {
            "text/plain": [
              "6.255634926421135"
            ]
          },
          "metadata": {},
          "execution_count": 33
        }
      ]
    },
    {
      "cell_type": "markdown",
      "source": [
        "3. Проверка статистических гипотез о математических ожиданиях и дисперсиях"
      ],
      "metadata": {
        "id": "PsELrnJz9p_p"
      }
    },
    {
      "cell_type": "markdown",
      "source": [
        "3.1. Проверка статистических гипотез о математических ожиданиях\n"
      ],
      "metadata": {
        "id": "9vRovA6M9q-k"
      }
    },
    {
      "cell_type": "code",
      "source": [
        "C_8.mean()"
      ],
      "metadata": {
        "colab": {
          "base_uri": "https://localhost:8080/"
        },
        "id": "C1jLLFIP_d-d",
        "outputId": "39e38cb3-eab0-4083-9cfd-152dc1d4cf7e"
      },
      "execution_count": null,
      "outputs": [
        {
          "output_type": "execute_result",
          "data": {
            "text/plain": [
              "12.788571428571428"
            ]
          },
          "metadata": {},
          "execution_count": 34
        }
      ]
    },
    {
      "cell_type": "code",
      "source": [
        "alpha = 0.1\n",
        "m_0_all = [5, 13, 20]"
      ],
      "metadata": {
        "id": "RIY38vNd_wpO"
      },
      "execution_count": null,
      "outputs": []
    },
    {
      "cell_type": "code",
      "source": [
        "for m_0 in m_0_all:\n",
        "  z, p_value = st.ttest_1samp(C_8, m_0)\n",
        "  print(\"m0 = \" + str(m_0) + \": z = {}; p_value = {}\".format(z, p_value))"
      ],
      "metadata": {
        "colab": {
          "base_uri": "https://localhost:8080/"
        },
        "id": "d64lCxHgAJmp",
        "outputId": "63e35370-617a-4fef-9c90-7ecba7a3f7fd"
      },
      "execution_count": null,
      "outputs": [
        {
          "output_type": "stream",
          "name": "stdout",
          "text": [
            "m0 = 5: z = 25.93404096834318; p_value = 4.734224669651326e-80\n",
            "m0 = 13: z = -0.7040055141809971; p_value = 0.48195108875374726\n",
            "m0 = 20: z = -24.01229618638965; p_value = 4.6269968879023174e-73\n"
          ]
        }
      ]
    },
    {
      "cell_type": "markdown",
      "source": [
        "3.2. Проверка статистических гипотез о дисперсиях\n"
      ],
      "metadata": {
        "id": "koaFVWL4Ci2i"
      }
    },
    {
      "cell_type": "code",
      "source": [
        "C_8.std()"
      ],
      "metadata": {
        "colab": {
          "base_uri": "https://localhost:8080/"
        },
        "id": "Zr9kUih5Co6Q",
        "outputId": "918f7422-f83a-4291-ed6f-e846ea8994bc"
      },
      "execution_count": null,
      "outputs": [
        {
          "output_type": "execute_result",
          "data": {
            "text/plain": [
              "5.3301924706656045"
            ]
          },
          "metadata": {},
          "execution_count": 37
        }
      ]
    },
    {
      "cell_type": "code",
      "source": [
        "alpha = 0.1\n",
        "std_0_all = [2, 5, 20]"
      ],
      "metadata": {
        "id": "GmTEuGjlDFjf"
      },
      "execution_count": null,
      "outputs": []
    },
    {
      "cell_type": "code",
      "source": [
        "for std_0 in std_0_all:\n",
        "  z = (n - 1) * C_8.var() / (std_0 ** 2)\n",
        " # pstats.chi2.cdf(z, df=len(x)-1)\n",
        "  f = st.chi2.cdf(z, n - 1)\n",
        "  p_value = 2 * min(f, 1 - f)\n",
        "  print(\"std_0 = \" + str(std_0) + \": z = {}; p_value = {}\".format(z, p_value))\n"
      ],
      "metadata": {
        "colab": {
          "base_uri": "https://localhost:8080/"
        },
        "id": "dMLpuIYxDQar",
        "outputId": "240c4e61-11af-4b83-9855-f9e6e88dc058"
      },
      "execution_count": null,
      "outputs": [
        {
          "output_type": "stream",
          "name": "stdout",
          "text": [
            "std_0 = 2: z = 2230.259714285714; p_value = 0.0\n",
            "std_0 = 5: z = 356.8415542857142; p_value = 0.09615501345043964\n",
            "std_0 = 20: z = 22.302597142857138; p_value = 7.09033055384648e-119\n"
          ]
        }
      ]
    },
    {
      "cell_type": "markdown",
      "source": [
        "3.3. Проверка статистических гипотез о равенстве математических ожиданий"
      ],
      "metadata": {
        "id": "zJ9_bCPQmqU8"
      }
    },
    {
      "cell_type": "code",
      "source": [
        "C_11.mean(), C_12.mean()"
      ],
      "metadata": {
        "colab": {
          "base_uri": "https://localhost:8080/"
        },
        "id": "Z1X60hRdoHx2",
        "outputId": "7979aba0-4529-424a-b37f-96c9487c3940"
      },
      "execution_count": null,
      "outputs": [
        {
          "output_type": "execute_result",
          "data": {
            "text/plain": [
              "(2185.6031746031745, 832.7142857142857)"
            ]
          },
          "metadata": {},
          "execution_count": 40
        }
      ]
    },
    {
      "cell_type": "code",
      "source": [
        "st.ttest_ind(C_11, C_12, equal_var=False)"
      ],
      "metadata": {
        "colab": {
          "base_uri": "https://localhost:8080/"
        },
        "id": "wBPnnARwpE9M",
        "outputId": "765c49ac-90e5-43bf-e9be-7538670082ca"
      },
      "execution_count": null,
      "outputs": [
        {
          "output_type": "execute_result",
          "data": {
            "text/plain": [
              "TtestResult(statistic=15.126948860992421, pvalue=1.9889110595721522e-41, df=411.8880680150302)"
            ]
          },
          "metadata": {},
          "execution_count": 41
        }
      ]
    },
    {
      "cell_type": "markdown",
      "source": [
        "3.4. Проверка статистических гипотез о равенстве дисперсий"
      ],
      "metadata": {
        "id": "q-3ZwtCKrHzi"
      }
    },
    {
      "cell_type": "code",
      "source": [
        "C_11.std(), C_12.std()"
      ],
      "metadata": {
        "colab": {
          "base_uri": "https://localhost:8080/"
        },
        "id": "V7w6jFXyrRTb",
        "outputId": "4a836da3-916f-4755-b84d-dc875e73eb93"
      },
      "execution_count": null,
      "outputs": [
        {
          "output_type": "execute_result",
          "data": {
            "text/plain": [
              "(1473.8865465900653, 589.2890304591392)"
            ]
          },
          "metadata": {},
          "execution_count": 42
        }
      ]
    },
    {
      "cell_type": "code",
      "source": [
        "z = S1_sq / S2_sq\n",
        "f = st.f(n - 1, n - 1).cdf(z)\n",
        "p_value = 2 * min(f, 1 - f)\n",
        "print(\"z = {}; p_value = {}\".format(z, p_value))"
      ],
      "metadata": {
        "colab": {
          "base_uri": "https://localhost:8080/"
        },
        "id": "oJy9OTBppfFk",
        "outputId": "cb089b9b-2eb0-4dbe-f91f-b1a5b3220398"
      },
      "execution_count": null,
      "outputs": [
        {
          "output_type": "stream",
          "name": "stdout",
          "text": [
            "z = 6.255634926421135; p_value = 2.220446049250313e-16\n"
          ]
        }
      ]
    },
    {
      "cell_type": "markdown",
      "source": [
        "4. Критерии согласия"
      ],
      "metadata": {
        "id": "dRzoYIXZs1uG"
      }
    },
    {
      "cell_type": "markdown",
      "source": [
        "4.1. Критерий хи-квадрат\n"
      ],
      "metadata": {
        "id": "JQnNjC-Ls-QI"
      }
    },
    {
      "cell_type": "code",
      "source": [
        "#Формула Стерджесса\n",
        "num = int(1 + math.log2(n))\n",
        "num"
      ],
      "metadata": {
        "colab": {
          "base_uri": "https://localhost:8080/"
        },
        "outputId": "6132f053-ffde-4125-cc02-a27859dbb059",
        "id": "B4uwEs9GvCa8"
      },
      "execution_count": null,
      "outputs": [
        {
          "output_type": "execute_result",
          "data": {
            "text/plain": [
              "9"
            ]
          },
          "metadata": {},
          "execution_count": 44
        }
      ]
    },
    {
      "cell_type": "code",
      "source": [
        "C_8.max()"
      ],
      "metadata": {
        "colab": {
          "base_uri": "https://localhost:8080/"
        },
        "outputId": "751d504d-ac17-400c-89a5-545bfa688142",
        "id": "PQqIj-OfvCbJ"
      },
      "execution_count": null,
      "outputs": [
        {
          "output_type": "execute_result",
          "data": {
            "text/plain": [
              "36.8"
            ]
          },
          "metadata": {},
          "execution_count": 45
        }
      ]
    },
    {
      "cell_type": "code",
      "source": [
        "(C_8.max() - C_8.min()) / num"
      ],
      "metadata": {
        "colab": {
          "base_uri": "https://localhost:8080/"
        },
        "outputId": "3dd76bb5-d8c3-4b05-9ad1-1cc6c92d6835",
        "id": "GIVP3WifvCbJ"
      },
      "execution_count": null,
      "outputs": [
        {
          "output_type": "execute_result",
          "data": {
            "text/plain": [
              "3.744444444444444"
            ]
          },
          "metadata": {},
          "execution_count": 46
        }
      ]
    },
    {
      "cell_type": "code",
      "source": [
        "count_in_bin, interval, patches = plt.hist(C_8, bins=num)"
      ],
      "metadata": {
        "colab": {
          "base_uri": "https://localhost:8080/",
          "height": 430
        },
        "outputId": "8013bf59-5a7c-416e-e54a-011c7f73156b",
        "id": "QkYFiftOvCbK"
      },
      "execution_count": null,
      "outputs": [
        {
          "output_type": "display_data",
          "data": {
            "text/plain": [
              "<Figure size 640x480 with 1 Axes>"
            ],
            "image/png": "[encoded data removed]"
          },
          "metadata": {}
        }
      ]
    },
    {
      "cell_type": "code",
      "source": [
        "count1 = []\n",
        "count2 = []\n",
        "count3 = []\n",
        "count4 = []\n",
        "middle = []\n",
        "for i in range(num):\n",
        "  count1.append(count_in_bin[i])\n",
        "  middle.append((interval[i] + interval[i + 1]) / 2)\n",
        "  print(\"Номер интервала {}, кол-во {}, интервал {}:{}\".format(i + 1, int(count_in_bin[i]), interval[i], interval[i + 1]))"
      ],
      "metadata": {
        "colab": {
          "base_uri": "https://localhost:8080/"
        },
        "outputId": "34c7e552-1d21-46c8-dcab-0468f8e04ad6",
        "id": "TFhs-v16vCbK"
      },
      "execution_count": null,
      "outputs": [
        {
          "output_type": "stream",
          "name": "stdout",
          "text": [
            "Номер интервала 1, кол-во 37, интервал 3.1:6.844444444444444\n",
            "Номер интервала 2, кол-во 81, интервал 6.844444444444444:10.588888888888889\n",
            "Номер интервала 3, кол-во 95, интервал 10.588888888888889:14.333333333333332\n",
            "Номер интервала 4, кол-во 60, интервал 14.333333333333332:18.077777777777776\n",
            "Номер интервала 5, кол-во 24, интервал 18.077777777777776:21.822222222222223\n",
            "Номер интервала 6, кол-во 10, интервал 21.822222222222223:25.566666666666666\n",
            "Номер интервала 7, кол-во 4, интервал 25.566666666666666:29.31111111111111\n",
            "Номер интервала 8, кол-во 1, интервал 29.31111111111111:33.05555555555555\n",
            "Номер интервала 9, кол-во 3, интервал 33.05555555555555:36.8\n"
          ]
        }
      ]
    },
    {
      "cell_type": "code",
      "source": [
        "sum_rel_frequency = 0\n",
        "sum_frequency = 0\n",
        "norm = st.norm(C_8.mean(), C_8.std())\n",
        "expect_in_interval = []\n",
        "for i in range(num):\n",
        "  rel_frequency = count_in_bin[i] / n\n",
        "  count2.append(rel_frequency)\n",
        "  if i == 0:\n",
        "    expect_in_interval.append(norm.cdf(interval[i + 1]))\n",
        "  elif i == (num - 1):\n",
        "    expect_in_interval.append(1 - norm.cdf(interval[i]))\n",
        "  else:\n",
        "    expect_in_interval.append(norm.cdf(interval[i + 1]) - norm.cdf(interval[i]))\n",
        "  print(\"Номер интервала {}, частота {}, отн частота {}, истинная вер {}\".format(i + 1, int(count_in_bin[i]), rel_frequency, expect_in_interval[i]))"
      ],
      "metadata": {
        "colab": {
          "base_uri": "https://localhost:8080/"
        },
        "outputId": "81977342-71f9-44d6-d352-43c74715dd74",
        "id": "2y22ZOG2vCbK"
      },
      "execution_count": null,
      "outputs": [
        {
          "output_type": "stream",
          "name": "stdout",
          "text": [
            "Номер интервала 1, частота 37, отн частота 0.11746031746031746, истинная вер 0.13238652904591353\n",
            "Номер интервала 2, частота 81, отн частота 0.2571428571428571, истинная вер 0.20753272477969775\n",
            "Номер интервала 3, частота 95, отн частота 0.30158730158730157, истинная вер 0.2741012986175778\n",
            "Номер интервала 4, частота 60, отн частота 0.19047619047619047, истинная вер 0.22545642414042477\n",
            "Номер интервала 5, частота 24, отн частота 0.0761904761904762, истинная вер 0.11546706228302195\n",
            "Номер интервала 6, частота 10, отн частота 0.031746031746031744, истинная вер 0.03679786871105717\n",
            "Номер интервала 7, частота 4, отн частота 0.012698412698412698, истинная вер 0.007289841200113556\n",
            "Номер интервала 8, частота 1, отн частота 0.0031746031746031746, истинная вер 0.0008965713657705932\n",
            "Номер интервала 9, частота 3, отн частота 0.009523809523809525, истинная вер 7.167985642286823e-05\n"
          ]
        }
      ]
    },
    {
      "cell_type": "code",
      "source": [
        "np.array([expect_in_interval]).sum()"
      ],
      "metadata": {
        "colab": {
          "base_uri": "https://localhost:8080/"
        },
        "id": "wCVj4tGn2Os4",
        "outputId": "1c325e79-493f-4107-c046-25f2aaeeba47"
      },
      "execution_count": null,
      "outputs": [
        {
          "output_type": "execute_result",
          "data": {
            "text/plain": [
              "1.0"
            ]
          },
          "metadata": {},
          "execution_count": 50
        }
      ]
    },
    {
      "cell_type": "code",
      "source": [
        "x = np.linspace(0, 40, 100)\n",
        "plt.hist(C_8, bins=num, weights = np.array([1] * n) / n)\n",
        "plt.plot(x, st.norm(C_8.mean(), C_8.std()).pdf(x))\n",
        "plt.show()"
      ],
      "metadata": {
        "colab": {
          "base_uri": "https://localhost:8080/",
          "height": 430
        },
        "id": "oz3vuQY2v5kt",
        "outputId": "dd5381d2-c2f1-48e3-ac0b-2e5e3b4546a6"
      },
      "execution_count": null,
      "outputs": [
        {
          "output_type": "display_data",
          "data": {
            "text/plain": [
              "<Figure size 640x480 with 1 Axes>"
            ],
            "image/png": "[encoded data removed]"
          },
          "metadata": {}
        }
      ]
    },
    {
      "cell_type": "markdown",
      "source": [
        "$Z = {\\sum\\limits_{i=1}^{k}}\\frac{(n_i-np_i)^2}{np_i},$\n",
        "\n",
        "${Z|_{H_0}}\\space \\sim {\\chi^2(k - r - 1)},$"
      ],
      "metadata": {
        "id": "OKJtdcgtzk5k"
      }
    },
    {
      "cell_type": "code",
      "source": [
        "count_in_bin"
      ],
      "metadata": {
        "colab": {
          "base_uri": "https://localhost:8080/"
        },
        "id": "_pUacgog5Odw",
        "outputId": "0757e35d-a218-4c11-9425-8c0438b77298"
      },
      "execution_count": null,
      "outputs": [
        {
          "output_type": "execute_result",
          "data": {
            "text/plain": [
              "array([37., 81., 95., 60., 24., 10.,  4.,  1.,  3.])"
            ]
          },
          "metadata": {},
          "execution_count": 52
        }
      ]
    },
    {
      "cell_type": "code",
      "source": [
        "np.array(expect_in_interval) * n"
      ],
      "metadata": {
        "colab": {
          "base_uri": "https://localhost:8080/"
        },
        "id": "K42XYY745U4B",
        "outputId": "9185e634-3b39-4bd1-cd3e-e54b05271fff"
      },
      "execution_count": null,
      "outputs": [
        {
          "output_type": "execute_result",
          "data": {
            "text/plain": [
              "array([4.17017566e+01, 6.53728083e+01, 8.63419091e+01, 7.10187736e+01,\n",
              "       3.63721246e+01, 1.15913286e+01, 2.29629998e+00, 2.82419980e-01,\n",
              "       2.25791548e-02])"
            ]
          },
          "metadata": {},
          "execution_count": 53
        }
      ]
    },
    {
      "cell_type": "code",
      "source": [
        "st.chisquare(count_in_bin, np.array(expect_in_interval) * n, ddof = 2)"
      ],
      "metadata": {
        "colab": {
          "base_uri": "https://localhost:8080/"
        },
        "id": "Up4VXiuNzlOg",
        "outputId": "ee1a62e6-ca11-4f5c-817c-590db7e422df"
      },
      "execution_count": null,
      "outputs": [
        {
          "output_type": "execute_result",
          "data": {
            "text/plain": [
              "Power_divergenceResult(statistic=406.9780370571591, pvalue=8.834103766114434e-85)"
            ]
          },
          "metadata": {},
          "execution_count": 54
        }
      ]
    },
    {
      "cell_type": "markdown",
      "source": [
        "4.2. Проверка гипотезы о нормальности на основе коэффициента асимметрии и эксцесса (критерий Харке-Бера)\n",
        "\n",
        "$JB=n\\left({\\frac  {S^{2}}{6}}+{\\frac  {(K)^{2}}{24}}\\right)$\n",
        "\n",
        "$JB \\sim \\chi^2(2)$"
      ],
      "metadata": {
        "id": "iJ_EbRjwF7ts"
      }
    },
    {
      "cell_type": "code",
      "source": [
        "st.jarque_bera(C_8)"
      ],
      "metadata": {
        "colab": {
          "base_uri": "https://localhost:8080/"
        },
        "id": "y6avUiK44vm9",
        "outputId": "2770d29b-f4e9-4d17-aa1f-bbffb7d40804"
      },
      "execution_count": null,
      "outputs": [
        {
          "output_type": "execute_result",
          "data": {
            "text/plain": [
              "SignificanceResult(statistic=146.32345934833677, pvalue=1.6836992405832223e-32)"
            ]
          },
          "metadata": {},
          "execution_count": 55
        }
      ]
    },
    {
      "cell_type": "markdown",
      "source": [
        "5. Проверка однородности выборок"
      ],
      "metadata": {
        "id": "zX-ZL_xzHXQT"
      }
    },
    {
      "cell_type": "markdown",
      "source": [
        "5.1 Критерий знаков"
      ],
      "metadata": {
        "id": "6SWQWMhkHapS"
      }
    },
    {
      "cell_type": "code",
      "source": [
        "from statsmodels.stats.descriptivestats import sign_test\n",
        "sign_test(C_11, C_12)"
      ],
      "metadata": {
        "colab": {
          "base_uri": "https://localhost:8080/"
        },
        "id": "hbUrqBEtGnyE",
        "outputId": "4d2a5679-4f8c-4dc9-8d61-63aef9a910be"
      },
      "execution_count": null,
      "outputs": [
        {
          "output_type": "execute_result",
          "data": {
            "text/plain": [
              "(124.5, 1.9114592806403368e-50)"
            ]
          },
          "metadata": {},
          "execution_count": 56
        }
      ]
    },
    {
      "cell_type": "code",
      "source": [
        "np.count_nonzero(C_11 > C_12)"
      ],
      "metadata": {
        "colab": {
          "base_uri": "https://localhost:8080/"
        },
        "id": "jdyxv2BsH8bU",
        "outputId": "595b94fb-431b-4a81-af18-4d9de673a7a2"
      },
      "execution_count": null,
      "outputs": [
        {
          "output_type": "execute_result",
          "data": {
            "text/plain": [
              "282"
            ]
          },
          "metadata": {},
          "execution_count": 57
        }
      ]
    },
    {
      "cell_type": "markdown",
      "source": [
        "5.2. Критерий хи-квадрат"
      ],
      "metadata": {
        "id": "fwLq-e2iJPuq"
      }
    },
    {
      "cell_type": "code",
      "source": [
        "#Формула Стерджесса\n",
        "num = int(1 + math.log2(n))\n",
        "num"
      ],
      "metadata": {
        "colab": {
          "base_uri": "https://localhost:8080/"
        },
        "id": "aaEFC9W2Ndi9",
        "outputId": "73ba5506-932c-49e6-faa3-e7545673a077"
      },
      "execution_count": null,
      "outputs": [
        {
          "output_type": "execute_result",
          "data": {
            "text/plain": [
              "9"
            ]
          },
          "metadata": {},
          "execution_count": 58
        }
      ]
    },
    {
      "cell_type": "code",
      "source": [
        "num = 2 * num\n",
        "num"
      ],
      "metadata": {
        "colab": {
          "base_uri": "https://localhost:8080/"
        },
        "id": "4W5ZEWZvOH_W",
        "outputId": "0744b141-b9e1-4314-d865-3ca562b87320"
      },
      "execution_count": null,
      "outputs": [
        {
          "output_type": "execute_result",
          "data": {
            "text/plain": [
              "18"
            ]
          },
          "metadata": {},
          "execution_count": 59
        }
      ]
    },
    {
      "cell_type": "code",
      "source": [
        "C_11.min(), C_11.max()"
      ],
      "metadata": {
        "colab": {
          "base_uri": "https://localhost:8080/"
        },
        "id": "dUux4jjDNBzJ",
        "outputId": "75892d72-8ee4-431d-cb71-15d32ec9739a"
      },
      "execution_count": null,
      "outputs": [
        {
          "output_type": "execute_result",
          "data": {
            "text/plain": [
              "(214, 9642)"
            ]
          },
          "metadata": {},
          "execution_count": 60
        }
      ]
    },
    {
      "cell_type": "code",
      "source": [
        "C_12.min(), C_12.max()"
      ],
      "metadata": {
        "colab": {
          "base_uri": "https://localhost:8080/"
        },
        "id": "rQJpKTD9NEqm",
        "outputId": "8cdc7ca2-66ac-4302-cad2-9ee81820951f"
      },
      "execution_count": null,
      "outputs": [
        {
          "output_type": "execute_result",
          "data": {
            "text/plain": [
              "(30, 6901)"
            ]
          },
          "metadata": {},
          "execution_count": 61
        }
      ]
    },
    {
      "cell_type": "code",
      "source": [
        "x = np.linspace(min(C_11.min(), C_12.min()), max(C_11.max(), C_12.max()), num + 1)\n",
        "x"
      ],
      "metadata": {
        "colab": {
          "base_uri": "https://localhost:8080/"
        },
        "id": "37mytz1LNJo7",
        "outputId": "34cafc46-2ec5-47a5-a9d4-d15e829b14e5"
      },
      "execution_count": null,
      "outputs": [
        {
          "output_type": "execute_result",
          "data": {
            "text/plain": [
              "array([  30.,  564., 1098., 1632., 2166., 2700., 3234., 3768., 4302.,\n",
              "       4836., 5370., 5904., 6438., 6972., 7506., 8040., 8574., 9108.,\n",
              "       9642.])"
            ]
          },
          "metadata": {},
          "execution_count": 62
        }
      ]
    },
    {
      "cell_type": "code",
      "source": [
        "plt.hist(C_11, bins=x, density=True, edgecolor='black', alpha = 0.7)\n",
        "plt.hist(C_12, bins=x, density=True, edgecolor='black', alpha = 0.7)\n",
        "plt.title(\"HIST: C11, C12\")\n",
        "plt.show()"
      ],
      "metadata": {
        "colab": {
          "base_uri": "https://localhost:8080/",
          "height": 452
        },
        "id": "twGbgozSIOD6",
        "outputId": "6c109c50-41d5-42d4-8241-0127633d61f9"
      },
      "execution_count": null,
      "outputs": [
        {
          "output_type": "display_data",
          "data": {
            "text/plain": [
              "<Figure size 640x480 with 1 Axes>"
            ],
            "image/png": "[encoded data removed]"
          },
          "metadata": {}
        }
      ]
    },
    {
      "cell_type": "code",
      "source": [
        "x"
      ],
      "metadata": {
        "colab": {
          "base_uri": "https://localhost:8080/"
        },
        "id": "YTudKXpvV9Yu",
        "outputId": "9fcf8d04-445e-4f0e-b642-6b13edbb72b5"
      },
      "execution_count": null,
      "outputs": [
        {
          "output_type": "execute_result",
          "data": {
            "text/plain": [
              "array([  30.,  564., 1098., 1632., 2166., 2700., 3234., 3768., 4302.,\n",
              "       4836., 5370., 5904., 6438., 6972., 7506., 8040., 8574., 9108.,\n",
              "       9642.])"
            ]
          },
          "metadata": {},
          "execution_count": 64
        }
      ]
    },
    {
      "cell_type": "code",
      "source": [
        "def two_sample_chi_square(bins, X, Y, ddof):\n",
        "   # exp = [(f.cdf(space + delt) - f.cdf(space)) * len(X)]\n",
        "    exp1 = [np.count_nonzero(X < bins[1])]\n",
        "    exp2 = [np.count_nonzero(Y < bins[1])]\n",
        "    for i in range(1, len(bins) - 2):\n",
        "        exp1.append(np.count_nonzero((X >= bins[i]) & (X < bins[i + 1])))\n",
        "        exp2.append(np.count_nonzero((Y >= bins[i]) & (Y < bins[i + 1])))\n",
        "    exp1.append(np.count_nonzero(X >= bins[-2]))\n",
        "    exp2.append(np.count_nonzero(Y >=  bins[-2]))\n",
        "    Z = 0\n",
        "    n_1 = len(X)\n",
        "    n_2 = len(Y)\n",
        "    # for i in range (len(bins) - 1):\n",
        "    #    Z += 1 / (exp1[i] + exp2[i]) * (exp1[i] / n_1 - exp2[i] / n_2) ** 2\n",
        "    # Z *= n_1\n",
        "    # Z *= n_2\n",
        "    return exp1, exp2, bins\n",
        "    # return st.chisquare(obs, exp, ddof = ddof)"
      ],
      "metadata": {
        "id": "X79dNDbmLA4B"
      },
      "execution_count": null,
      "outputs": []
    },
    {
      "cell_type": "code",
      "source": [
        "count_in_bin1, count_in_bin2, interval = two_sample_chi_square(x, C_11, C_12, 2)\n",
        "print(interval)\n",
        "print(count_in_bin1)\n",
        "print(sum(count_in_bin1), len(count_in_bin1))\n",
        "print(count_in_bin2)\n",
        "print(sum(count_in_bin2), len(count_in_bin2))\n",
        "#print(\"\\n\")\n",
        "#print(\"Z =\", Z)\n",
        "#p_value= 2 * min(st.chi2(10 - 1).cdf(Z), 1 - st.chi2(10 - 1).cdf(Z))\n",
        "#print(\"p-value =\", p_value)"
      ],
      "metadata": {
        "colab": {
          "base_uri": "https://localhost:8080/"
        },
        "id": "PFk8_Y6xKaTu",
        "outputId": "0b298640-014f-4a4c-c8ba-cc4a06c927f7"
      },
      "execution_count": null,
      "outputs": [
        {
          "output_type": "stream",
          "name": "stdout",
          "text": [
            "[  30.  564. 1098. 1632. 2166. 2700. 3234. 3768. 4302. 4836. 5370. 5904.\n",
            " 6438. 6972. 7506. 8040. 8574. 9108. 9642.]\n",
            "[12, 64, 61, 51, 42, 24, 25, 9, 7, 6, 3, 4, 3, 2, 0, 1, 0, 1]\n",
            "315 18\n",
            "[105, 141, 54, 9, 3, 1, 0, 1, 0, 0, 0, 0, 1, 0, 0, 0, 0, 0]\n",
            "315 18\n"
          ]
        }
      ]
    },
    {
      "cell_type": "markdown",
      "source": [
        "Объединим последние 7 бинов в один"
      ],
      "metadata": {
        "id": "YonG1MDBUudn"
      }
    },
    {
      "cell_type": "code",
      "source": [
        "x"
      ],
      "metadata": {
        "colab": {
          "base_uri": "https://localhost:8080/"
        },
        "id": "Vv6H5yg4V3_H",
        "outputId": "a0eb9622-27db-4bd8-f1a0-211c9217a20e"
      },
      "execution_count": null,
      "outputs": [
        {
          "output_type": "execute_result",
          "data": {
            "text/plain": [
              "array([  30.,  564., 1098., 1632., 2166., 2700., 3234., 3768., 4302.,\n",
              "       4836., 5370., 5904., 6438., 6972., 7506., 8040., 8574., 9108.,\n",
              "       9642.])"
            ]
          },
          "metadata": {},
          "execution_count": 67
        }
      ]
    },
    {
      "cell_type": "code",
      "source": [
        "new_x = x[:12:]\n",
        "new_x = np.append(new_x, max(C_11.max(), C_12.max()))\n",
        "print(new_x)\n"
      ],
      "metadata": {
        "colab": {
          "base_uri": "https://localhost:8080/"
        },
        "id": "9CZvGaEvUauc",
        "outputId": "1680fad2-acad-4906-edcb-c92c24585d9e"
      },
      "execution_count": null,
      "outputs": [
        {
          "output_type": "stream",
          "name": "stdout",
          "text": [
            "[  30.  564. 1098. 1632. 2166. 2700. 3234. 3768. 4302. 4836. 5370. 5904.\n",
            " 9642.]\n"
          ]
        }
      ]
    },
    {
      "cell_type": "code",
      "source": [
        "count_in_bin1, count_in_bin2, interval = two_sample_chi_square(new_x, C_11, C_12, 2)\n",
        "print(interval)\n",
        "print(count_in_bin1)\n",
        "print(sum(count_in_bin1), len(count_in_bin1))\n",
        "print(count_in_bin2)\n",
        "print(sum(count_in_bin2), len(count_in_bin2))"
      ],
      "metadata": {
        "colab": {
          "base_uri": "https://localhost:8080/"
        },
        "id": "qa6QONQZVi6f",
        "outputId": "e1029f90-3248-43b8-faff-b38c264291d7"
      },
      "execution_count": null,
      "outputs": [
        {
          "output_type": "stream",
          "name": "stdout",
          "text": [
            "[  30.  564. 1098. 1632. 2166. 2700. 3234. 3768. 4302. 4836. 5370. 5904.\n",
            " 9642.]\n",
            "[12, 64, 61, 51, 42, 24, 25, 9, 7, 6, 3, 11]\n",
            "315 12\n",
            "[105, 141, 54, 9, 3, 1, 0, 1, 0, 0, 0, 1]\n",
            "315 12\n"
          ]
        }
      ]
    },
    {
      "cell_type": "code",
      "source": [
        "plt.hist(C_11, bins=new_x, density=True, edgecolor='black', alpha = 0.7)\n",
        "plt.hist(C_12, bins=new_x, density=True, edgecolor='black', alpha = 0.7)\n",
        "plt.title(\"HIST: C11, C12\")\n",
        "plt.show()"
      ],
      "metadata": {
        "colab": {
          "base_uri": "https://localhost:8080/",
          "height": 452
        },
        "id": "EqTHngpyTr8p",
        "outputId": "afb66e90-dd7b-4879-8c65-2b6a79237253"
      },
      "execution_count": null,
      "outputs": [
        {
          "output_type": "display_data",
          "data": {
            "text/plain": [
              "<Figure size 640x480 with 1 Axes>"
            ],
            "image/png": "[encoded data removed]"
          },
          "metadata": {}
        }
      ]
    },
    {
      "cell_type": "code",
      "source": [
        "interval[1] - interval[0]"
      ],
      "metadata": {
        "colab": {
          "base_uri": "https://localhost:8080/"
        },
        "id": "kdkyFPmiX1wL",
        "outputId": "3fdd8ab6-5ce4-458e-b29b-ee83517e571a"
      },
      "execution_count": null,
      "outputs": [
        {
          "output_type": "execute_result",
          "data": {
            "text/plain": [
              "534.0"
            ]
          },
          "metadata": {},
          "execution_count": 71
        }
      ]
    },
    {
      "cell_type": "code",
      "source": [
        "for i in range(len(new_x) - 1):\n",
        "  print(\"Номер интервала {}, интервал {}:{}\".format(i + 1, interval[i], interval[i + 1]))"
      ],
      "metadata": {
        "colab": {
          "base_uri": "https://localhost:8080/"
        },
        "outputId": "594c3075-0287-4e42-b036-7dba9125fe6e",
        "id": "cMgBZ6DhX18l"
      },
      "execution_count": null,
      "outputs": [
        {
          "output_type": "stream",
          "name": "stdout",
          "text": [
            "Номер интервала 1, интервал 30.0:564.0\n",
            "Номер интервала 2, интервал 564.0:1098.0\n",
            "Номер интервала 3, интервал 1098.0:1632.0\n",
            "Номер интервала 4, интервал 1632.0:2166.0\n",
            "Номер интервала 5, интервал 2166.0:2700.0\n",
            "Номер интервала 6, интервал 2700.0:3234.0\n",
            "Номер интервала 7, интервал 3234.0:3768.0\n",
            "Номер интервала 8, интервал 3768.0:4302.0\n",
            "Номер интервала 9, интервал 4302.0:4836.0\n",
            "Номер интервала 10, интервал 4836.0:5370.0\n",
            "Номер интервала 11, интервал 5370.0:5904.0\n",
            "Номер интервала 12, интервал 5904.0:9642.0\n"
          ]
        }
      ]
    },
    {
      "cell_type": "code",
      "source": [
        "for i in range(len(new_x) - 1):\n",
        "  print(\"Номер интервала {}, частота1 {}, частота2 {}, отн частота1 {},  отн частота2 {}\".format(i + 1, count_in_bin1[i], count_in_bin2[i], count_in_bin1[i] / n, count_in_bin2[i] / n))"
      ],
      "metadata": {
        "colab": {
          "base_uri": "https://localhost:8080/"
        },
        "outputId": "7c258ca8-f2c2-49ef-faa5-00525d386d00",
        "id": "0_HFnbz6X18m"
      },
      "execution_count": null,
      "outputs": [
        {
          "output_type": "stream",
          "name": "stdout",
          "text": [
            "Номер интервала 1, частота1 12, частота2 105, отн частота1 0.0380952380952381,  отн частота2 0.3333333333333333\n",
            "Номер интервала 2, частота1 64, частота2 141, отн частота1 0.20317460317460317,  отн частота2 0.44761904761904764\n",
            "Номер интервала 3, частота1 61, частота2 54, отн частота1 0.19365079365079366,  отн частота2 0.17142857142857143\n",
            "Номер интервала 4, частота1 51, частота2 9, отн частота1 0.1619047619047619,  отн частота2 0.02857142857142857\n",
            "Номер интервала 5, частота1 42, частота2 3, отн частота1 0.13333333333333333,  отн частота2 0.009523809523809525\n",
            "Номер интервала 6, частота1 24, частота2 1, отн частота1 0.0761904761904762,  отн частота2 0.0031746031746031746\n",
            "Номер интервала 7, частота1 25, частота2 0, отн частота1 0.07936507936507936,  отн частота2 0.0\n",
            "Номер интервала 8, частота1 9, частота2 1, отн частота1 0.02857142857142857,  отн частота2 0.0031746031746031746\n",
            "Номер интервала 9, частота1 7, частота2 0, отн частота1 0.022222222222222223,  отн частота2 0.0\n",
            "Номер интервала 10, частота1 6, частота2 0, отн частота1 0.01904761904761905,  отн частота2 0.0\n",
            "Номер интервала 11, частота1 3, частота2 0, отн частота1 0.009523809523809525,  отн частота2 0.0\n",
            "Номер интервала 12, частота1 11, частота2 1, отн частота1 0.03492063492063492,  отн частота2 0.0031746031746031746\n"
          ]
        }
      ]
    },
    {
      "cell_type": "code",
      "source": [
        "for i in range(len(new_x) - 1):\n",
        "  print(round(count_in_bin2[i] / n, 3))"
      ],
      "metadata": {
        "colab": {
          "base_uri": "https://localhost:8080/"
        },
        "id": "EeETU27TXXTS",
        "outputId": "3d50ade3-1e5b-45da-e9ba-0c92ad764827"
      },
      "execution_count": null,
      "outputs": [
        {
          "output_type": "stream",
          "name": "stdout",
          "text": [
            "0.333\n",
            "0.448\n",
            "0.171\n",
            "0.029\n",
            "0.01\n",
            "0.003\n",
            "0.0\n",
            "0.003\n",
            "0.0\n",
            "0.0\n",
            "0.0\n",
            "0.003\n"
          ]
        }
      ]
    },
    {
      "cell_type": "code",
      "source": [
        "st.chi2_contingency([count_in_bin1, count_in_bin2])"
      ],
      "metadata": {
        "colab": {
          "base_uri": "https://localhost:8080/"
        },
        "id": "CJ2SU-8PZ9ls",
        "outputId": "df9e8889-5402-4a89-f2d6-f94d1bd381c9"
      },
      "execution_count": null,
      "outputs": [
        {
          "output_type": "execute_result",
          "data": {
            "text/plain": [
              "Chi2ContingencyResult(statistic=243.36444843244416, pvalue=6.838681808226947e-46, dof=11, expected_freq=array([[ 58.5, 102.5,  57.5,  30. ,  22.5,  12.5,  12.5,   5. ,   3.5,\n",
              "          3. ,   1.5,   6. ],\n",
              "       [ 58.5, 102.5,  57.5,  30. ,  22.5,  12.5,  12.5,   5. ,   3.5,\n",
              "          3. ,   1.5,   6. ]]))"
            ]
          },
          "metadata": {},
          "execution_count": 75
        }
      ]
    },
    {
      "cell_type": "markdown",
      "source": [
        "6. Таблицы сопряжённости"
      ],
      "metadata": {
        "id": "T8DPwa5nT8Vb"
      }
    },
    {
      "cell_type": "code",
      "source": [
        "C_2 = df.C2\n",
        "C_5 = df.C5"
      ],
      "metadata": {
        "id": "flIzF7qicRvx"
      },
      "execution_count": null,
      "outputs": []
    },
    {
      "cell_type": "code",
      "source": [
        "C_2\n"
      ],
      "metadata": {
        "colab": {
          "base_uri": "https://localhost:8080/"
        },
        "id": "ewTia1AhWedX",
        "outputId": "9eb8289c-27e4-4f21-80c6-eddb2d0ccb62"
      },
      "execution_count": null,
      "outputs": [
        {
          "output_type": "execute_result",
          "data": {
            "text/plain": [
              "0      Female\n",
              "1      Female\n",
              "2      Female\n",
              "3      Female\n",
              "4      Female\n",
              "        ...  \n",
              "310    Female\n",
              "311    Female\n",
              "312    Female\n",
              "313    Female\n",
              "314    Female\n",
              "Name: C2, Length: 315, dtype: object"
            ]
          },
          "metadata": {},
          "execution_count": 77
        }
      ]
    },
    {
      "cell_type": "code",
      "source": [
        "C_2_val = {}\n",
        "len(C_2)"
      ],
      "metadata": {
        "colab": {
          "base_uri": "https://localhost:8080/"
        },
        "id": "69Nmzuo5UzU-",
        "outputId": "1d2de441-b324-483f-e266-bd2e0cafd530"
      },
      "execution_count": null,
      "outputs": [
        {
          "output_type": "execute_result",
          "data": {
            "text/plain": [
              "315"
            ]
          },
          "metadata": {},
          "execution_count": 78
        }
      ]
    },
    {
      "cell_type": "code",
      "source": [
        "C_2"
      ],
      "metadata": {
        "colab": {
          "base_uri": "https://localhost:8080/"
        },
        "id": "cswGlrnCXI0f",
        "outputId": "ba847f1f-0138-4c09-e270-580be1b0fbf1"
      },
      "execution_count": null,
      "outputs": [
        {
          "output_type": "execute_result",
          "data": {
            "text/plain": [
              "0      Female\n",
              "1      Female\n",
              "2      Female\n",
              "3      Female\n",
              "4      Female\n",
              "        ...  \n",
              "310    Female\n",
              "311    Female\n",
              "312    Female\n",
              "313    Female\n",
              "314    Female\n",
              "Name: C2, Length: 315, dtype: object"
            ]
          },
          "metadata": {},
          "execution_count": 79
        }
      ]
    },
    {
      "cell_type": "code",
      "source": [
        "C_2_val = C_2.groupby(C_2).count().to_dict()\n",
        "C_2_val"
      ],
      "metadata": {
        "colab": {
          "base_uri": "https://localhost:8080/"
        },
        "id": "L0-ZbZVFV1xA",
        "outputId": "92928247-e359-4a3c-be88-9bcf1720dea4"
      },
      "execution_count": null,
      "outputs": [
        {
          "output_type": "execute_result",
          "data": {
            "text/plain": [
              "{'Female': 273, 'Male': 42}"
            ]
          },
          "metadata": {},
          "execution_count": 80
        }
      ]
    },
    {
      "cell_type": "code",
      "source": [
        "C_5_val = C_5.groupby(C_5).count().to_dict()\n",
        "C_5_val"
      ],
      "metadata": {
        "colab": {
          "base_uri": "https://localhost:8080/"
        },
        "id": "mW4p6H1XT85O",
        "outputId": "3dfb9181-4ec4-42ef-c260-2cef1f7250e0"
      },
      "execution_count": null,
      "outputs": [
        {
          "output_type": "execute_result",
          "data": {
            "text/plain": [
              "{'No': 111, 'Not often': 82, 'Often': 122}"
            ]
          },
          "metadata": {},
          "execution_count": 81
        }
      ]
    },
    {
      "cell_type": "code",
      "source": [
        "C_2_5 = df[['C2', 'C5']]\n",
        "C_2_5"
      ],
      "metadata": {
        "colab": {
          "base_uri": "https://localhost:8080/",
          "height": 423
        },
        "id": "NRSzGYuxUa4D",
        "outputId": "7e6c25ea-b91e-4d6f-fa91-7cfba5e0e1a3"
      },
      "execution_count": null,
      "outputs": [
        {
          "output_type": "execute_result",
          "data": {
            "text/plain": [
              "         C2         C5\n",
              "0    Female      Often\n",
              "1    Female      Often\n",
              "2    Female  Not often\n",
              "3    Female         No\n",
              "4    Female      Often\n",
              "..      ...        ...\n",
              "310  Female         No\n",
              "311  Female      Often\n",
              "312  Female      Often\n",
              "313  Female      Often\n",
              "314  Female      Often\n",
              "\n",
              "[315 rows x 2 columns]"
            ],
            "text/html": [
              "\n",
              "  <div id=\"df-2b4cf2d4-8120-4f15-ac0c-28f87446044b\" class=\"colab-df-container\">\n",
              "    <div>\n",
              "<style scoped>\n",
              "    .dataframe tbody tr th:only-of-type {\n",
              "        vertical-align: middle;\n",
              "    }\n",
              "\n",
              "    .dataframe tbody tr th {\n",
              "        vertical-align: top;\n",
              "    }\n",
              "\n",
              "    .dataframe thead th {\n",
              "        text-align: right;\n",
              "    }\n",
              "</style>\n",
              "<table border=\"1\" class=\"dataframe\">\n",
              "  <thead>\n",
              "    <tr style=\"text-align: right;\">\n",
              "      <th></th>\n",
              "      <th>C2</th>\n",
              "      <th>C5</th>\n",
              "    </tr>\n",
              "  </thead>\n",
              "  <tbody>\n",
              "    <tr>\n",
              "      <th>0</th>\n",
              "      <td>Female</td>\n",
              "      <td>Often</td>\n",
              "    </tr>\n",
              "    <tr>\n",
              "      <th>1</th>\n",
              "      <td>Female</td>\n",
              "      <td>Often</td>\n",
              "    </tr>\n",
              "    <tr>\n",
              "      <th>2</th>\n",
              "      <td>Female</td>\n",
              "      <td>Not often</td>\n",
              "    </tr>\n",
              "    <tr>\n",
              "      <th>3</th>\n",
              "      <td>Female</td>\n",
              "      <td>No</td>\n",
              "    </tr>\n",
              "    <tr>\n",
              "      <th>4</th>\n",
              "      <td>Female</td>\n",
              "      <td>Often</td>\n",
              "    </tr>\n",
              "    <tr>\n",
              "      <th>...</th>\n",
              "      <td>...</td>\n",
              "      <td>...</td>\n",
              "    </tr>\n",
              "    <tr>\n",
              "      <th>310</th>\n",
              "      <td>Female</td>\n",
              "      <td>No</td>\n",
              "    </tr>\n",
              "    <tr>\n",
              "      <th>311</th>\n",
              "      <td>Female</td>\n",
              "      <td>Often</td>\n",
              "    </tr>\n",
              "    <tr>\n",
              "      <th>312</th>\n",
              "      <td>Female</td>\n",
              "      <td>Often</td>\n",
              "    </tr>\n",
              "    <tr>\n",
              "      <th>313</th>\n",
              "      <td>Female</td>\n",
              "      <td>Often</td>\n",
              "    </tr>\n",
              "    <tr>\n",
              "      <th>314</th>\n",
              "      <td>Female</td>\n",
              "      <td>Often</td>\n",
              "    </tr>\n",
              "  </tbody>\n",
              "</table>\n",
              "<p>315 rows × 2 columns</p>\n",
              "</div>\n",
              "    <div class=\"colab-df-buttons\">\n",
              "\n",
              "  <div class=\"colab-df-container\">\n",
              "    <button class=\"colab-df-convert\" onclick=\"convertToInteractive('df-2b4cf2d4-8120-4f15-ac0c-28f87446044b')\"\n",
              "            title=\"Convert this dataframe to an interactive table.\"\n",
              "            style=\"display:none;\">\n",
              "\n",
              "  <svg xmlns=\"http://www.w3.org/2000/svg\" height=\"24px\" viewBox=\"0 -960 960 960\">\n",
              "    <path d=\"M120-120v-720h720v720H120Zm60-500h600v-160H180v160Zm220 220h160v-160H400v160Zm0 220h160v-160H400v160ZM180-400h160v-160H180v160Zm440 0h160v-160H620v160ZM180-180h160v-160H180v160Zm440 0h160v-160H620v160Z\"/>\n",
              "  </svg>\n",
              "    </button>\n",
              "\n",
              "  <style>\n",
              "    .colab-df-container {\n",
              "      display:flex;\n",
              "      gap: 12px;\n",
              "    }\n",
              "\n",
              "    .colab-df-convert {\n",
              "      background-color: #E8F0FE;\n",
              "      border: none;\n",
              "      border-radius: 50%;\n",
              "      cursor: pointer;\n",
              "      display: none;\n",
              "      fill: #1967D2;\n",
              "      height: 32px;\n",
              "      padding: 0 0 0 0;\n",
              "      width: 32px;\n",
              "    }\n",
              "\n",
              "    .colab-df-convert:hover {\n",
              "      background-color: #E2EBFA;\n",
              "      box-shadow: 0px 1px 2px rgba(60, 64, 67, 0.3), 0px 1px 3px 1px rgba(60, 64, 67, 0.15);\n",
              "      fill: #174EA6;\n",
              "    }\n",
              "\n",
              "    .colab-df-buttons div {\n",
              "      margin-bottom: 4px;\n",
              "    }\n",
              "\n",
              "    [theme=dark] .colab-df-convert {\n",
              "      background-color: #3B4455;\n",
              "      fill: #D2E3FC;\n",
              "    }\n",
              "\n",
              "    [theme=dark] .colab-df-convert:hover {\n",
              "      background-color: #434B5C;\n",
              "      box-shadow: 0px 1px 3px 1px rgba(0, 0, 0, 0.15);\n",
              "      filter: drop-shadow(0px 1px 2px rgba(0, 0, 0, 0.3));\n",
              "      fill: #FFFFFF;\n",
              "    }\n",
              "  </style>\n",
              "\n",
              "    <script>\n",
              "      const buttonEl =\n",
              "        document.querySelector('#df-2b4cf2d4-8120-4f15-ac0c-28f87446044b button.colab-df-convert');\n",
              "      buttonEl.style.display =\n",
              "        google.colab.kernel.accessAllowed ? 'block' : 'none';\n",
              "\n",
              "      async function convertToInteractive(key) {\n",
              "        const element = document.querySelector('#df-2b4cf2d4-8120-4f15-ac0c-28f87446044b');\n",
              "        const dataTable =\n",
              "          await google.colab.kernel.invokeFunction('convertToInteractive',\n",
              "                                                    [key], {});\n",
              "        if (!dataTable) return;\n",
              "\n",
              "        const docLinkHtml = 'Like what you see? Visit the ' +\n",
              "          '<a target=\"_blank\" href=https://colab.research.google.com/notebooks/data_table.ipynb>data table notebook</a>'\n",
              "          + ' to learn more about interactive tables.';\n",
              "        element.innerHTML = '';\n",
              "        dataTable['output_type'] = 'display_data';\n",
              "        await google.colab.output.renderOutput(dataTable, element);\n",
              "        const docLink = document.createElement('div');\n",
              "        docLink.innerHTML = docLinkHtml;\n",
              "        element.appendChild(docLink);\n",
              "      }\n",
              "    </script>\n",
              "  </div>\n",
              "\n",
              "\n",
              "<div id=\"df-5d227050-29e7-47df-ae37-e3e1ce5b1e62\">\n",
              "  <button class=\"colab-df-quickchart\" onclick=\"quickchart('df-5d227050-29e7-47df-ae37-e3e1ce5b1e62')\"\n",
              "            title=\"Suggest charts\"\n",
              "            style=\"display:none;\">\n",
              "\n",
              "<svg xmlns=\"http://www.w3.org/2000/svg\" height=\"24px\"viewBox=\"0 0 24 24\"\n",
              "     width=\"24px\">\n",
              "    <g>\n",
              "        <path d=\"M19 3H5c-1.1 0-2 .9-2 2v14c0 1.1.9 2 2 2h14c1.1 0 2-.9 2-2V5c0-1.1-.9-2-2-2zM9 17H7v-7h2v7zm4 0h-2V7h2v10zm4 0h-2v-4h2v4z\"/>\n",
              "    </g>\n",
              "</svg>\n",
              "  </button>\n",
              "\n",
              "<style>\n",
              "  .colab-df-quickchart {\n",
              "      --bg-color: #E8F0FE;\n",
              "      --fill-color: #1967D2;\n",
              "      --hover-bg-color: #E2EBFA;\n",
              "      --hover-fill-color: #174EA6;\n",
              "      --disabled-fill-color: #AAA;\n",
              "      --disabled-bg-color: #DDD;\n",
              "  }\n",
              "\n",
              "  [theme=dark] .colab-df-quickchart {\n",
              "      --bg-color: #3B4455;\n",
              "      --fill-color: #D2E3FC;\n",
              "      --hover-bg-color: #434B5C;\n",
              "      --hover-fill-color: #FFFFFF;\n",
              "      --disabled-bg-color: #3B4455;\n",
              "      --disabled-fill-color: #666;\n",
              "  }\n",
              "\n",
              "  .colab-df-quickchart {\n",
              "    background-color: var(--bg-color);\n",
              "    border: none;\n",
              "    border-radius: 50%;\n",
              "    cursor: pointer;\n",
              "    display: none;\n",
              "    fill: var(--fill-color);\n",
              "    height: 32px;\n",
              "    padding: 0;\n",
              "    width: 32px;\n",
              "  }\n",
              "\n",
              "  .colab-df-quickchart:hover {\n",
              "    background-color: var(--hover-bg-color);\n",
              "    box-shadow: 0 1px 2px rgba(60, 64, 67, 0.3), 0 1px 3px 1px rgba(60, 64, 67, 0.15);\n",
              "    fill: var(--button-hover-fill-color);\n",
              "  }\n",
              "\n",
              "  .colab-df-quickchart-complete:disabled,\n",
              "  .colab-df-quickchart-complete:disabled:hover {\n",
              "    background-color: var(--disabled-bg-color);\n",
              "    fill: var(--disabled-fill-color);\n",
              "    box-shadow: none;\n",
              "  }\n",
              "\n",
              "  .colab-df-spinner {\n",
              "    border: 2px solid var(--fill-color);\n",
              "    border-color: transparent;\n",
              "    border-bottom-color: var(--fill-color);\n",
              "    animation:\n",
              "      spin 1s steps(1) infinite;\n",
              "  }\n",
              "\n",
              "  @keyframes spin {\n",
              "    0% {\n",
              "      border-color: transparent;\n",
              "      border-bottom-color: var(--fill-color);\n",
              "      border-left-color: var(--fill-color);\n",
              "    }\n",
              "    20% {\n",
              "      border-color: transparent;\n",
              "      border-left-color: var(--fill-color);\n",
              "      border-top-color: var(--fill-color);\n",
              "    }\n",
              "    30% {\n",
              "      border-color: transparent;\n",
              "      border-left-color: var(--fill-color);\n",
              "      border-top-color: var(--fill-color);\n",
              "      border-right-color: var(--fill-color);\n",
              "    }\n",
              "    40% {\n",
              "      border-color: transparent;\n",
              "      border-right-color: var(--fill-color);\n",
              "      border-top-color: var(--fill-color);\n",
              "    }\n",
              "    60% {\n",
              "      border-color: transparent;\n",
              "      border-right-color: var(--fill-color);\n",
              "    }\n",
              "    80% {\n",
              "      border-color: transparent;\n",
              "      border-right-color: var(--fill-color);\n",
              "      border-bottom-color: var(--fill-color);\n",
              "    }\n",
              "    90% {\n",
              "      border-color: transparent;\n",
              "      border-bottom-color: var(--fill-color);\n",
              "    }\n",
              "  }\n",
              "</style>\n",
              "\n",
              "  <script>\n",
              "    async function quickchart(key) {\n",
              "      const quickchartButtonEl =\n",
              "        document.querySelector('#' + key + ' button');\n",
              "      quickchartButtonEl.disabled = true;  // To prevent multiple clicks.\n",
              "      quickchartButtonEl.classList.add('colab-df-spinner');\n",
              "      try {\n",
              "        const charts = await google.colab.kernel.invokeFunction(\n",
              "            'suggestCharts', [key], {});\n",
              "      } catch (error) {\n",
              "        console.error('Error during call to suggestCharts:', error);\n",
              "      }\n",
              "      quickchartButtonEl.classList.remove('colab-df-spinner');\n",
              "      quickchartButtonEl.classList.add('colab-df-quickchart-complete');\n",
              "    }\n",
              "    (() => {\n",
              "      let quickchartButtonEl =\n",
              "        document.querySelector('#df-5d227050-29e7-47df-ae37-e3e1ce5b1e62 button');\n",
              "      quickchartButtonEl.style.display =\n",
              "        google.colab.kernel.accessAllowed ? 'block' : 'none';\n",
              "    })();\n",
              "  </script>\n",
              "</div>\n",
              "    </div>\n",
              "  </div>\n"
            ]
          },
          "metadata": {},
          "execution_count": 82
        }
      ]
    },
    {
      "cell_type": "code",
      "source": [
        "empirical_table = pd.crosstab(C_2, C_5)\n",
        "empirical_table.values"
      ],
      "metadata": {
        "colab": {
          "base_uri": "https://localhost:8080/"
        },
        "id": "xiZ-pLQoY1ki",
        "outputId": "ce209010-c71f-4261-b678-2c726c4088cd"
      },
      "execution_count": null,
      "outputs": [
        {
          "output_type": "execute_result",
          "data": {
            "text/plain": [
              "array([[ 87,  77, 109],\n",
              "       [ 24,   5,  13]])"
            ]
          },
          "metadata": {},
          "execution_count": 83
        }
      ]
    },
    {
      "cell_type": "code",
      "source": [
        "theor_table = np.zeros((2 , 3))\n",
        "for i in range(2):\n",
        "    for j in range(3):\n",
        "        s1 = empirical_table.iloc[i].sum()\n",
        "        s2 = empirical_table.iloc[:, j].sum()\n",
        "        theor_table[i][j] = (s1 * s2) / len(C_2)\n",
        "theor_table"
      ],
      "metadata": {
        "colab": {
          "base_uri": "https://localhost:8080/"
        },
        "id": "SDbx83yrcmJC",
        "outputId": "3641cbaa-4bab-413d-f8c2-9709bb55767c"
      },
      "execution_count": null,
      "outputs": [
        {
          "output_type": "execute_result",
          "data": {
            "text/plain": [
              "array([[ 96.2       ,  71.06666667, 105.73333333],\n",
              "       [ 14.8       ,  10.93333333,  16.26666667]])"
            ]
          },
          "metadata": {},
          "execution_count": 84
        }
      ]
    },
    {
      "cell_type": "code",
      "source": [
        "st.chi2_contingency(empirical_table)"
      ],
      "metadata": {
        "colab": {
          "base_uri": "https://localhost:8080/"
        },
        "id": "BvQ0qVDTcPXP",
        "outputId": "849ba55c-1ed8-4fc7-92f4-83ed2caf6d51"
      },
      "execution_count": null,
      "outputs": [
        {
          "output_type": "execute_result",
          "data": {
            "text/plain": [
              "Chi2ContingencyResult(statistic=11.070979092770376, pvalue=0.003944277256603155, dof=2, expected_freq=array([[ 96.2       ,  71.06666667, 105.73333333],\n",
              "       [ 14.8       ,  10.93333333,  16.26666667]]))"
            ]
          },
          "metadata": {},
          "execution_count": 85
        }
      ]
    },
    {
      "cell_type": "markdown",
      "source": [
        "7. Дисперсионный анализ"
      ],
      "metadata": {
        "id": "O2KHTxr1kL7x"
      }
    },
    {
      "cell_type": "code",
      "source": [
        "C_3 = df.C3\n",
        "C_14 = df.C14"
      ],
      "metadata": {
        "id": "DrHf22aVixmt"
      },
      "execution_count": null,
      "outputs": []
    },
    {
      "cell_type": "code",
      "source": [
        "C_3_val = C_3.groupby(C_3).count().to_dict()\n",
        "C_3_val"
      ],
      "metadata": {
        "colab": {
          "base_uri": "https://localhost:8080/"
        },
        "id": "AKCDgOS8kT0U",
        "outputId": "e4aac013-f846-4881-be2c-6a68a274dff2"
      },
      "execution_count": null,
      "outputs": [
        {
          "output_type": "execute_result",
          "data": {
            "text/plain": [
              "{'Current Smoker': 43, 'Former': 115, 'Never': 157}"
            ]
          },
          "metadata": {},
          "execution_count": 87
        }
      ]
    },
    {
      "cell_type": "code",
      "source": [
        "list(C_3_val.keys())[0]"
      ],
      "metadata": {
        "colab": {
          "base_uri": "https://localhost:8080/",
          "height": 35
        },
        "id": "_DNWCH33vnLA",
        "outputId": "0101bfc4-1236-4959-f27f-86aa5171cc08"
      },
      "execution_count": null,
      "outputs": [
        {
          "output_type": "execute_result",
          "data": {
            "text/plain": [
              "'Current Smoker'"
            ],
            "application/vnd.google.colaboratory.intrinsic+json": {
              "type": "string"
            }
          },
          "metadata": {},
          "execution_count": 88
        }
      ]
    },
    {
      "cell_type": "code",
      "source": [
        "C_3_14 = df[['C3', 'C14']]\n",
        "C_3_14"
      ],
      "metadata": {
        "colab": {
          "base_uri": "https://localhost:8080/",
          "height": 423
        },
        "id": "dQFjh_4MkciR",
        "outputId": "4ad04e07-ebad-4f7e-c69a-854aad098f76"
      },
      "execution_count": null,
      "outputs": [
        {
          "output_type": "execute_result",
          "data": {
            "text/plain": [
              "         C3  C14\n",
              "0    Former  915\n",
              "1     Never  727\n",
              "2    Former  721\n",
              "3    Former  615\n",
              "4     Never  799\n",
              "..      ...  ...\n",
              "310  Former  216\n",
              "311   Never  328\n",
              "312   Never  502\n",
              "313  Former  684\n",
              "314   Never  826\n",
              "\n",
              "[315 rows x 2 columns]"
            ],
            "text/html": [
              "\n",
              "  <div id=\"df-6974c44d-1993-45c9-9b0c-a90142983ffd\" class=\"colab-df-container\">\n",
              "    <div>\n",
              "<style scoped>\n",
              "    .dataframe tbody tr th:only-of-type {\n",
              "        vertical-align: middle;\n",
              "    }\n",
              "\n",
              "    .dataframe tbody tr th {\n",
              "        vertical-align: top;\n",
              "    }\n",
              "\n",
              "    .dataframe thead th {\n",
              "        text-align: right;\n",
              "    }\n",
              "</style>\n",
              "<table border=\"1\" class=\"dataframe\">\n",
              "  <thead>\n",
              "    <tr style=\"text-align: right;\">\n",
              "      <th></th>\n",
              "      <th>C3</th>\n",
              "      <th>C14</th>\n",
              "    </tr>\n",
              "  </thead>\n",
              "  <tbody>\n",
              "    <tr>\n",
              "      <th>0</th>\n",
              "      <td>Former</td>\n",
              "      <td>915</td>\n",
              "    </tr>\n",
              "    <tr>\n",
              "      <th>1</th>\n",
              "      <td>Never</td>\n",
              "      <td>727</td>\n",
              "    </tr>\n",
              "    <tr>\n",
              "      <th>2</th>\n",
              "      <td>Former</td>\n",
              "      <td>721</td>\n",
              "    </tr>\n",
              "    <tr>\n",
              "      <th>3</th>\n",
              "      <td>Former</td>\n",
              "      <td>615</td>\n",
              "    </tr>\n",
              "    <tr>\n",
              "      <th>4</th>\n",
              "      <td>Never</td>\n",
              "      <td>799</td>\n",
              "    </tr>\n",
              "    <tr>\n",
              "      <th>...</th>\n",
              "      <td>...</td>\n",
              "      <td>...</td>\n",
              "    </tr>\n",
              "    <tr>\n",
              "      <th>310</th>\n",
              "      <td>Former</td>\n",
              "      <td>216</td>\n",
              "    </tr>\n",
              "    <tr>\n",
              "      <th>311</th>\n",
              "      <td>Never</td>\n",
              "      <td>328</td>\n",
              "    </tr>\n",
              "    <tr>\n",
              "      <th>312</th>\n",
              "      <td>Never</td>\n",
              "      <td>502</td>\n",
              "    </tr>\n",
              "    <tr>\n",
              "      <th>313</th>\n",
              "      <td>Former</td>\n",
              "      <td>684</td>\n",
              "    </tr>\n",
              "    <tr>\n",
              "      <th>314</th>\n",
              "      <td>Never</td>\n",
              "      <td>826</td>\n",
              "    </tr>\n",
              "  </tbody>\n",
              "</table>\n",
              "<p>315 rows × 2 columns</p>\n",
              "</div>\n",
              "    <div class=\"colab-df-buttons\">\n",
              "\n",
              "  <div class=\"colab-df-container\">\n",
              "    <button class=\"colab-df-convert\" onclick=\"convertToInteractive('df-6974c44d-1993-45c9-9b0c-a90142983ffd')\"\n",
              "            title=\"Convert this dataframe to an interactive table.\"\n",
              "            style=\"display:none;\">\n",
              "\n",
              "  <svg xmlns=\"http://www.w3.org/2000/svg\" height=\"24px\" viewBox=\"0 -960 960 960\">\n",
              "    <path d=\"M120-120v-720h720v720H120Zm60-500h600v-160H180v160Zm220 220h160v-160H400v160Zm0 220h160v-160H400v160ZM180-400h160v-160H180v160Zm440 0h160v-160H620v160ZM180-180h160v-160H180v160Zm440 0h160v-160H620v160Z\"/>\n",
              "  </svg>\n",
              "    </button>\n",
              "\n",
              "  <style>\n",
              "    .colab-df-container {\n",
              "      display:flex;\n",
              "      gap: 12px;\n",
              "    }\n",
              "\n",
              "    .colab-df-convert {\n",
              "      background-color: #E8F0FE;\n",
              "      border: none;\n",
              "      border-radius: 50%;\n",
              "      cursor: pointer;\n",
              "      display: none;\n",
              "      fill: #1967D2;\n",
              "      height: 32px;\n",
              "      padding: 0 0 0 0;\n",
              "      width: 32px;\n",
              "    }\n",
              "\n",
              "    .colab-df-convert:hover {\n",
              "      background-color: #E2EBFA;\n",
              "      box-shadow: 0px 1px 2px rgba(60, 64, 67, 0.3), 0px 1px 3px 1px rgba(60, 64, 67, 0.15);\n",
              "      fill: #174EA6;\n",
              "    }\n",
              "\n",
              "    .colab-df-buttons div {\n",
              "      margin-bottom: 4px;\n",
              "    }\n",
              "\n",
              "    [theme=dark] .colab-df-convert {\n",
              "      background-color: #3B4455;\n",
              "      fill: #D2E3FC;\n",
              "    }\n",
              "\n",
              "    [theme=dark] .colab-df-convert:hover {\n",
              "      background-color: #434B5C;\n",
              "      box-shadow: 0px 1px 3px 1px rgba(0, 0, 0, 0.15);\n",
              "      filter: drop-shadow(0px 1px 2px rgba(0, 0, 0, 0.3));\n",
              "      fill: #FFFFFF;\n",
              "    }\n",
              "  </style>\n",
              "\n",
              "    <script>\n",
              "      const buttonEl =\n",
              "        document.querySelector('#df-6974c44d-1993-45c9-9b0c-a90142983ffd button.colab-df-convert');\n",
              "      buttonEl.style.display =\n",
              "        google.colab.kernel.accessAllowed ? 'block' : 'none';\n",
              "\n",
              "      async function convertToInteractive(key) {\n",
              "        const element = document.querySelector('#df-6974c44d-1993-45c9-9b0c-a90142983ffd');\n",
              "        const dataTable =\n",
              "          await google.colab.kernel.invokeFunction('convertToInteractive',\n",
              "                                                    [key], {});\n",
              "        if (!dataTable) return;\n",
              "\n",
              "        const docLinkHtml = 'Like what you see? Visit the ' +\n",
              "          '<a target=\"_blank\" href=https://colab.research.google.com/notebooks/data_table.ipynb>data table notebook</a>'\n",
              "          + ' to learn more about interactive tables.';\n",
              "        element.innerHTML = '';\n",
              "        dataTable['output_type'] = 'display_data';\n",
              "        await google.colab.output.renderOutput(dataTable, element);\n",
              "        const docLink = document.createElement('div');\n",
              "        docLink.innerHTML = docLinkHtml;\n",
              "        element.appendChild(docLink);\n",
              "      }\n",
              "    </script>\n",
              "  </div>\n",
              "\n",
              "\n",
              "<div id=\"df-937e823c-9ed1-4d8a-95b8-6756030967f1\">\n",
              "  <button class=\"colab-df-quickchart\" onclick=\"quickchart('df-937e823c-9ed1-4d8a-95b8-6756030967f1')\"\n",
              "            title=\"Suggest charts\"\n",
              "            style=\"display:none;\">\n",
              "\n",
              "<svg xmlns=\"http://www.w3.org/2000/svg\" height=\"24px\"viewBox=\"0 0 24 24\"\n",
              "     width=\"24px\">\n",
              "    <g>\n",
              "        <path d=\"M19 3H5c-1.1 0-2 .9-2 2v14c0 1.1.9 2 2 2h14c1.1 0 2-.9 2-2V5c0-1.1-.9-2-2-2zM9 17H7v-7h2v7zm4 0h-2V7h2v10zm4 0h-2v-4h2v4z\"/>\n",
              "    </g>\n",
              "</svg>\n",
              "  </button>\n",
              "\n",
              "<style>\n",
              "  .colab-df-quickchart {\n",
              "      --bg-color: #E8F0FE;\n",
              "      --fill-color: #1967D2;\n",
              "      --hover-bg-color: #E2EBFA;\n",
              "      --hover-fill-color: #174EA6;\n",
              "      --disabled-fill-color: #AAA;\n",
              "      --disabled-bg-color: #DDD;\n",
              "  }\n",
              "\n",
              "  [theme=dark] .colab-df-quickchart {\n",
              "      --bg-color: #3B4455;\n",
              "      --fill-color: #D2E3FC;\n",
              "      --hover-bg-color: #434B5C;\n",
              "      --hover-fill-color: #FFFFFF;\n",
              "      --disabled-bg-color: #3B4455;\n",
              "      --disabled-fill-color: #666;\n",
              "  }\n",
              "\n",
              "  .colab-df-quickchart {\n",
              "    background-color: var(--bg-color);\n",
              "    border: none;\n",
              "    border-radius: 50%;\n",
              "    cursor: pointer;\n",
              "    display: none;\n",
              "    fill: var(--fill-color);\n",
              "    height: 32px;\n",
              "    padding: 0;\n",
              "    width: 32px;\n",
              "  }\n",
              "\n",
              "  .colab-df-quickchart:hover {\n",
              "    background-color: var(--hover-bg-color);\n",
              "    box-shadow: 0 1px 2px rgba(60, 64, 67, 0.3), 0 1px 3px 1px rgba(60, 64, 67, 0.15);\n",
              "    fill: var(--button-hover-fill-color);\n",
              "  }\n",
              "\n",
              "  .colab-df-quickchart-complete:disabled,\n",
              "  .colab-df-quickchart-complete:disabled:hover {\n",
              "    background-color: var(--disabled-bg-color);\n",
              "    fill: var(--disabled-fill-color);\n",
              "    box-shadow: none;\n",
              "  }\n",
              "\n",
              "  .colab-df-spinner {\n",
              "    border: 2px solid var(--fill-color);\n",
              "    border-color: transparent;\n",
              "    border-bottom-color: var(--fill-color);\n",
              "    animation:\n",
              "      spin 1s steps(1) infinite;\n",
              "  }\n",
              "\n",
              "  @keyframes spin {\n",
              "    0% {\n",
              "      border-color: transparent;\n",
              "      border-bottom-color: var(--fill-color);\n",
              "      border-left-color: var(--fill-color);\n",
              "    }\n",
              "    20% {\n",
              "      border-color: transparent;\n",
              "      border-left-color: var(--fill-color);\n",
              "      border-top-color: var(--fill-color);\n",
              "    }\n",
              "    30% {\n",
              "      border-color: transparent;\n",
              "      border-left-color: var(--fill-color);\n",
              "      border-top-color: var(--fill-color);\n",
              "      border-right-color: var(--fill-color);\n",
              "    }\n",
              "    40% {\n",
              "      border-color: transparent;\n",
              "      border-right-color: var(--fill-color);\n",
              "      border-top-color: var(--fill-color);\n",
              "    }\n",
              "    60% {\n",
              "      border-color: transparent;\n",
              "      border-right-color: var(--fill-color);\n",
              "    }\n",
              "    80% {\n",
              "      border-color: transparent;\n",
              "      border-right-color: var(--fill-color);\n",
              "      border-bottom-color: var(--fill-color);\n",
              "    }\n",
              "    90% {\n",
              "      border-color: transparent;\n",
              "      border-bottom-color: var(--fill-color);\n",
              "    }\n",
              "  }\n",
              "</style>\n",
              "\n",
              "  <script>\n",
              "    async function quickchart(key) {\n",
              "      const quickchartButtonEl =\n",
              "        document.querySelector('#' + key + ' button');\n",
              "      quickchartButtonEl.disabled = true;  // To prevent multiple clicks.\n",
              "      quickchartButtonEl.classList.add('colab-df-spinner');\n",
              "      try {\n",
              "        const charts = await google.colab.kernel.invokeFunction(\n",
              "            'suggestCharts', [key], {});\n",
              "      } catch (error) {\n",
              "        console.error('Error during call to suggestCharts:', error);\n",
              "      }\n",
              "      quickchartButtonEl.classList.remove('colab-df-spinner');\n",
              "      quickchartButtonEl.classList.add('colab-df-quickchart-complete');\n",
              "    }\n",
              "    (() => {\n",
              "      let quickchartButtonEl =\n",
              "        document.querySelector('#df-937e823c-9ed1-4d8a-95b8-6756030967f1 button');\n",
              "      quickchartButtonEl.style.display =\n",
              "        google.colab.kernel.accessAllowed ? 'block' : 'none';\n",
              "    })();\n",
              "  </script>\n",
              "</div>\n",
              "    </div>\n",
              "  </div>\n"
            ]
          },
          "metadata": {},
          "execution_count": 89
        }
      ]
    },
    {
      "cell_type": "code",
      "source": [
        "table = C_3_14.groupby(C_3).agg({'C14': ['count','mean', 'var']})\n",
        "table"
      ],
      "metadata": {
        "colab": {
          "base_uri": "https://localhost:8080/",
          "height": 206
        },
        "id": "VdxqEyOWm6K3",
        "outputId": "70d83065-0814-487e-eae6-05832590a3ea"
      },
      "execution_count": null,
      "outputs": [
        {
          "output_type": "execute_result",
          "data": {
            "text/plain": [
              "                 C14                          \n",
              "               count        mean           var\n",
              "C3                                            \n",
              "Current Smoker    43  563.069767  42674.399779\n",
              "Former           115  644.243478  53438.466514\n",
              "Never            157  583.305732  35209.931569"
            ],
            "text/html": [
              "\n",
              "  <div id=\"df-3166fd21-4a8d-45f7-8dd6-c2791a18f8e8\" class=\"colab-df-container\">\n",
              "    <div>\n",
              "<style scoped>\n",
              "    .dataframe tbody tr th:only-of-type {\n",
              "        vertical-align: middle;\n",
              "    }\n",
              "\n",
              "    .dataframe tbody tr th {\n",
              "        vertical-align: top;\n",
              "    }\n",
              "\n",
              "    .dataframe thead tr th {\n",
              "        text-align: left;\n",
              "    }\n",
              "\n",
              "    .dataframe thead tr:last-of-type th {\n",
              "        text-align: right;\n",
              "    }\n",
              "</style>\n",
              "<table border=\"1\" class=\"dataframe\">\n",
              "  <thead>\n",
              "    <tr>\n",
              "      <th></th>\n",
              "      <th colspan=\"3\" halign=\"left\">C14</th>\n",
              "    </tr>\n",
              "    <tr>\n",
              "      <th></th>\n",
              "      <th>count</th>\n",
              "      <th>mean</th>\n",
              "      <th>var</th>\n",
              "    </tr>\n",
              "    <tr>\n",
              "      <th>C3</th>\n",
              "      <th></th>\n",
              "      <th></th>\n",
              "      <th></th>\n",
              "    </tr>\n",
              "  </thead>\n",
              "  <tbody>\n",
              "    <tr>\n",
              "      <th>Current Smoker</th>\n",
              "      <td>43</td>\n",
              "      <td>563.069767</td>\n",
              "      <td>42674.399779</td>\n",
              "    </tr>\n",
              "    <tr>\n",
              "      <th>Former</th>\n",
              "      <td>115</td>\n",
              "      <td>644.243478</td>\n",
              "      <td>53438.466514</td>\n",
              "    </tr>\n",
              "    <tr>\n",
              "      <th>Never</th>\n",
              "      <td>157</td>\n",
              "      <td>583.305732</td>\n",
              "      <td>35209.931569</td>\n",
              "    </tr>\n",
              "  </tbody>\n",
              "</table>\n",
              "</div>\n",
              "    <div class=\"colab-df-buttons\">\n",
              "\n",
              "  <div class=\"colab-df-container\">\n",
              "    <button class=\"colab-df-convert\" onclick=\"convertToInteractive('df-3166fd21-4a8d-45f7-8dd6-c2791a18f8e8')\"\n",
              "            title=\"Convert this dataframe to an interactive table.\"\n",
              "            style=\"display:none;\">\n",
              "\n",
              "  <svg xmlns=\"http://www.w3.org/2000/svg\" height=\"24px\" viewBox=\"0 -960 960 960\">\n",
              "    <path d=\"M120-120v-720h720v720H120Zm60-500h600v-160H180v160Zm220 220h160v-160H400v160Zm0 220h160v-160H400v160ZM180-400h160v-160H180v160Zm440 0h160v-160H620v160ZM180-180h160v-160H180v160Zm440 0h160v-160H620v160Z\"/>\n",
              "  </svg>\n",
              "    </button>\n",
              "\n",
              "  <style>\n",
              "    .colab-df-container {\n",
              "      display:flex;\n",
              "      gap: 12px;\n",
              "    }\n",
              "\n",
              "    .colab-df-convert {\n",
              "      background-color: #E8F0FE;\n",
              "      border: none;\n",
              "      border-radius: 50%;\n",
              "      cursor: pointer;\n",
              "      display: none;\n",
              "      fill: #1967D2;\n",
              "      height: 32px;\n",
              "      padding: 0 0 0 0;\n",
              "      width: 32px;\n",
              "    }\n",
              "\n",
              "    .colab-df-convert:hover {\n",
              "      background-color: #E2EBFA;\n",
              "      box-shadow: 0px 1px 2px rgba(60, 64, 67, 0.3), 0px 1px 3px 1px rgba(60, 64, 67, 0.15);\n",
              "      fill: #174EA6;\n",
              "    }\n",
              "\n",
              "    .colab-df-buttons div {\n",
              "      margin-bottom: 4px;\n",
              "    }\n",
              "\n",
              "    [theme=dark] .colab-df-convert {\n",
              "      background-color: #3B4455;\n",
              "      fill: #D2E3FC;\n",
              "    }\n",
              "\n",
              "    [theme=dark] .colab-df-convert:hover {\n",
              "      background-color: #434B5C;\n",
              "      box-shadow: 0px 1px 3px 1px rgba(0, 0, 0, 0.15);\n",
              "      filter: drop-shadow(0px 1px 2px rgba(0, 0, 0, 0.3));\n",
              "      fill: #FFFFFF;\n",
              "    }\n",
              "  </style>\n",
              "\n",
              "    <script>\n",
              "      const buttonEl =\n",
              "        document.querySelector('#df-3166fd21-4a8d-45f7-8dd6-c2791a18f8e8 button.colab-df-convert');\n",
              "      buttonEl.style.display =\n",
              "        google.colab.kernel.accessAllowed ? 'block' : 'none';\n",
              "\n",
              "      async function convertToInteractive(key) {\n",
              "        const element = document.querySelector('#df-3166fd21-4a8d-45f7-8dd6-c2791a18f8e8');\n",
              "        const dataTable =\n",
              "          await google.colab.kernel.invokeFunction('convertToInteractive',\n",
              "                                                    [key], {});\n",
              "        if (!dataTable) return;\n",
              "\n",
              "        const docLinkHtml = 'Like what you see? Visit the ' +\n",
              "          '<a target=\"_blank\" href=https://colab.research.google.com/notebooks/data_table.ipynb>data table notebook</a>'\n",
              "          + ' to learn more about interactive tables.';\n",
              "        element.innerHTML = '';\n",
              "        dataTable['output_type'] = 'display_data';\n",
              "        await google.colab.output.renderOutput(dataTable, element);\n",
              "        const docLink = document.createElement('div');\n",
              "        docLink.innerHTML = docLinkHtml;\n",
              "        element.appendChild(docLink);\n",
              "      }\n",
              "    </script>\n",
              "  </div>\n",
              "\n",
              "\n",
              "<div id=\"df-c4a04ae1-1485-48cc-8ad6-b9c19284e95f\">\n",
              "  <button class=\"colab-df-quickchart\" onclick=\"quickchart('df-c4a04ae1-1485-48cc-8ad6-b9c19284e95f')\"\n",
              "            title=\"Suggest charts\"\n",
              "            style=\"display:none;\">\n",
              "\n",
              "<svg xmlns=\"http://www.w3.org/2000/svg\" height=\"24px\"viewBox=\"0 0 24 24\"\n",
              "     width=\"24px\">\n",
              "    <g>\n",
              "        <path d=\"M19 3H5c-1.1 0-2 .9-2 2v14c0 1.1.9 2 2 2h14c1.1 0 2-.9 2-2V5c0-1.1-.9-2-2-2zM9 17H7v-7h2v7zm4 0h-2V7h2v10zm4 0h-2v-4h2v4z\"/>\n",
              "    </g>\n",
              "</svg>\n",
              "  </button>\n",
              "\n",
              "<style>\n",
              "  .colab-df-quickchart {\n",
              "      --bg-color: #E8F0FE;\n",
              "      --fill-color: #1967D2;\n",
              "      --hover-bg-color: #E2EBFA;\n",
              "      --hover-fill-color: #174EA6;\n",
              "      --disabled-fill-color: #AAA;\n",
              "      --disabled-bg-color: #DDD;\n",
              "  }\n",
              "\n",
              "  [theme=dark] .colab-df-quickchart {\n",
              "      --bg-color: #3B4455;\n",
              "      --fill-color: #D2E3FC;\n",
              "      --hover-bg-color: #434B5C;\n",
              "      --hover-fill-color: #FFFFFF;\n",
              "      --disabled-bg-color: #3B4455;\n",
              "      --disabled-fill-color: #666;\n",
              "  }\n",
              "\n",
              "  .colab-df-quickchart {\n",
              "    background-color: var(--bg-color);\n",
              "    border: none;\n",
              "    border-radius: 50%;\n",
              "    cursor: pointer;\n",
              "    display: none;\n",
              "    fill: var(--fill-color);\n",
              "    height: 32px;\n",
              "    padding: 0;\n",
              "    width: 32px;\n",
              "  }\n",
              "\n",
              "  .colab-df-quickchart:hover {\n",
              "    background-color: var(--hover-bg-color);\n",
              "    box-shadow: 0 1px 2px rgba(60, 64, 67, 0.3), 0 1px 3px 1px rgba(60, 64, 67, 0.15);\n",
              "    fill: var(--button-hover-fill-color);\n",
              "  }\n",
              "\n",
              "  .colab-df-quickchart-complete:disabled,\n",
              "  .colab-df-quickchart-complete:disabled:hover {\n",
              "    background-color: var(--disabled-bg-color);\n",
              "    fill: var(--disabled-fill-color);\n",
              "    box-shadow: none;\n",
              "  }\n",
              "\n",
              "  .colab-df-spinner {\n",
              "    border: 2px solid var(--fill-color);\n",
              "    border-color: transparent;\n",
              "    border-bottom-color: var(--fill-color);\n",
              "    animation:\n",
              "      spin 1s steps(1) infinite;\n",
              "  }\n",
              "\n",
              "  @keyframes spin {\n",
              "    0% {\n",
              "      border-color: transparent;\n",
              "      border-bottom-color: var(--fill-color);\n",
              "      border-left-color: var(--fill-color);\n",
              "    }\n",
              "    20% {\n",
              "      border-color: transparent;\n",
              "      border-left-color: var(--fill-color);\n",
              "      border-top-color: var(--fill-color);\n",
              "    }\n",
              "    30% {\n",
              "      border-color: transparent;\n",
              "      border-left-color: var(--fill-color);\n",
              "      border-top-color: var(--fill-color);\n",
              "      border-right-color: var(--fill-color);\n",
              "    }\n",
              "    40% {\n",
              "      border-color: transparent;\n",
              "      border-right-color: var(--fill-color);\n",
              "      border-top-color: var(--fill-color);\n",
              "    }\n",
              "    60% {\n",
              "      border-color: transparent;\n",
              "      border-right-color: var(--fill-color);\n",
              "    }\n",
              "    80% {\n",
              "      border-color: transparent;\n",
              "      border-right-color: var(--fill-color);\n",
              "      border-bottom-color: var(--fill-color);\n",
              "    }\n",
              "    90% {\n",
              "      border-color: transparent;\n",
              "      border-bottom-color: var(--fill-color);\n",
              "    }\n",
              "  }\n",
              "</style>\n",
              "\n",
              "  <script>\n",
              "    async function quickchart(key) {\n",
              "      const quickchartButtonEl =\n",
              "        document.querySelector('#' + key + ' button');\n",
              "      quickchartButtonEl.disabled = true;  // To prevent multiple clicks.\n",
              "      quickchartButtonEl.classList.add('colab-df-spinner');\n",
              "      try {\n",
              "        const charts = await google.colab.kernel.invokeFunction(\n",
              "            'suggestCharts', [key], {});\n",
              "      } catch (error) {\n",
              "        console.error('Error during call to suggestCharts:', error);\n",
              "      }\n",
              "      quickchartButtonEl.classList.remove('colab-df-spinner');\n",
              "      quickchartButtonEl.classList.add('colab-df-quickchart-complete');\n",
              "    }\n",
              "    (() => {\n",
              "      let quickchartButtonEl =\n",
              "        document.querySelector('#df-c4a04ae1-1485-48cc-8ad6-b9c19284e95f button');\n",
              "      quickchartButtonEl.style.display =\n",
              "        google.colab.kernel.accessAllowed ? 'block' : 'none';\n",
              "    })();\n",
              "  </script>\n",
              "</div>\n",
              "    </div>\n",
              "  </div>\n"
            ]
          },
          "metadata": {},
          "execution_count": 90
        }
      ]
    },
    {
      "cell_type": "code",
      "source": [
        "C_14.mean(), table.iloc[0][1], table.iloc[1][0]"
      ],
      "metadata": {
        "colab": {
          "base_uri": "https://localhost:8080/"
        },
        "id": "3SWfnwuV2cbX",
        "outputId": "50750853-58b6-49ce-cc8d-a852bcddfb49"
      },
      "execution_count": null,
      "outputs": [
        {
          "output_type": "execute_result",
          "data": {
            "text/plain": [
              "(602.7904761904762, 563.0697674418604, 115.0)"
            ]
          },
          "metadata": {},
          "execution_count": 91
        }
      ]
    },
    {
      "cell_type": "code",
      "source": [
        "table.iloc[1][0] * (table.iloc[1][1] - C_14.mean()) ** 2"
      ],
      "metadata": {
        "colab": {
          "base_uri": "https://localhost:8080/"
        },
        "id": "zpKVZJ850LhF",
        "outputId": "d79c02fa-cee8-4b82-d235-1401a6baa0c6"
      },
      "execution_count": null,
      "outputs": [
        {
          "output_type": "execute_result",
          "data": {
            "text/plain": [
              "197610.40877452437"
            ]
          },
          "metadata": {},
          "execution_count": 92
        }
      ]
    },
    {
      "cell_type": "code",
      "source": [
        "groupped = [C_14[C_3 == c].values for c in list(C_3_val.keys())]\n",
        "groupped"
      ],
      "metadata": {
        "colab": {
          "base_uri": "https://localhost:8080/"
        },
        "id": "VaM5-3-XuyMn",
        "outputId": "c90bc930-fca2-49eb-d59f-02766c8c3f61"
      },
      "execution_count": null,
      "outputs": [
        {
          "output_type": "execute_result",
          "data": {
            "text/plain": [
              "[array([ 624,  179,  665,  611,  388,  384,  317,  531,  624,  677,  592,\n",
              "         360,  549,  539,  421,  449,  927,  516,  429,  485,  566,  378,\n",
              "         419,  569,  670,  602,  573,  777,  481,  296,  388,  418,  486,\n",
              "         791,  516,  403,  560,  366, 1102, 1193,  796,  669,  926]),\n",
              " array([ 915,  721,  615,  654,  562,  935, 1249, 1035, 1262, 1727,  684,\n",
              "         537,  809,  822,  901,  818,  623, 1002,  564,  456,  838,  574,\n",
              "         321,  783,  692,  730,  587,  831,  560,  393,  810,  525,  542,\n",
              "         558,  504,  783,  435,  362,  619,  426,  592,  799,  497,  622,\n",
              "         522,  551,  797,  532,  422,  527,  512,  464,  523,  953,  917,\n",
              "         404,  466,  558,  476,  733,  659,  617,  520,  474,  643,  627,\n",
              "         428,  434,  413,  849,  727,  700,  499,  853,  532,  396,  620,\n",
              "         443,  489, 1443,  470,  566,  556,  394,  323,  734,  709,  561,\n",
              "         506,  817,  498,  436,  291,  293,  636,  584,  880,  770,  537,\n",
              "         466,  759,  823,  746,  368,  800,  854,  581,  721,  494,  444,\n",
              "         836,  986,  752,  216,  684]),\n",
              " array([ 727,  799,  834,  825,  517,  741,  679,  507,  852,  904,  760,\n",
              "         697,  676,  691,  599,  526,  632,  502,  476,  546,  411,  475,\n",
              "         586,  648,  550,  258,  299,  634,  592,  383,  247,  407,  397,\n",
              "         768,  227, 1031,  187,  693,  511,  476,  369,  472,  426,  466,\n",
              "         423,  756,  456,  456,  406,  519,  588,  564,  669,  572,  727,\n",
              "         544,  586,  516,  709,  629, 1139,  372,  418,  564,  431,  402,\n",
              "         760,  599,  495,  436,  416,  701,  553,  652,  621,  784,  352,\n",
              "         677,  400,  701,  453,  592,  561,  694,  437,  657,  493,  344,\n",
              "         277,  464,  542,  824,  602,  569,  399,  491,  748,  602,  502,\n",
              "         527,  491,  663,  526,  737,  713,  437,  609,  471,  499,  559,\n",
              "         701,  332,  879,  625,  614,  525,  432,  364,  387,  413,  628,\n",
              "         578,  875,  647,  820,  557,  520,  521,  600,  254,  644,  684,\n",
              "         535,  473,  647,  376,  864,  589,  510,  543,  194,  426,  516,\n",
              "         792,  719,  995,  725, 1517,  649,  710,  946,  794,  738,  986,\n",
              "         328,  502,  826])]"
            ]
          },
          "metadata": {},
          "execution_count": 93
        }
      ]
    },
    {
      "cell_type": "code",
      "source": [
        "st.bartlett(*groupped)"
      ],
      "metadata": {
        "colab": {
          "base_uri": "https://localhost:8080/"
        },
        "id": "O1wXsSHp3zqd",
        "outputId": "bc7f03af-81e5-4723-8b45-34fa0e59366f"
      },
      "execution_count": null,
      "outputs": [
        {
          "output_type": "execute_result",
          "data": {
            "text/plain": [
              "BartlettResult(statistic=5.7821551516644965, pvalue=0.05551635728304457)"
            ]
          },
          "metadata": {},
          "execution_count": 94
        }
      ]
    },
    {
      "cell_type": "code",
      "source": [
        "D_b = 0\n",
        "D_w = 0\n",
        "for i in range(3):\n",
        "  D_b += table.iloc[i][0] * (table.iloc[i][1] - C_14.mean()) ** 2\n",
        "  D_w += table.iloc[i][0] * table.iloc[i][2]\n",
        "D_b /= len(C_14)\n",
        "D_w /= len(C_14)\n",
        "D_b, D_w"
      ],
      "metadata": {
        "colab": {
          "base_uri": "https://localhost:8080/"
        },
        "id": "ylbl1661uo4-",
        "outputId": "d8b68d2b-af9a-4048-a7d3-b0feeeec4318"
      },
      "execution_count": null,
      "outputs": [
        {
          "output_type": "execute_result",
          "data": {
            "text/plain": [
              "(1031.932931052181, 42883.752685743675)"
            ]
          },
          "metadata": {},
          "execution_count": 95
        }
      ]
    },
    {
      "cell_type": "code",
      "source": [
        "k = 3\n",
        "n = len(C_14)"
      ],
      "metadata": {
        "id": "AZpf4qPn0z78"
      },
      "execution_count": null,
      "outputs": []
    },
    {
      "cell_type": "code",
      "source": [
        "#Межгрупповая дисперсия - Группировочный признак\n",
        "deg_free_mgr = k - 1\n",
        "d_mgr_unbiased = n * D_b / deg_free_mgr\n",
        "print(\"Межгрупповая дисперсия:\", \"Межгрупповая дисперсия = {}, Число степеней свободы = {}, Несмещённая оценка = {}\".format(D_b, deg_free_mgr, d_mgr_unbiased))"
      ],
      "metadata": {
        "colab": {
          "base_uri": "https://localhost:8080/"
        },
        "id": "ltnVb8kynRc-",
        "outputId": "df53282e-259b-49d2-c2d9-85457fe87d82"
      },
      "execution_count": null,
      "outputs": [
        {
          "output_type": "stream",
          "name": "stdout",
          "text": [
            "Межгрупповая дисперсия: Межгрупповая дисперсия = 1031.932931052181, Число степеней свободы = 2, Несмещённая оценка = 162529.4366407185\n"
          ]
        }
      ]
    },
    {
      "cell_type": "code",
      "source": [
        "#Внутригрупповая дисперсия - Группировочный признак\n",
        "deg_free_ingr = n - k\n",
        "d_ingr_unbiased = n * D_w / deg_free_ingr\n",
        "print(\"Внутригрупповая дисперсия:\", \"Внутригрупповая дисперсия = {}, Число степеней свободы = {}, Несмещённая оценка = {}\".format(D_w, deg_free_ingr, d_ingr_unbiased))"
      ],
      "metadata": {
        "colab": {
          "base_uri": "https://localhost:8080/"
        },
        "id": "mLkipI0MtaJ1",
        "outputId": "1fff940b-888e-4de4-a1ac-b7daea32cd09"
      },
      "execution_count": null,
      "outputs": [
        {
          "output_type": "stream",
          "name": "stdout",
          "text": [
            "Внутригрупповая дисперсия: Внутригрупповая дисперсия = 42883.752685743675, Число степеней свободы = 312, Несмещённая оценка = 43296.09646156814\n"
          ]
        }
      ]
    },
    {
      "cell_type": "code",
      "source": [
        "#Общая дисперсия - Группировочный признак\n",
        "deg_free = n - 1\n",
        "d_unbiased = n * C_14.var() / deg_free_ingr\n",
        "print(\"Общая дисперсия:\", \"Общая дисперсия = {}, Число степеней свободы = {}, Несмещённая оценка = {}\".format(C_14.var(), deg_free, d_unbiased))"
      ],
      "metadata": {
        "colab": {
          "base_uri": "https://localhost:8080/"
        },
        "id": "JtfG9UkQtj09",
        "outputId": "c1eb5ff5-e725-473b-b1d9-d058c2f9747f"
      },
      "execution_count": null,
      "outputs": [
        {
          "output_type": "stream",
          "name": "stdout",
          "text": [
            "Общая дисперсия: Общая дисперсия = 43637.31901728845, Число степеней свободы = 314, Несмещённая оценка = 44056.90862322391\n"
          ]
        }
      ]
    },
    {
      "cell_type": "code",
      "source": [
        "D_b / D_w"
      ],
      "metadata": {
        "colab": {
          "base_uri": "https://localhost:8080/"
        },
        "id": "foZmF1cT1tRj",
        "outputId": "ef130d45-ea98-4a2c-a43a-82bcdbd7a04d"
      },
      "execution_count": null,
      "outputs": [
        {
          "output_type": "execute_result",
          "data": {
            "text/plain": [
              "0.024063494130616"
            ]
          },
          "metadata": {},
          "execution_count": 100
        }
      ]
    },
    {
      "cell_type": "code",
      "source": [
        "(D_b / D_w) ** 0.5"
      ],
      "metadata": {
        "colab": {
          "base_uri": "https://localhost:8080/"
        },
        "id": "qym1W4o539yq",
        "outputId": "d19228b6-dade-4fbe-dfac-1dd8361c4962"
      },
      "execution_count": null,
      "outputs": [
        {
          "output_type": "execute_result",
          "data": {
            "text/plain": [
              "0.15512412491490807"
            ]
          },
          "metadata": {},
          "execution_count": 101
        }
      ]
    },
    {
      "cell_type": "code",
      "source": [
        "st.f_oneway(*groupped)"
      ],
      "metadata": {
        "colab": {
          "base_uri": "https://localhost:8080/"
        },
        "id": "V8po6fIy7XdX",
        "outputId": "2f9537db-1d80-48d9-a1e2-efb1191fcfeb"
      },
      "execution_count": null,
      "outputs": [
        {
          "output_type": "execute_result",
          "data": {
            "text/plain": [
              "F_onewayResult(statistic=3.790757228603147, pvalue=0.02362540112051114)"
            ]
          },
          "metadata": {},
          "execution_count": 102
        }
      ]
    },
    {
      "cell_type": "markdown",
      "source": [
        "8. Корреляционный анализ"
      ],
      "metadata": {
        "id": "Br3P1ofB7zeA"
      }
    },
    {
      "cell_type": "code",
      "source": [
        "st.pearsonr(C_11, C_12)"
      ],
      "metadata": {
        "colab": {
          "base_uri": "https://localhost:8080/"
        },
        "id": "avhBMWDF7X0S",
        "outputId": "09cd7667-e527-434a-8d17-31122f4401c1"
      },
      "execution_count": null,
      "outputs": [
        {
          "output_type": "execute_result",
          "data": {
            "text/plain": [
              "PearsonRResult(statistic=0.052866903502100424, pvalue=0.3496757486979532)"
            ]
          },
          "metadata": {},
          "execution_count": 103
        }
      ]
    },
    {
      "cell_type": "code",
      "source": [
        "st.spearmanr(C_11, C_12)"
      ],
      "metadata": {
        "colab": {
          "base_uri": "https://localhost:8080/"
        },
        "id": "sDJmAlODadDg",
        "outputId": "77789e77-9c91-43de-c605-8da5aed63e79"
      },
      "execution_count": null,
      "outputs": [
        {
          "output_type": "execute_result",
          "data": {
            "text/plain": [
              "SignificanceResult(statistic=0.1962857839707222, pvalue=0.0004582828568191489)"
            ]
          },
          "metadata": {},
          "execution_count": 104
        }
      ]
    },
    {
      "cell_type": "code",
      "source": [
        "st.kendalltau(C_11, C_12)"
      ],
      "metadata": {
        "colab": {
          "base_uri": "https://localhost:8080/"
        },
        "id": "bqjC2_KUa31F",
        "outputId": "6ead29f2-f44d-4c37-bf46-1dcd5af704af"
      },
      "execution_count": null,
      "outputs": [
        {
          "output_type": "execute_result",
          "data": {
            "text/plain": [
              "SignificanceResult(statistic=0.1328626107882256, pvalue=0.0004387531397532802)"
            ]
          },
          "metadata": {},
          "execution_count": 105
        }
      ]
    },
    {
      "cell_type": "code",
      "source": [
        "st_per, rest = st.pearsonr(C_11, C_12)\n",
        "alpha = [0.01, 0.05, 0.1]\n",
        "for al in alpha:\n",
        "  middle = st_per + st_per * (1 - st_per ** 2) / (2 * n)\n",
        "  diff = st.norm(0, 1).ppf(1 - al / 2) * (1 - st_per ** 2) / n ** 0.5\n",
        "  print(str(al) + \": {} - {}\".format(middle - diff, middle + diff))"
      ],
      "metadata": {
        "colab": {
          "base_uri": "https://localhost:8080/"
        },
        "id": "8j-sVXZxa7XH",
        "outputId": "e3a30551-50ff-4b0b-be19-abae0bb43dbd"
      },
      "execution_count": null,
      "outputs": [
        {
          "output_type": "stream",
          "name": "stdout",
          "text": [
            "0.01: -0.09177532548783002 - 0.19767649485803723\n",
            "0.05: -0.05717222942292522 - 0.16307339879313246\n",
            "0.1: -0.03946739422903508 - 0.1453685635992423\n"
          ]
        }
      ]
    },
    {
      "cell_type": "code",
      "source": [
        "st_per, rest = st.pearsonr(C_11, C_12)\n",
        "st_sp, rest = st.spearmanr(C_11, C_12)\n",
        "st_ken, rest = st.kendalltau(C_11, C_12)\n",
        "z_pearson = st_per * ((n - 2) ** 0.5) / ((1 - st_per ** 2) ** 0.5)\n",
        "z_spirman = st_sp * ((n - 2) ** 0.5) / ((1 - st_sp ** 2) ** 0.5)\n",
        "z_kendall = st_ken * ((9 * n * (n - 1)) / (2 * (2 * n + 5))) ** 0.5\n",
        "\n",
        "z_pearson, z_spirman, z_kendall"
      ],
      "metadata": {
        "colab": {
          "base_uri": "https://localhost:8080/"
        },
        "id": "LbswyHJEf4hs",
        "outputId": "67c751a1-ba20-4a0e-aa1c-09e2fb943e58"
      },
      "execution_count": null,
      "outputs": [
        {
          "output_type": "execute_result",
          "data": {
            "text/plain": [
              "(0.9366208022814079, 3.541544634764964, 3.5175661825110005)"
            ]
          },
          "metadata": {},
          "execution_count": 107
        }
      ]
    },
    {
      "cell_type": "markdown",
      "source": [
        "8.2. Расчёт множественных коэффициентов корреляции"
      ],
      "metadata": {
        "id": "k20P4xYGiGYL"
      }
    },
    {
      "cell_type": "code",
      "source": [
        "C_8 = df.C8\n",
        "C_10 = df.C10\n",
        "C_13 = df.C13"
      ],
      "metadata": {
        "id": "KGNFEnegghuA"
      },
      "execution_count": null,
      "outputs": []
    },
    {
      "cell_type": "code",
      "source": [
        "df[['C8' , 'C10' , 'C13']].corr(method = 'kendall')"
      ],
      "metadata": {
        "colab": {
          "base_uri": "https://localhost:8080/",
          "height": 143
        },
        "id": "2RMX9rcVjGMB",
        "outputId": "d6e68013-a702-4cbc-f342-2354a64165c2"
      },
      "execution_count": null,
      "outputs": [
        {
          "output_type": "execute_result",
          "data": {
            "text/plain": [
              "           C8       C10       C13\n",
              "C8   1.000000  0.148631  0.128215\n",
              "C10  0.148631  1.000000 -0.092647\n",
              "C13  0.128215 -0.092647  1.000000"
            ],
            "text/html": [
              "\n",
              "  <div id=\"df-757e1955-450a-43d8-bd06-7f6717ed2b26\" class=\"colab-df-container\">\n",
              "    <div>\n",
              "<style scoped>\n",
              "    .dataframe tbody tr th:only-of-type {\n",
              "        vertical-align: middle;\n",
              "    }\n",
              "\n",
              "    .dataframe tbody tr th {\n",
              "        vertical-align: top;\n",
              "    }\n",
              "\n",
              "    .dataframe thead th {\n",
              "        text-align: right;\n",
              "    }\n",
              "</style>\n",
              "<table border=\"1\" class=\"dataframe\">\n",
              "  <thead>\n",
              "    <tr style=\"text-align: right;\">\n",
              "      <th></th>\n",
              "      <th>C8</th>\n",
              "      <th>C10</th>\n",
              "      <th>C13</th>\n",
              "    </tr>\n",
              "  </thead>\n",
              "  <tbody>\n",
              "    <tr>\n",
              "      <th>C8</th>\n",
              "      <td>1.000000</td>\n",
              "      <td>0.148631</td>\n",
              "      <td>0.128215</td>\n",
              "    </tr>\n",
              "    <tr>\n",
              "      <th>C10</th>\n",
              "      <td>0.148631</td>\n",
              "      <td>1.000000</td>\n",
              "      <td>-0.092647</td>\n",
              "    </tr>\n",
              "    <tr>\n",
              "      <th>C13</th>\n",
              "      <td>0.128215</td>\n",
              "      <td>-0.092647</td>\n",
              "      <td>1.000000</td>\n",
              "    </tr>\n",
              "  </tbody>\n",
              "</table>\n",
              "</div>\n",
              "    <div class=\"colab-df-buttons\">\n",
              "\n",
              "  <div class=\"colab-df-container\">\n",
              "    <button class=\"colab-df-convert\" onclick=\"convertToInteractive('df-757e1955-450a-43d8-bd06-7f6717ed2b26')\"\n",
              "            title=\"Convert this dataframe to an interactive table.\"\n",
              "            style=\"display:none;\">\n",
              "\n",
              "  <svg xmlns=\"http://www.w3.org/2000/svg\" height=\"24px\" viewBox=\"0 -960 960 960\">\n",
              "    <path d=\"M120-120v-720h720v720H120Zm60-500h600v-160H180v160Zm220 220h160v-160H400v160Zm0 220h160v-160H400v160ZM180-400h160v-160H180v160Zm440 0h160v-160H620v160ZM180-180h160v-160H180v160Zm440 0h160v-160H620v160Z\"/>\n",
              "  </svg>\n",
              "    </button>\n",
              "\n",
              "  <style>\n",
              "    .colab-df-container {\n",
              "      display:flex;\n",
              "      gap: 12px;\n",
              "    }\n",
              "\n",
              "    .colab-df-convert {\n",
              "      background-color: #E8F0FE;\n",
              "      border: none;\n",
              "      border-radius: 50%;\n",
              "      cursor: pointer;\n",
              "      display: none;\n",
              "      fill: #1967D2;\n",
              "      height: 32px;\n",
              "      padding: 0 0 0 0;\n",
              "      width: 32px;\n",
              "    }\n",
              "\n",
              "    .colab-df-convert:hover {\n",
              "      background-color: #E2EBFA;\n",
              "      box-shadow: 0px 1px 2px rgba(60, 64, 67, 0.3), 0px 1px 3px 1px rgba(60, 64, 67, 0.15);\n",
              "      fill: #174EA6;\n",
              "    }\n",
              "\n",
              "    .colab-df-buttons div {\n",
              "      margin-bottom: 4px;\n",
              "    }\n",
              "\n",
              "    [theme=dark] .colab-df-convert {\n",
              "      background-color: #3B4455;\n",
              "      fill: #D2E3FC;\n",
              "    }\n",
              "\n",
              "    [theme=dark] .colab-df-convert:hover {\n",
              "      background-color: #434B5C;\n",
              "      box-shadow: 0px 1px 3px 1px rgba(0, 0, 0, 0.15);\n",
              "      filter: drop-shadow(0px 1px 2px rgba(0, 0, 0, 0.3));\n",
              "      fill: #FFFFFF;\n",
              "    }\n",
              "  </style>\n",
              "\n",
              "    <script>\n",
              "      const buttonEl =\n",
              "        document.querySelector('#df-757e1955-450a-43d8-bd06-7f6717ed2b26 button.colab-df-convert');\n",
              "      buttonEl.style.display =\n",
              "        google.colab.kernel.accessAllowed ? 'block' : 'none';\n",
              "\n",
              "      async function convertToInteractive(key) {\n",
              "        const element = document.querySelector('#df-757e1955-450a-43d8-bd06-7f6717ed2b26');\n",
              "        const dataTable =\n",
              "          await google.colab.kernel.invokeFunction('convertToInteractive',\n",
              "                                                    [key], {});\n",
              "        if (!dataTable) return;\n",
              "\n",
              "        const docLinkHtml = 'Like what you see? Visit the ' +\n",
              "          '<a target=\"_blank\" href=https://colab.research.google.com/notebooks/data_table.ipynb>data table notebook</a>'\n",
              "          + ' to learn more about interactive tables.';\n",
              "        element.innerHTML = '';\n",
              "        dataTable['output_type'] = 'display_data';\n",
              "        await google.colab.output.renderOutput(dataTable, element);\n",
              "        const docLink = document.createElement('div');\n",
              "        docLink.innerHTML = docLinkHtml;\n",
              "        element.appendChild(docLink);\n",
              "      }\n",
              "    </script>\n",
              "  </div>\n",
              "\n",
              "\n",
              "<div id=\"df-89e63336-e607-4403-8b5a-3cc2b5be4d27\">\n",
              "  <button class=\"colab-df-quickchart\" onclick=\"quickchart('df-89e63336-e607-4403-8b5a-3cc2b5be4d27')\"\n",
              "            title=\"Suggest charts\"\n",
              "            style=\"display:none;\">\n",
              "\n",
              "<svg xmlns=\"http://www.w3.org/2000/svg\" height=\"24px\"viewBox=\"0 0 24 24\"\n",
              "     width=\"24px\">\n",
              "    <g>\n",
              "        <path d=\"M19 3H5c-1.1 0-2 .9-2 2v14c0 1.1.9 2 2 2h14c1.1 0 2-.9 2-2V5c0-1.1-.9-2-2-2zM9 17H7v-7h2v7zm4 0h-2V7h2v10zm4 0h-2v-4h2v4z\"/>\n",
              "    </g>\n",
              "</svg>\n",
              "  </button>\n",
              "\n",
              "<style>\n",
              "  .colab-df-quickchart {\n",
              "      --bg-color: #E8F0FE;\n",
              "      --fill-color: #1967D2;\n",
              "      --hover-bg-color: #E2EBFA;\n",
              "      --hover-fill-color: #174EA6;\n",
              "      --disabled-fill-color: #AAA;\n",
              "      --disabled-bg-color: #DDD;\n",
              "  }\n",
              "\n",
              "  [theme=dark] .colab-df-quickchart {\n",
              "      --bg-color: #3B4455;\n",
              "      --fill-color: #D2E3FC;\n",
              "      --hover-bg-color: #434B5C;\n",
              "      --hover-fill-color: #FFFFFF;\n",
              "      --disabled-bg-color: #3B4455;\n",
              "      --disabled-fill-color: #666;\n",
              "  }\n",
              "\n",
              "  .colab-df-quickchart {\n",
              "    background-color: var(--bg-color);\n",
              "    border: none;\n",
              "    border-radius: 50%;\n",
              "    cursor: pointer;\n",
              "    display: none;\n",
              "    fill: var(--fill-color);\n",
              "    height: 32px;\n",
              "    padding: 0;\n",
              "    width: 32px;\n",
              "  }\n",
              "\n",
              "  .colab-df-quickchart:hover {\n",
              "    background-color: var(--hover-bg-color);\n",
              "    box-shadow: 0 1px 2px rgba(60, 64, 67, 0.3), 0 1px 3px 1px rgba(60, 64, 67, 0.15);\n",
              "    fill: var(--button-hover-fill-color);\n",
              "  }\n",
              "\n",
              "  .colab-df-quickchart-complete:disabled,\n",
              "  .colab-df-quickchart-complete:disabled:hover {\n",
              "    background-color: var(--disabled-bg-color);\n",
              "    fill: var(--disabled-fill-color);\n",
              "    box-shadow: none;\n",
              "  }\n",
              "\n",
              "  .colab-df-spinner {\n",
              "    border: 2px solid var(--fill-color);\n",
              "    border-color: transparent;\n",
              "    border-bottom-color: var(--fill-color);\n",
              "    animation:\n",
              "      spin 1s steps(1) infinite;\n",
              "  }\n",
              "\n",
              "  @keyframes spin {\n",
              "    0% {\n",
              "      border-color: transparent;\n",
              "      border-bottom-color: var(--fill-color);\n",
              "      border-left-color: var(--fill-color);\n",
              "    }\n",
              "    20% {\n",
              "      border-color: transparent;\n",
              "      border-left-color: var(--fill-color);\n",
              "      border-top-color: var(--fill-color);\n",
              "    }\n",
              "    30% {\n",
              "      border-color: transparent;\n",
              "      border-left-color: var(--fill-color);\n",
              "      border-top-color: var(--fill-color);\n",
              "      border-right-color: var(--fill-color);\n",
              "    }\n",
              "    40% {\n",
              "      border-color: transparent;\n",
              "      border-right-color: var(--fill-color);\n",
              "      border-top-color: var(--fill-color);\n",
              "    }\n",
              "    60% {\n",
              "      border-color: transparent;\n",
              "      border-right-color: var(--fill-color);\n",
              "    }\n",
              "    80% {\n",
              "      border-color: transparent;\n",
              "      border-right-color: var(--fill-color);\n",
              "      border-bottom-color: var(--fill-color);\n",
              "    }\n",
              "    90% {\n",
              "      border-color: transparent;\n",
              "      border-bottom-color: var(--fill-color);\n",
              "    }\n",
              "  }\n",
              "</style>\n",
              "\n",
              "  <script>\n",
              "    async function quickchart(key) {\n",
              "      const quickchartButtonEl =\n",
              "        document.querySelector('#' + key + ' button');\n",
              "      quickchartButtonEl.disabled = true;  // To prevent multiple clicks.\n",
              "      quickchartButtonEl.classList.add('colab-df-spinner');\n",
              "      try {\n",
              "        const charts = await google.colab.kernel.invokeFunction(\n",
              "            'suggestCharts', [key], {});\n",
              "      } catch (error) {\n",
              "        console.error('Error during call to suggestCharts:', error);\n",
              "      }\n",
              "      quickchartButtonEl.classList.remove('colab-df-spinner');\n",
              "      quickchartButtonEl.classList.add('colab-df-quickchart-complete');\n",
              "    }\n",
              "    (() => {\n",
              "      let quickchartButtonEl =\n",
              "        document.querySelector('#df-89e63336-e607-4403-8b5a-3cc2b5be4d27 button');\n",
              "      quickchartButtonEl.style.display =\n",
              "        google.colab.kernel.accessAllowed ? 'block' : 'none';\n",
              "    })();\n",
              "  </script>\n",
              "</div>\n",
              "    </div>\n",
              "  </div>\n"
            ]
          },
          "metadata": {},
          "execution_count": 109
        }
      ]
    },
    {
      "cell_type": "code",
      "source": [
        "st.kendalltau(C_8, C_10)[1]"
      ],
      "metadata": {
        "colab": {
          "base_uri": "https://localhost:8080/"
        },
        "id": "g0ulRZqUjIIN",
        "outputId": "7c8b3853-942e-41b8-8dc0-53b222851727"
      },
      "execution_count": null,
      "outputs": [
        {
          "output_type": "execute_result",
          "data": {
            "text/plain": [
              "8.737266513108192e-05"
            ]
          },
          "metadata": {},
          "execution_count": 110
        }
      ]
    },
    {
      "cell_type": "code",
      "source": [
        "st.kendalltau(C_8, C_13)[1]"
      ],
      "metadata": {
        "colab": {
          "base_uri": "https://localhost:8080/"
        },
        "id": "Ts6WARmFjXmR",
        "outputId": "e08687e7-8480-4c32-9dba-1f1a2ff3139e"
      },
      "execution_count": null,
      "outputs": [
        {
          "output_type": "execute_result",
          "data": {
            "text/plain": [
              "0.0007265007258609368"
            ]
          },
          "metadata": {},
          "execution_count": 111
        }
      ]
    },
    {
      "cell_type": "code",
      "source": [
        "st.kendalltau(C_10, C_13)[1]"
      ],
      "metadata": {
        "colab": {
          "base_uri": "https://localhost:8080/"
        },
        "id": "YSOqlXiOkKfp",
        "outputId": "7d4687ce-ce98-4a95-ba9a-b9afa040d90d"
      },
      "execution_count": null,
      "outputs": [
        {
          "output_type": "execute_result",
          "data": {
            "text/plain": [
              "0.014336459244298085"
            ]
          },
          "metadata": {},
          "execution_count": 112
        }
      ]
    },
    {
      "cell_type": "code",
      "source": [
        "ranks = np.array([C_8.rank(), C_10.rank(), C_13.rank()])\n",
        "k = 3\n",
        "W = 0\n",
        "for i in range(n):\n",
        "  sum1 = 0\n",
        "  for j in range(k):\n",
        "    sum1 += ranks[j][i]\n",
        "  sum1 = (sum1 - k * (n + 1) / 2) ** 2\n",
        "  W += sum1\n",
        "W *= (12 / (k ** 2 * (n ** 3 - n)))\n",
        "W"
      ],
      "metadata": {
        "colab": {
          "base_uri": "https://localhost:8080/"
        },
        "id": "qgiu4GhsnAEG",
        "outputId": "ab8ca582-1f09-45e4-9b5b-deb7d06efa96"
      },
      "execution_count": null,
      "outputs": [
        {
          "output_type": "execute_result",
          "data": {
            "text/plain": [
              "0.3937182376511571"
            ]
          },
          "metadata": {},
          "execution_count": 113
        }
      ]
    },
    {
      "cell_type": "code",
      "source": [
        "st_W = n * (k - 1) * W\n",
        "p_value = 1 - st.chi2(n - 1).ppf(st_W)\n",
        "st_W, p_value"
      ],
      "metadata": {
        "colab": {
          "base_uri": "https://localhost:8080/"
        },
        "id": "_T0XHQw2l1Zj",
        "outputId": "5dca1790-2a01-4049-dfb5-0c5ddd5c85ba"
      },
      "execution_count": null,
      "outputs": [
        {
          "output_type": "execute_result",
          "data": {
            "text/plain": [
              "(248.04248972022899, nan)"
            ]
          },
          "metadata": {},
          "execution_count": 114
        }
      ]
    },
    {
      "cell_type": "markdown",
      "source": [
        "9. Регрессионный анализ"
      ],
      "metadata": {
        "id": "vcWZMWC7qTyR"
      }
    },
    {
      "cell_type": "code",
      "source": [
        "C_6 = df.C6\n",
        "С_14 = df.C14\n",
        "cor_per, rest = st.pearsonr(C_6, C_14)\n",
        "b0 = C_14.mean() - cor_per * C_14.std() / C_6.std() * C_6.mean()\n",
        "b1 = cor_per * C_14.std() / C_6.std()\n",
        "b0, b1"
      ],
      "metadata": {
        "colab": {
          "base_uri": "https://localhost:8080/"
        },
        "id": "Mpljq8Qgpmh4",
        "outputId": "d3f0e5d1-43db-41ad-db2b-6fea1be238dd"
      },
      "execution_count": null,
      "outputs": [
        {
          "output_type": "execute_result",
          "data": {
            "text/plain": [
              "(643.2421313446065, -0.02251498706688208)"
            ]
          },
          "metadata": {},
          "execution_count": 115
        }
      ]
    },
    {
      "cell_type": "code",
      "source": [
        "C_14.mean()"
      ],
      "metadata": {
        "colab": {
          "base_uri": "https://localhost:8080/"
        },
        "id": "OilgZpIAwARn",
        "outputId": "d4b9c3a0-1ebf-4b4e-de76-0b7f9e3058f3"
      },
      "execution_count": null,
      "outputs": [
        {
          "output_type": "execute_result",
          "data": {
            "text/plain": [
              "602.7904761904762"
            ]
          },
          "metadata": {},
          "execution_count": 116
        }
      ]
    },
    {
      "cell_type": "code",
      "source": [
        "k = 2\n",
        "fact_v = 1 / n * sum(((C_6 * b1 + b0) - C_14.mean()) ** 2)\n",
        "fact_v, k - 1, n * (k - 1) * fact_v"
      ],
      "metadata": {
        "colab": {
          "base_uri": "https://localhost:8080/"
        },
        "id": "jzhKYq71toCa",
        "outputId": "5f6351a0-3eae-418e-cf7a-884dc9f771fc"
      },
      "execution_count": null,
      "outputs": [
        {
          "output_type": "execute_result",
          "data": {
            "text/plain": [
              "(233.89664981980155, 1, 73677.44469323748)"
            ]
          },
          "metadata": {},
          "execution_count": 117
        }
      ]
    },
    {
      "cell_type": "code",
      "source": [
        "rest_v = 1 / n * sum((C_14 - (C_6 * b1 + b0)) ** 2)\n",
        "rest_v, n - k, n / (n - k) * rest_v"
      ],
      "metadata": {
        "colab": {
          "base_uri": "https://localhost:8080/"
        },
        "id": "clto2En7ueUC",
        "outputId": "5ef23f84-2064-4e7e-8988-5717716c12ac"
      },
      "execution_count": null,
      "outputs": [
        {
          "output_type": "execute_result",
          "data": {
            "text/plain": [
              "(43264.891195985176, 313, 43541.344174873266)"
            ]
          },
          "metadata": {},
          "execution_count": 118
        }
      ]
    },
    {
      "cell_type": "code",
      "source": [
        "C_14.var(), n - 1, n / (n - 1) * C_14.var()"
      ],
      "metadata": {
        "colab": {
          "base_uri": "https://localhost:8080/"
        },
        "id": "TlEUZ6W1u5Co",
        "outputId": "e6df0bc7-f6a0-49af-8d35-f25eaafc7b36"
      },
      "execution_count": null,
      "outputs": [
        {
          "output_type": "execute_result",
          "data": {
            "text/plain": [
              "(43637.31901728845, 314, 43776.291370846695)"
            ]
          },
          "metadata": {},
          "execution_count": 119
        }
      ]
    },
    {
      "cell_type": "code",
      "source": [
        "43264.891195985176+233.89664981980155"
      ],
      "metadata": {
        "colab": {
          "base_uri": "https://localhost:8080/"
        },
        "id": "DfopDfTox-Li",
        "outputId": "29fe19d0-ed69-4169-e471-495f6c745f83"
      },
      "execution_count": null,
      "outputs": [
        {
          "output_type": "execute_result",
          "data": {
            "text/plain": [
              "43498.787845804974"
            ]
          },
          "metadata": {},
          "execution_count": 120
        }
      ]
    },
    {
      "cell_type": "markdown",
      "source": [
        "plt.scatter(C_6, C_14)\n",
        "x = np.linspace(0, 8000, 70000)\n",
        "y = x * b1 + b0\n",
        "plt.plot(x, y, c = 'red')\n",
        "plt.show()"
      ],
      "metadata": {
        "id": "RTJeYjvWxITd"
      }
    },
    {
      "cell_type": "code",
      "source": [
        "fact_v / C_14.var(), (fact_v / C_14.var()) ** 0.5"
      ],
      "metadata": {
        "colab": {
          "base_uri": "https://localhost:8080/"
        },
        "id": "pMBfnJNFyY-F",
        "outputId": "b6cb43d5-2c51-4cf3-deba-d836cba042bf"
      },
      "execution_count": null,
      "outputs": [
        {
          "output_type": "execute_result",
          "data": {
            "text/plain": [
              "(0.005360014205435838, 0.07321211788656191)"
            ]
          },
          "metadata": {},
          "execution_count": 121
        }
      ]
    },
    {
      "cell_type": "markdown",
      "source": [
        "9.1.2. Интервальные оценки линейной регрессионной модели"
      ],
      "metadata": {
        "id": "uWhAy_zNzhX4"
      }
    },
    {
      "cell_type": "code",
      "source": [
        "interval = st.t(n - 2).ppf(1 - alpha/2) * (n / (n - k) * rest_v) ** 0.5 * (sum([x ** 2 for x in C_6]) / (n ** 2 * C_6.var())) ** 0.5"
      ],
      "metadata": {
        "colab": {
          "base_uri": "https://localhost:8080/",
          "height": 176
        },
        "id": "ZSmwdiJxzJCf",
        "outputId": "203c942a-e5c1-4714-b4d6-2b47352c5c47"
      },
      "execution_count": null,
      "outputs": [
        {
          "output_type": "error",
          "ename": "TypeError",
          "evalue": "ignored",
          "traceback": [
            "\u001b[0;31m---------------------------------------------------------------------------\u001b[0m",
            "\u001b[0;31mTypeError\u001b[0m                                 Traceback (most recent call last)",
            "\u001b[0;32m<ipython-input-122-57f7dc2ecfc2>\u001b[0m in \u001b[0;36m<cell line: 1>\u001b[0;34m()\u001b[0m\n\u001b[0;32m----> 1\u001b[0;31m \u001b[0minterval\u001b[0m \u001b[0;34m=\u001b[0m \u001b[0mst\u001b[0m\u001b[0;34m.\u001b[0m\u001b[0mt\u001b[0m\u001b[0;34m(\u001b[0m\u001b[0mn\u001b[0m \u001b[0;34m-\u001b[0m \u001b[0;36m2\u001b[0m\u001b[0;34m)\u001b[0m\u001b[0;34m.\u001b[0m\u001b[0mppf\u001b[0m\u001b[0;34m(\u001b[0m\u001b[0;36m1\u001b[0m \u001b[0;34m-\u001b[0m \u001b[0malpha\u001b[0m\u001b[0;34m/\u001b[0m\u001b[0;36m2\u001b[0m\u001b[0;34m)\u001b[0m \u001b[0;34m*\u001b[0m \u001b[0;34m(\u001b[0m\u001b[0mn\u001b[0m \u001b[0;34m/\u001b[0m \u001b[0;34m(\u001b[0m\u001b[0mn\u001b[0m \u001b[0;34m-\u001b[0m \u001b[0mk\u001b[0m\u001b[0;34m)\u001b[0m \u001b[0;34m*\u001b[0m \u001b[0mrest_v\u001b[0m\u001b[0;34m)\u001b[0m \u001b[0;34m**\u001b[0m \u001b[0;36m0.5\u001b[0m \u001b[0;34m*\u001b[0m \u001b[0;34m(\u001b[0m\u001b[0msum\u001b[0m\u001b[0;34m(\u001b[0m\u001b[0;34m[\u001b[0m\u001b[0mx\u001b[0m \u001b[0;34m**\u001b[0m \u001b[0;36m2\u001b[0m \u001b[0;32mfor\u001b[0m \u001b[0mx\u001b[0m \u001b[0;32min\u001b[0m \u001b[0mC_6\u001b[0m\u001b[0;34m]\u001b[0m\u001b[0;34m)\u001b[0m \u001b[0;34m/\u001b[0m \u001b[0;34m(\u001b[0m\u001b[0mn\u001b[0m \u001b[0;34m**\u001b[0m \u001b[0;36m2\u001b[0m \u001b[0;34m*\u001b[0m \u001b[0mC_6\u001b[0m\u001b[0;34m.\u001b[0m\u001b[0mvar\u001b[0m\u001b[0;34m(\u001b[0m\u001b[0;34m)\u001b[0m\u001b[0;34m)\u001b[0m\u001b[0;34m)\u001b[0m \u001b[0;34m**\u001b[0m \u001b[0;36m0.5\u001b[0m\u001b[0;34m\u001b[0m\u001b[0;34m\u001b[0m\u001b[0m\n\u001b[0m",
            "\u001b[0;31mTypeError\u001b[0m: unsupported operand type(s) for /: 'list' and 'int'"
          ]
        }
      ]
    },
    {
      "cell_type": "code",
      "source": [
        "alpha = [0.01, 0.05, 0.1]\n",
        "print(\"b0:\")\n",
        "for al in alpha:\n",
        "  diff =  st.t(n - 2).ppf(1 - al / 2) * (n / (n - k) * rest_v) ** 0.5 * ((sum([x ** 2 for x in C_6])) / (n ** 2 * C_6.var())) ** 0.5\n",
        "  print(str(al) + \": {} - {}\".format(b0 - diff, b0 + diff))"
      ],
      "metadata": {
        "id": "jixSzVgSz2lE"
      },
      "execution_count": null,
      "outputs": []
    },
    {
      "cell_type": "code",
      "source": [
        "alpha = [0.01, 0.05, 0.1]\n",
        "print(\"b1:\")\n",
        "for al in alpha:\n",
        "  diff =  st.t(n - 2).ppf(1 - al / 2) * (n / (n - k) * rest_v) ** 0.5 * (1 / (n * C_6.var())) ** 0.5\n",
        "  print(str(al) + \": {} - {}\".format(b0 - diff, b0 + diff))"
      ],
      "metadata": {
        "id": "DTotPDld1Dhi"
      },
      "execution_count": null,
      "outputs": []
    },
    {
      "cell_type": "code",
      "source": [
        "sns.regplot(x = C_6 , y = C_14 , ci = 90)"
      ],
      "metadata": {
        "id": "S5JKT0Ey12fp"
      },
      "execution_count": null,
      "outputs": []
    },
    {
      "cell_type": "code",
      "source": [
        "C_6_14 = df[['C6', 'C14']]\n",
        "C_6_14.iloc[0][0]"
      ],
      "metadata": {
        "id": "sfv5IlmL5oRR"
      },
      "execution_count": null,
      "outputs": []
    },
    {
      "cell_type": "code",
      "source": [
        "C_6_14"
      ],
      "metadata": {
        "id": "gNm5EboD6OTg"
      },
      "execution_count": null,
      "outputs": []
    },
    {
      "cell_type": "code",
      "source": [
        "plt.scatter(C_6, [C_6_14.iloc[i][1] - (b0 + b1 * C_6_14.iloc[i][0]) for i in range(n)])\n",
        "plt.xlabel(\"$C6$\")\n",
        "plt.ylabel(\"$C14$\")\n",
        "plt.show()"
      ],
      "metadata": {
        "id": "HrZ1OsfV3ev8"
      },
      "execution_count": null,
      "outputs": []
    },
    {
      "cell_type": "code",
      "source": [
        "statistics = (n - 2) * fact_v / rest_v\n",
        "p_value = 1 - st.f(1, n - 2).cdf(statistics)\n",
        "statistics, p_value"
      ],
      "metadata": {
        "id": "1vooQVWS6yO6"
      },
      "execution_count": null,
      "outputs": []
    },
    {
      "cell_type": "markdown",
      "source": [
        "9.2 Линейная регрессионная модель общего вида"
      ],
      "metadata": {
        "id": "NX5NhQfz_q46"
      }
    },
    {
      "cell_type": "code",
      "source": [
        "F = np.array([[1, x, x ** 2] for x in C_6])\n",
        "b = np.linalg.inv(F.transpose().dot(F)).dot(F.transpose()).dot(np.array(C_14))\n",
        "print(b)"
      ],
      "metadata": {
        "id": "az1dbbPR72-r"
      },
      "execution_count": null,
      "outputs": []
    },
    {
      "cell_type": "code",
      "source": [
        "k = 3\n",
        "fact_v = 1 / n * sum(((C_6 ** 2 * b[2] + C_6 * b[1] + b[0]) - C_14.mean()) ** 2)\n",
        "fact_v, k - 1, n * (k - 1) * fact_v"
      ],
      "metadata": {
        "id": "eHcdp8Rr-V2i"
      },
      "execution_count": null,
      "outputs": []
    },
    {
      "cell_type": "code",
      "source": [
        "rest_v = 1 / n * sum((C_14 - (C_6 ** 2 * b[2] + C_6 * b[1] + b[0])) ** 2)\n",
        "rest_v, n - k, n / (n - k) * rest_v"
      ],
      "metadata": {
        "id": "uHR2ZfJVASgn"
      },
      "execution_count": null,
      "outputs": []
    },
    {
      "cell_type": "code",
      "source": [
        "C_14.var(), n - 1, n / (n - 1) * C_14.var()"
      ],
      "metadata": {
        "id": "nv0dwQ4dAXmX"
      },
      "execution_count": null,
      "outputs": []
    },
    {
      "cell_type": "code",
      "source": [
        "43097.09073166146 + 401.6971141435241"
      ],
      "metadata": {
        "id": "r5h-URtLA57_"
      },
      "execution_count": null,
      "outputs": []
    },
    {
      "cell_type": "code",
      "source": [
        "fact_v / C_14.var(), (fact_v / C_14.var()) ** 0.5"
      ],
      "metadata": {
        "id": "w1tppS6sBRi8"
      },
      "execution_count": null,
      "outputs": []
    },
    {
      "cell_type": "code",
      "source": [
        "plt.scatter(C_6, C_14)\n",
        "x_copy = sorted(list(x))\n",
        "x_min = min(x)\n",
        "x_max = max(x)\n",
        "x = np.linspace(C_6.min(), C_6.max(), 100)\n",
        "plt.plot(x, [(b[0] + b[1] * x1 + b[2] * x1 ** 2) for x1 in x], c = 'r')\n",
        "plt.xlabel(\"$C6$\")\n",
        "plt.ylabel(\"$C14$\")\n",
        "plt.show()"
      ],
      "metadata": {
        "id": "Fb07QuvZB-SP"
      },
      "execution_count": null,
      "outputs": []
    },
    {
      "cell_type": "code",
      "source": [
        "plt.scatter(C_6, [C_6_14.iloc[i][1] - (b[0] + b[1] * C_6_14.iloc[i][0] + b[2] * (C_6_14.iloc[i][0] ** 2)) for i in range(n)])\n",
        "plt.xlabel(\"$C6$\")\n",
        "plt.ylabel(\"$C14$\")\n",
        "plt.show()"
      ],
      "metadata": {
        "id": "HnNMDt9uC0GR"
      },
      "execution_count": null,
      "outputs": []
    },
    {
      "cell_type": "code",
      "source": [
        "statistics = (fact_v / C_14.var()) * (n - k) / (1 - (fact_v / C_14.var())) / (k - 1)\n",
        "p_value = 1 - st.f(k - 1, n - k).cdf(statistics)\n",
        "statistics, p_value"
      ],
      "metadata": {
        "id": "SbnIIZ9zDPED"
      },
      "execution_count": null,
      "outputs": []
    },
    {
      "cell_type": "markdown",
      "source": [
        "9.3 Множественная линейная регрессионная модель"
      ],
      "metadata": {
        "id": "6SCR_kAiFuQ2"
      }
    },
    {
      "cell_type": "code",
      "source": [
        "C_6_12 = df[['C6', 'C12']]\n",
        "C_6_12.iloc[0][0]"
      ],
      "metadata": {
        "id": "LhNKeUCIGNSR"
      },
      "execution_count": null,
      "outputs": []
    },
    {
      "cell_type": "code",
      "source": [
        "F = np.array([[1, C_6_12.iloc[i][0], C_6_12.iloc[i][1]] for i in range(n)])\n",
        "b = np.linalg.inv(F.transpose().dot(F)).dot(F.transpose()).dot(np.array(C_14))\n",
        "print(b)"
      ],
      "metadata": {
        "id": "g7cZrKRuE8bc"
      },
      "execution_count": null,
      "outputs": []
    },
    {
      "cell_type": "code",
      "source": [
        "k = 3\n",
        "fact_v = 1 / n * sum([((C_6_12.iloc[i][1] * b[2] + C_6_12.iloc[i][0] * b[1] + b[0]) - C_14.mean()) ** 2 for i in range(n)])\n",
        "fact_v, k - 1, n * (k - 1) * fact_v"
      ],
      "metadata": {
        "id": "lTGxOU_7G0Zl"
      },
      "execution_count": null,
      "outputs": []
    },
    {
      "cell_type": "code",
      "source": [
        "rest_v = 1 / n * sum([(C_14[i] - (C_6_12.iloc[i][1] * b[2] + C_6_12.iloc[i][0] * b[1] + b[0])) ** 2 for i in range(n)])\n",
        "rest_v, n - k, n / (n - k) * rest_v"
      ],
      "metadata": {
        "id": "zt55t-nFHWTh"
      },
      "execution_count": null,
      "outputs": []
    },
    {
      "cell_type": "code",
      "source": [
        "C_14.var(), n - 1, n / (n - 1) * C_14.var()"
      ],
      "metadata": {
        "id": "hCSMUT_rHWQ5"
      },
      "execution_count": null,
      "outputs": []
    },
    {
      "cell_type": "code",
      "source": [
        "291.4154168339831+43207.37242897104"
      ],
      "metadata": {
        "id": "GkqVMJTOIcO4"
      },
      "execution_count": null,
      "outputs": []
    },
    {
      "cell_type": "code",
      "source": [
        "fact_v / C_14.var(), (fact_v / C_14.var()) ** 0.5"
      ],
      "metadata": {
        "id": "yLFcNBesI86W"
      },
      "execution_count": null,
      "outputs": []
    }
  ]
}